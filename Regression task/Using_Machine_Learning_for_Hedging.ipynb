{
 "cells": [
  {
   "cell_type": "markdown",
   "metadata": {},
   "source": [
    "Before you turn this problem in, make sure everything runs as expected. First, **restart the kernel** (in the menubar, select Kernel$\\rightarrow$Restart) and then **run all cells** (in the menubar, select Cell$\\rightarrow$Run All).\n",
    "\n",
    "Make sure you fill in any place that says `YOUR CODE HERE` or \"YOUR ANSWER HERE\", as well as your name and collaborators below:"
   ]
  },
  {
   "cell_type": "code",
   "execution_count": 1,
   "metadata": {},
   "outputs": [],
   "source": [
    "NAME = \"Yipei Zhang\"\n",
    "COLLABORATORS = \"\""
   ]
  },
  {
   "cell_type": "markdown",
   "metadata": {},
   "source": [
    "---"
   ]
  },
  {
   "cell_type": "markdown",
   "metadata": {},
   "source": [
    "$$\n",
    "\\newcommand{\\x}{\\mathbf{x}}\n",
    "\\newcommand{\\y}{\\mathbf{y}}\n",
    "\\newcommand{\\price}{{p}}\n",
    "\\newcommand{\\ret}{{r}}\n",
    "\\newcommand{\\tp}{{(t)}}\n",
    "\\newcommand{\\aapl}{{\\text{AAPL}}}\n",
    "\\newcommand{\\ba}{{\\text{BA}}}\n",
    "\\newcommand{\\spy}{{\\text{SPY}}}\n",
    "$$"
   ]
  },
  {
   "cell_type": "markdown",
   "metadata": {},
   "source": [
    "# Assignment: Using Machine Learning for Hedging\n",
    "\n",
    "Welcome to the first assignment !\n",
    "\n",
    "# Problem description\n",
    "\n",
    "We will solve a Regression task that is very common in Finance\n",
    "- Given the return of \"the market\", predict the return of a particular stock\n",
    "\n",
    "That is\n",
    "- Given the return of a proxy for \"the market\" at time $t$, predict the return of, e.g., Apple at time $t$.\n",
    "\n",
    "As we will explain,\n",
    "being able to predict the relationship between two financial instruments opens up possibilities\n",
    "- Use one instrument to \"hedge\" or reduce the risk of holding the other\n",
    "- Create strategies whose returns are independent of \"the market\"\n",
    "    - Hopefully make a profit regardless of whether the market goes up or down"
   ]
  },
  {
   "cell_type": "markdown",
   "metadata": {},
   "source": [
    "## Goal\n",
    "\n",
    "You will create models of increasing complexity in order to explain the return of Apple (ticker $\\aapl$)\n",
    "- The first model will have a single feature: return of the market proxy, ticker $\\spy$\n",
    "- Subsequent models will add the return of other tickers as additional features"
   ]
  },
  {
   "cell_type": "markdown",
   "metadata": {},
   "source": [
    "## Learning Objectives\n",
    "- Learn how to solve a Regression task\n",
    "- Become facile in the `sklearn` toolkit for Machine Learning"
   ]
  },
  {
   "cell_type": "markdown",
   "metadata": {},
   "source": [
    "## How to report your answers\n",
    "We will mix explanation of the topic with tasks that you must complete. \n",
    "\n",
    "Look for \n",
    "the string \"**Question**\" to find a task that you must perform.\n",
    "\n",
    "Most of the tasks will require you to create some code at the location indicated by\n",
    "\n",
    ">`# YOUR CODE HERE\n",
    "raise NotImplementedError()`\n",
    "\n",
    "- Replace `raise NotImplementedError()` with your own code"
   ]
  },
  {
   "cell_type": "markdown",
   "metadata": {},
   "source": [
    "# Standard imports"
   ]
  },
  {
   "cell_type": "code",
   "execution_count": 2,
   "metadata": {
    "deletable": false,
    "editable": false,
    "nbgrader": {
     "cell_type": "code",
     "checksum": "7a3fa8b4455f72468d048d394686587d",
     "grade": false,
     "grade_id": "cell-99b5f8a456b0246a",
     "locked": true,
     "schema_version": 3,
     "solution": false,
     "task": false
    }
   },
   "outputs": [],
   "source": [
    "# Standard imports\n",
    "import numpy as np\n",
    "import pandas as pd\n",
    "import matplotlib.pyplot as plt\n",
    "\n",
    "import sklearn\n",
    "\n",
    "import os\n",
    "import math\n",
    "\n",
    "%matplotlib inline"
   ]
  },
  {
   "cell_type": "code",
   "execution_count": 3,
   "metadata": {
    "deletable": false,
    "editable": false,
    "nbgrader": {
     "cell_type": "code",
     "checksum": "7b882bb499968178ee01aeae81e5685a",
     "grade": false,
     "grade_id": "cell-4423599e20464120",
     "locked": true,
     "schema_version": 3,
     "solution": false,
     "task": false
    }
   },
   "outputs": [],
   "source": [
    "from IPython.core.interactiveshell import InteractiveShell\n",
    "InteractiveShell.ast_node_interactivity = \"all\"\n",
    "\n",
    "# Reload all modules imported with %aimport\n",
    "%load_ext autoreload\n",
    "%autoreload 1\n",
    "\n",
    "# Import nn_helper module\n",
    "import helper\n",
    "%aimport helper\n",
    "\n",
    "helper = helper.HELPER()"
   ]
  },
  {
   "cell_type": "markdown",
   "metadata": {},
   "source": [
    "# Get The data\n",
    "\n",
    "\n",
    "The first step in our Recipe is Get the Data.\n",
    "\n",
    "The data are the daily prices of a number of individual equities and equity indices.\n",
    "\n",
    "The prices are arranged in a series in ascending date order (a timeseries).\n",
    "- There are many `.csv` files for equity or index in the directory `DATA_DIR`"
   ]
  },
  {
   "cell_type": "markdown",
   "metadata": {},
   "source": [
    "## API for students\n",
    "\n",
    "We will define some utility routines to help you.\n",
    "\n",
    "In this way, you can focus on the learning objectives rather than data manipulation.\n",
    "\n",
    "This is not representative of the \"real world\"; you will need to complete data manipulation tasks in later assignments."
   ]
  },
  {
   "cell_type": "markdown",
   "metadata": {},
   "source": [
    "We provide a class `HELPER`\n",
    "- Instantiated as \n",
    ">    `helper = helper.HELPER()`\n",
    "\n",
    "With methods\n",
    "- `getData`:\n",
    "    - Get examples for a list of equity tickers and an index ticker.\n",
    "    - Called as\n",
    "    > `data = helper.getData( tickers, index_ticker, attrs)`\n",
    "        - `tickers` is a list of tickers\n",
    "        - `index` is the ticker of the index  \n",
    "        - `attrs` is a list of data attributes\n",
    "   "
   ]
  },
  {
   "cell_type": "markdown",
   "metadata": {},
   "source": [
    "**Question:**\n",
    "- Create code to\n",
    "    - Get the adjusted close price of $\\aapl$ and $\\spy$ \n",
    "    - Assign the result to variable `data`\n",
    "\n",
    "**Hint:**\n",
    "- Use the `getData` method from the helper class\n",
    "    - The list of tickers contains just the single ticker $\\aapl$\n",
    "    - The index ticker is $\\spy$\n",
    "    - The list of attributes is the single attribute `Adj Close`\n"
   ]
  },
  {
   "cell_type": "code",
   "execution_count": 4,
   "metadata": {
    "deletable": false,
    "nbgrader": {
     "cell_type": "code",
     "checksum": "99daafa3cfc32b40857d84ccee25e107",
     "grade": false,
     "grade_id": "cell-8ff9c8c031ab3ee3",
     "locked": false,
     "schema_version": 3,
     "solution": true,
     "task": false
    }
   },
   "outputs": [],
   "source": [
    "ticker = [\"AAPL\"]\n",
    "index_ticker = \"SPY\"\n",
    "dateAttr = \"Dt\"\n",
    "priceAttr = [\"Adj Close\"]\n",
    "\n",
    "# YOUR CODE HERE\n",
    "data = helper.getData(ticker, index_ticker, priceAttr)"
   ]
  },
  {
   "cell_type": "markdown",
   "metadata": {},
   "source": [
    "# Have a look at the data\n",
    "\n",
    "We will not go through all steps in the Recipe, nor in depth.\n",
    "\n",
    "But here's a peek at the data you retrieved"
   ]
  },
  {
   "cell_type": "code",
   "execution_count": 5,
   "metadata": {},
   "outputs": [
    {
     "data": {
      "text/html": [
       "<div>\n",
       "<style scoped>\n",
       "    .dataframe tbody tr th:only-of-type {\n",
       "        vertical-align: middle;\n",
       "    }\n",
       "\n",
       "    .dataframe tbody tr th {\n",
       "        vertical-align: top;\n",
       "    }\n",
       "\n",
       "    .dataframe thead th {\n",
       "        text-align: right;\n",
       "    }\n",
       "</style>\n",
       "<table border=\"1\" class=\"dataframe\">\n",
       "  <thead>\n",
       "    <tr style=\"text-align: right;\">\n",
       "      <th></th>\n",
       "      <th>AAPL_Adj_Close</th>\n",
       "      <th>SPY_Adj_Close</th>\n",
       "    </tr>\n",
       "    <tr>\n",
       "      <th>Dt</th>\n",
       "      <th></th>\n",
       "      <th></th>\n",
       "    </tr>\n",
       "  </thead>\n",
       "  <tbody>\n",
       "    <tr>\n",
       "      <th>2017-01-03</th>\n",
       "      <td>110.9539</td>\n",
       "      <td>213.8428</td>\n",
       "    </tr>\n",
       "    <tr>\n",
       "      <th>2017-01-04</th>\n",
       "      <td>110.8297</td>\n",
       "      <td>215.1149</td>\n",
       "    </tr>\n",
       "    <tr>\n",
       "      <th>2017-01-05</th>\n",
       "      <td>111.3933</td>\n",
       "      <td>214.9440</td>\n",
       "    </tr>\n",
       "    <tr>\n",
       "      <th>2017-01-06</th>\n",
       "      <td>112.6351</td>\n",
       "      <td>215.7131</td>\n",
       "    </tr>\n",
       "    <tr>\n",
       "      <th>2017-01-09</th>\n",
       "      <td>113.6668</td>\n",
       "      <td>215.0010</td>\n",
       "    </tr>\n",
       "  </tbody>\n",
       "</table>\n",
       "</div>"
      ],
      "text/plain": [
       "            AAPL_Adj_Close  SPY_Adj_Close\n",
       "Dt                                       \n",
       "2017-01-03        110.9539       213.8428\n",
       "2017-01-04        110.8297       215.1149\n",
       "2017-01-05        111.3933       214.9440\n",
       "2017-01-06        112.6351       215.7131\n",
       "2017-01-09        113.6668       215.0010"
      ]
     },
     "execution_count": 5,
     "metadata": {},
     "output_type": "execute_result"
    }
   ],
   "source": [
    "data.head()"
   ]
  },
  {
   "cell_type": "code",
   "execution_count": 6,
   "metadata": {},
   "outputs": [
    {
     "name": "stdout",
     "output_type": "stream",
     "text": [
      "Start time:  2017-01-03\n",
      "End time:  2019-10-31\n"
     ]
    }
   ],
   "source": [
    "# Print the Start time and End time\n",
    "print(\"Start time: \", data.index.min())\n",
    "print(\"End time: \", data.index.max())"
   ]
  },
  {
   "cell_type": "markdown",
   "metadata": {},
   "source": [
    "Expected outputs should be similar to this:   \n",
    "<img src=\"./images/data.png\" width=\"300\" height=\"200\"/>\n"
   ]
  },
  {
   "cell_type": "markdown",
   "metadata": {},
   "source": [
    "## Create DataFrame of price levels for the training examples\n",
    "\n",
    "The training examples will be stored in a DataFrame.\n",
    "\n",
    "- The DataFrame should have two columns: the price level for the ticker and for the index\n",
    "- The minimum date in the DataFrame should be **the trading day before** `start_dt`\n",
    "    - That is: the latest date for which there is data and which is less than `start_dt`\n",
    "    - For example, if `start_dt` is a Monday, the \"day before\" would be Friday, not Sunday.\n",
    "        - Similarly for the case where the day before `start_dt` is a holiday\n",
    "- The maximum date in the DataFrame should be `end_dt`\n",
    "\n",
    "The reason we are adding one day prior to `start_dt`\n",
    "- We want to have returns (percent price changes) from `start_dt` onwards\n",
    "- In order to compute a return for `start_dt`, we need the level from the prior day\n",
    "\n",
    "**Question:**\n",
    "\n",
    "- Complete the function `getRange()`\n",
    "    - To return the subset of rows of our examples\n",
    "    - Beginning on the **trading day before** date `start_dt`\n",
    "    - Ending on date `end_dt`\n"
   ]
  },
  {
   "cell_type": "code",
   "execution_count": 7,
   "metadata": {
    "deletable": false,
    "nbgrader": {
     "cell_type": "code",
     "checksum": "9e524ba9acd205d806ff10bf9b73694b",
     "grade": false,
     "grade_id": "cell-c0e65a9eb6acc70e",
     "locked": false,
     "schema_version": 3,
     "solution": true,
     "task": false
    }
   },
   "outputs": [
    {
     "name": "stdout",
     "output_type": "stream",
     "text": [
      "            AAPL_Adj_Close  SPY_Adj_Close\n",
      "Dt                                       \n",
      "2017-12-29        164.2589       258.2823\n",
      "2018-01-02        167.1999       260.1310\n",
      "2018-01-03        167.1708       261.7763\n",
      "2018-01-04        167.9473       262.8796\n",
      "2018-01-05        169.8594       264.6314\n"
     ]
    }
   ],
   "source": [
    "start_dt = \"2018-01-02\"\n",
    "end_dt = \"2018-09-28\"\n",
    "train_data_price = None\n",
    "# Set variable train_data_price to be a DataFrame with two columns\n",
    "## AAPL_Adj_Close, SPY_Adj_Close\n",
    "## with dates as the index\n",
    "## Having minimum date equal to THE DAY BEFORE start_dt\n",
    "## Having maximum date equal to end_dt\n",
    "\n",
    "def getRange(df, start_dt, end_dt):\n",
    "    '''\n",
    "    Return the the subset of rows of DataFrame df\n",
    "    restricted to dates between start_dt and end_dt\n",
    "    \n",
    "    Parameters\n",
    "    ----------\n",
    "    df: DataFrame\n",
    "    - The data from which we will take a subset\n",
    "    \n",
    "    start_dt: String\n",
    "    - Start date\n",
    "    \n",
    "    end_dt: String\n",
    "    - End date\n",
    "    '''\n",
    "    # YOUR CODE HERE\n",
    "    list_df = df.index.tolist() #convert the data into a list of strs\n",
    "    start_row = list_df.index(start_dt)-1\n",
    "    end_row = list_df.index(end_dt)     #Find the number of rows of the day before startdate and end date\n",
    "    return df[start_row: end_row+1]\n",
    "    \n",
    "    \n",
    "train_data_price = getRange(data, start_dt, end_dt)\n",
    "print(train_data_price.head())"
   ]
  },
  {
   "cell_type": "code",
   "execution_count": null,
   "metadata": {
    "deletable": false,
    "editable": false,
    "nbgrader": {
     "cell_type": "code",
     "checksum": "482c8ef100d585354a116197b61461b2",
     "grade": true,
     "grade_id": "cell-e1a885451770427c",
     "locked": true,
     "points": 0,
     "schema_version": 3,
     "solution": false,
     "task": false
    }
   },
   "outputs": [],
   "source": []
  },
  {
   "cell_type": "markdown",
   "metadata": {},
   "source": [
    "As you can see, each row has two attributes for one  date\n",
    "- Price (adjusted close) of ticker $\\aapl$\n",
    "- Price (adjusted close) of the market proxy $\\spy$"
   ]
  },
  {
   "cell_type": "markdown",
   "metadata": {},
   "source": [
    "# Create test set\n",
    "\n",
    "We just created a set of training examples as a subset of the rows of `data`.\n",
    "\n",
    "We will do the same to create a set of test examples.\n",
    "\n",
    "**Question:**\n",
    "\n",
    "Set variable `test_data_price`\n",
    "- To  the subset of rows of our examples\n",
    "- Beginning on the **trading day before** date `test_start_dt`\n",
    "- Ending on date `test_end_dt`\n",
    "\n",
    "**Hint**\n",
    "- Use `getRange` with different arguments for the dates"
   ]
  },
  {
   "cell_type": "code",
   "execution_count": 8,
   "metadata": {
    "deletable": false,
    "nbgrader": {
     "cell_type": "code",
     "checksum": "4205b5f9982a2ab078f780c7179a4bfb",
     "grade": false,
     "grade_id": "cell-27491348296befb7",
     "locked": false,
     "schema_version": 3,
     "solution": true,
     "task": false
    }
   },
   "outputs": [
    {
     "name": "stdout",
     "output_type": "stream",
     "text": [
      "            AAPL_Adj_Close  SPY_Adj_Close\n",
      "Dt                                       \n",
      "2018-09-28        221.6252       285.0555\n",
      "2018-10-01        223.1175       286.0458\n",
      "2018-10-02        225.1006       285.8791\n",
      "2018-10-03        227.8398       286.0359\n",
      "2018-10-04        223.8342       283.8004\n",
      "...                    ...            ...\n",
      "2018-12-24        144.6565       231.1158\n",
      "2018-12-26        154.8435       242.7929\n",
      "2018-12-27        153.8386       244.6569\n",
      "2018-12-28        153.9174       244.3412\n",
      "2018-12-31        155.4050       246.4814\n",
      "\n",
      "[64 rows x 2 columns]\n"
     ]
    }
   ],
   "source": [
    "test_start_dt = '2018-10-01'\n",
    "test_end_dt = '2018-12-31'\n",
    "\n",
    "# YOUR CODE HERE\n",
    "test_data_price = getRange(data, test_start_dt, test_end_dt)\n",
    "print(test_data_price)\n"
   ]
  },
  {
   "cell_type": "code",
   "execution_count": null,
   "metadata": {
    "deletable": false,
    "editable": false,
    "nbgrader": {
     "cell_type": "code",
     "checksum": "77ea6bca32280e1a59a3c0d2703c84d1",
     "grade": true,
     "grade_id": "cell-1a2300597ee154da",
     "locked": true,
     "points": 0,
     "schema_version": 3,
     "solution": false,
     "task": false
    }
   },
   "outputs": [],
   "source": []
  },
  {
   "cell_type": "markdown",
   "metadata": {},
   "source": [
    "# Prepare the data\n",
    "\n",
    "In Finance, it is very typical to work with *relative changes* (e.g., percent price change)\n",
    "rather than *absolute changes* (price change) or *levels* (prices).\n",
    "\n",
    "Without going into too much detail\n",
    "- Relative changes are more consistent over time than either absolute changes or levels\n",
    "- The consistency can facilitate the use of data over a longer time period\n",
    "\n",
    "For example, let's suppose that prices are given in units of USD (dollar)\n",
    "- A price change of 1 USD is more likely for a stock with price level 100 than price level 10\n",
    "    - A relative change of $1/100 = 1 %$ is more likely than a change of $1/10 = 10%$\n",
    "    - So relative changes are less dependent on price level than either price changes or price levels\n",
    "    \n",
    "    \n",
    "To compute the *return* (percent change in prices)\n",
    " for ticker $\\aapl$ (Apple) on date $t$\n",
    "\n",
    "$$\n",
    "\\begin{array}[lll]\\\\\n",
    "\\ret_\\aapl^\\tp = \\frac{\\price _\\aapl^\\tp}{\\price _\\aapl^{(t-1)}} -1 \\\\\n",
    "\\text{where} \\\\\n",
    "\\price_\\aapl^\\tp \\text{ denotes the price of ticker } \\aapl \\text{ on date } t \\\\\n",
    "\\ret_\\aapl^\\tp \\text{ denotes the return of ticker } \\aapl \\text{ on date } t\n",
    "\\end{array}\n",
    "$$\n"
   ]
  },
  {
   "cell_type": "markdown",
   "metadata": {},
   "source": [
    "# Transformations: transform the training data\n",
    "\n",
    "Our first task is to transform the data from price levels (Adj Close)\n",
    "to Percent Price Changes.\n",
    "\n",
    "Moreover, the date range for the training data is specified to be in the range\n",
    "from `start_dt` (start date) to `end_dt`, inclusive on both sides.\n",
    "\n",
    "**Note**\n",
    "\n",
    "We will need to apply **identical** transformations to both the training and test data examples.\n",
    "\n",
    "In the cells that immediately follow, we will do this only for the **training data**\n",
    "\n",
    "You will need to repeat these steps for the test data in a subsequent step.\n",
    "\n",
    "You are well-advised to create subroutines or functions to accomplish these tasks !\n",
    "- You will apply them first to transform training data\n",
    "- You will apply them a second time to transform the test data\n",
    "\n",
    "We will achieve this is several steps"
   ]
  },
  {
   "cell_type": "markdown",
   "metadata": {},
   "source": [
    "## Create DataFrame of returns for training examples\n",
    "\n",
    "Create a new DataFrame with percent price changes of the columns, rather than the levels\n",
    "\n",
    "**Question:**\n",
    "- Complete function `getReturns()` to set variable `train_data_ret` to be a DataFrame with the same columns\n",
    "    - But where the prices have been replaced by day over day percent changes\n",
    "    - The column names of `train_data_ret` should be the same as the original columns names\n",
    "    - We give you code to rename the columns to reflect the changed meaning of the data in the next step\n",
    "\n",
    "**Hint:**\n",
    "- look up the Pandas `pct_change()` method    "
   ]
  },
  {
   "cell_type": "code",
   "execution_count": 9,
   "metadata": {
    "deletable": false,
    "nbgrader": {
     "cell_type": "code",
     "checksum": "e75d8d03f2315603e6d8f377fe32740c",
     "grade": false,
     "grade_id": "cell-1686f75593a7bace",
     "locked": false,
     "schema_version": 3,
     "solution": true,
     "task": false
    }
   },
   "outputs": [
    {
     "data": {
      "text/html": [
       "<div>\n",
       "<style scoped>\n",
       "    .dataframe tbody tr th:only-of-type {\n",
       "        vertical-align: middle;\n",
       "    }\n",
       "\n",
       "    .dataframe tbody tr th {\n",
       "        vertical-align: top;\n",
       "    }\n",
       "\n",
       "    .dataframe thead th {\n",
       "        text-align: right;\n",
       "    }\n",
       "</style>\n",
       "<table border=\"1\" class=\"dataframe\">\n",
       "  <thead>\n",
       "    <tr style=\"text-align: right;\">\n",
       "      <th></th>\n",
       "      <th>AAPL_Adj_Close</th>\n",
       "      <th>SPY_Adj_Close</th>\n",
       "    </tr>\n",
       "    <tr>\n",
       "      <th>Dt</th>\n",
       "      <th></th>\n",
       "      <th></th>\n",
       "    </tr>\n",
       "  </thead>\n",
       "  <tbody>\n",
       "    <tr>\n",
       "      <th>2017-12-29</th>\n",
       "      <td>NaN</td>\n",
       "      <td>NaN</td>\n",
       "    </tr>\n",
       "    <tr>\n",
       "      <th>2018-01-02</th>\n",
       "      <td>0.017905</td>\n",
       "      <td>0.007158</td>\n",
       "    </tr>\n",
       "    <tr>\n",
       "      <th>2018-01-03</th>\n",
       "      <td>-0.000174</td>\n",
       "      <td>0.006325</td>\n",
       "    </tr>\n",
       "    <tr>\n",
       "      <th>2018-01-04</th>\n",
       "      <td>0.004645</td>\n",
       "      <td>0.004215</td>\n",
       "    </tr>\n",
       "    <tr>\n",
       "      <th>2018-01-05</th>\n",
       "      <td>0.011385</td>\n",
       "      <td>0.006664</td>\n",
       "    </tr>\n",
       "  </tbody>\n",
       "</table>\n",
       "</div>"
      ],
      "text/plain": [
       "            AAPL_Adj_Close  SPY_Adj_Close\n",
       "Dt                                       \n",
       "2017-12-29             NaN            NaN\n",
       "2018-01-02        0.017905       0.007158\n",
       "2018-01-03       -0.000174       0.006325\n",
       "2018-01-04        0.004645       0.004215\n",
       "2018-01-05        0.011385       0.006664"
      ]
     },
     "execution_count": 9,
     "metadata": {},
     "output_type": "execute_result"
    }
   ],
   "source": [
    "train_data_ret = None\n",
    "\n",
    "def getReturns(df, start_dt, end_dt):\n",
    "    '''\n",
    "    Return the day over day percent changes of adjusted price\n",
    "    \n",
    "    Parameters\n",
    "    ----------\n",
    "    df: DataFrame\n",
    "    '''\n",
    "    \n",
    "    # YOUR CODE HERE\n",
    "    data_index = df.index.tolist() #convert the data into a list of strs\n",
    "    start_row = data_index.index(start_dt)-1\n",
    "    end_row = data_index.index(end_dt) \n",
    "    train_dataset = df[start_row: end_row+1]\n",
    "    return train_dataset.pct_change()\n",
    "\n",
    "train_data_ret = getReturns(train_data_price,start_dt, end_dt)\n",
    "train_data_ret.head()\n"
   ]
  },
  {
   "cell_type": "code",
   "execution_count": null,
   "metadata": {
    "deletable": false,
    "editable": false,
    "nbgrader": {
     "cell_type": "code",
     "checksum": "2a40b50b12b072ffc1cbde0a21d53c26",
     "grade": true,
     "grade_id": "check-get-returns",
     "locked": true,
     "points": 10,
     "schema_version": 3,
     "solution": false
    }
   },
   "outputs": [],
   "source": []
  },
  {
   "cell_type": "markdown",
   "metadata": {},
   "source": [
    "Since the columns of `train_data_ret` are now returns, we will rename then for you.\n",
    "\n",
    "Also, we will drop the earliest date\n",
    "- There is now return for this date\n",
    "- We included this row only so we could compute the return for the following trading date"
   ]
  },
  {
   "cell_type": "code",
   "execution_count": 10,
   "metadata": {
    "deletable": false,
    "editable": false,
    "nbgrader": {
     "cell_type": "code",
     "checksum": "e97e42e4b3fb4880a012c3d25d1fc539",
     "grade": false,
     "grade_id": "cell-fb9edc0f593c043d",
     "locked": true,
     "schema_version": 3,
     "solution": false,
     "task": false
    }
   },
   "outputs": [
    {
     "data": {
      "text/html": [
       "<div>\n",
       "<style scoped>\n",
       "    .dataframe tbody tr th:only-of-type {\n",
       "        vertical-align: middle;\n",
       "    }\n",
       "\n",
       "    .dataframe tbody tr th {\n",
       "        vertical-align: top;\n",
       "    }\n",
       "\n",
       "    .dataframe thead th {\n",
       "        text-align: right;\n",
       "    }\n",
       "</style>\n",
       "<table border=\"1\" class=\"dataframe\">\n",
       "  <thead>\n",
       "    <tr style=\"text-align: right;\">\n",
       "      <th></th>\n",
       "      <th>AAPL_Ret</th>\n",
       "      <th>SPY_Ret</th>\n",
       "    </tr>\n",
       "    <tr>\n",
       "      <th>Dt</th>\n",
       "      <th></th>\n",
       "      <th></th>\n",
       "    </tr>\n",
       "  </thead>\n",
       "  <tbody>\n",
       "    <tr>\n",
       "      <th>2018-01-02</th>\n",
       "      <td>0.017905</td>\n",
       "      <td>0.007158</td>\n",
       "    </tr>\n",
       "    <tr>\n",
       "      <th>2018-01-03</th>\n",
       "      <td>-0.000174</td>\n",
       "      <td>0.006325</td>\n",
       "    </tr>\n",
       "    <tr>\n",
       "      <th>2018-01-04</th>\n",
       "      <td>0.004645</td>\n",
       "      <td>0.004215</td>\n",
       "    </tr>\n",
       "    <tr>\n",
       "      <th>2018-01-05</th>\n",
       "      <td>0.011385</td>\n",
       "      <td>0.006664</td>\n",
       "    </tr>\n",
       "    <tr>\n",
       "      <th>2018-01-08</th>\n",
       "      <td>-0.003714</td>\n",
       "      <td>0.001829</td>\n",
       "    </tr>\n",
       "  </tbody>\n",
       "</table>\n",
       "</div>"
      ],
      "text/plain": [
       "            AAPL_Ret   SPY_Ret\n",
       "Dt                            \n",
       "2018-01-02  0.017905  0.007158\n",
       "2018-01-03 -0.000174  0.006325\n",
       "2018-01-04  0.004645  0.004215\n",
       "2018-01-05  0.011385  0.006664\n",
       "2018-01-08 -0.003714  0.001829"
      ]
     },
     "execution_count": 10,
     "metadata": {},
     "output_type": "execute_result"
    }
   ],
   "source": [
    "## Rename the columns to indicate that they have been transformed from price (Adj_close) to Return\n",
    "train_data_ret = helper.renamePriceToRet( train_data_ret )\n",
    "\n",
    "## Drop the first date (the day before `start_dt`) since it has an undefined return\n",
    "train_data_ret = train_data_ret[ start_dt:]\n",
    "train_data_ret.head()"
   ]
  },
  {
   "cell_type": "markdown",
   "metadata": {},
   "source": [
    "  \n",
    "Expected outputs should be similar to this:   \n",
    "<img src=\"./images/train_data.png\" width=\"250\" height=\"150\"/>"
   ]
  },
  {
   "cell_type": "markdown",
   "metadata": {},
   "source": [
    "## Remove the target \n",
    "\n",
    "The only feature is the return of the market proxy $\\spy$.\n",
    "\n",
    "Predicting the target given the target as a feature would be cheating !\n",
    "\n",
    "So we will create `X_train, y_train` from `train_data_ret`\n",
    "- `X_train` has only features for the example\n",
    "- `y_train` is the target for the example"
   ]
  },
  {
   "cell_type": "code",
   "execution_count": 43,
   "metadata": {
    "deletable": false,
    "editable": false,
    "nbgrader": {
     "cell_type": "code",
     "checksum": "bf3d14aa96346dfa095f97ad3e08069f",
     "grade": false,
     "grade_id": "cell-f110d292623248a7",
     "locked": true,
     "schema_version": 3,
     "solution": false,
     "task": false
    }
   },
   "outputs": [],
   "source": [
    "tickerAttr = ticker + \"_Ret\"\n",
    "\n",
    "X_train, y_train =  train_data_ret.drop(columns=[tickerAttr]), train_data_ret[[ tickerAttr ]]"
   ]
  },
  {
   "cell_type": "code",
   "execution_count": 44,
   "metadata": {},
   "outputs": [
    {
     "ename": "KeyError",
     "evalue": "\"['A_Ret'] not found in axis\"",
     "output_type": "error",
     "traceback": [
      "\u001b[0;31m---------------------------------------------------------------------------\u001b[0m",
      "\u001b[0;31mKeyError\u001b[0m                                  Traceback (most recent call last)",
      "\u001b[0;32m<ipython-input-44-64f3a6d9da26>\u001b[0m in \u001b[0;36m<module>\u001b[0;34m\u001b[0m\n\u001b[1;32m      3\u001b[0m \u001b[0mtickerAttr\u001b[0m \u001b[0;34m=\u001b[0m \u001b[0mticker\u001b[0m\u001b[0;34m[\u001b[0m\u001b[0;36m0\u001b[0m\u001b[0;34m]\u001b[0m \u001b[0;34m+\u001b[0m \u001b[0;34m\"_Ret\"\u001b[0m\u001b[0;34m\u001b[0m\u001b[0;34m\u001b[0m\u001b[0m\n\u001b[1;32m      4\u001b[0m \u001b[0;34m\u001b[0m\u001b[0m\n\u001b[0;32m----> 5\u001b[0;31m \u001b[0mX_train\u001b[0m\u001b[0;34m,\u001b[0m \u001b[0my_train\u001b[0m \u001b[0;34m=\u001b[0m  \u001b[0mtrain_data_ret\u001b[0m\u001b[0;34m.\u001b[0m\u001b[0mdrop\u001b[0m\u001b[0;34m(\u001b[0m\u001b[0mcolumns\u001b[0m\u001b[0;34m=\u001b[0m\u001b[0;34m[\u001b[0m\u001b[0mtickerAttr\u001b[0m\u001b[0;34m]\u001b[0m\u001b[0;34m)\u001b[0m\u001b[0;34m,\u001b[0m \u001b[0mtrain_data_ret\u001b[0m\u001b[0;34m[\u001b[0m\u001b[0;34m[\u001b[0m \u001b[0mtickerAttr\u001b[0m \u001b[0;34m]\u001b[0m\u001b[0;34m]\u001b[0m\u001b[0;34m\u001b[0m\u001b[0;34m\u001b[0m\u001b[0m\n\u001b[0m",
      "\u001b[0;32m~/opt/anaconda3/lib/python3.7/site-packages/pandas/core/frame.py\u001b[0m in \u001b[0;36mdrop\u001b[0;34m(self, labels, axis, index, columns, level, inplace, errors)\u001b[0m\n\u001b[1;32m   4115\u001b[0m             \u001b[0mlevel\u001b[0m\u001b[0;34m=\u001b[0m\u001b[0mlevel\u001b[0m\u001b[0;34m,\u001b[0m\u001b[0;34m\u001b[0m\u001b[0;34m\u001b[0m\u001b[0m\n\u001b[1;32m   4116\u001b[0m             \u001b[0minplace\u001b[0m\u001b[0;34m=\u001b[0m\u001b[0minplace\u001b[0m\u001b[0;34m,\u001b[0m\u001b[0;34m\u001b[0m\u001b[0;34m\u001b[0m\u001b[0m\n\u001b[0;32m-> 4117\u001b[0;31m             \u001b[0merrors\u001b[0m\u001b[0;34m=\u001b[0m\u001b[0merrors\u001b[0m\u001b[0;34m,\u001b[0m\u001b[0;34m\u001b[0m\u001b[0;34m\u001b[0m\u001b[0m\n\u001b[0m\u001b[1;32m   4118\u001b[0m         )\n\u001b[1;32m   4119\u001b[0m \u001b[0;34m\u001b[0m\u001b[0m\n",
      "\u001b[0;32m~/opt/anaconda3/lib/python3.7/site-packages/pandas/core/generic.py\u001b[0m in \u001b[0;36mdrop\u001b[0;34m(self, labels, axis, index, columns, level, inplace, errors)\u001b[0m\n\u001b[1;32m   3912\u001b[0m         \u001b[0;32mfor\u001b[0m \u001b[0maxis\u001b[0m\u001b[0;34m,\u001b[0m \u001b[0mlabels\u001b[0m \u001b[0;32min\u001b[0m \u001b[0maxes\u001b[0m\u001b[0;34m.\u001b[0m\u001b[0mitems\u001b[0m\u001b[0;34m(\u001b[0m\u001b[0;34m)\u001b[0m\u001b[0;34m:\u001b[0m\u001b[0;34m\u001b[0m\u001b[0;34m\u001b[0m\u001b[0m\n\u001b[1;32m   3913\u001b[0m             \u001b[0;32mif\u001b[0m \u001b[0mlabels\u001b[0m \u001b[0;32mis\u001b[0m \u001b[0;32mnot\u001b[0m \u001b[0;32mNone\u001b[0m\u001b[0;34m:\u001b[0m\u001b[0;34m\u001b[0m\u001b[0;34m\u001b[0m\u001b[0m\n\u001b[0;32m-> 3914\u001b[0;31m                 \u001b[0mobj\u001b[0m \u001b[0;34m=\u001b[0m \u001b[0mobj\u001b[0m\u001b[0;34m.\u001b[0m\u001b[0m_drop_axis\u001b[0m\u001b[0;34m(\u001b[0m\u001b[0mlabels\u001b[0m\u001b[0;34m,\u001b[0m \u001b[0maxis\u001b[0m\u001b[0;34m,\u001b[0m \u001b[0mlevel\u001b[0m\u001b[0;34m=\u001b[0m\u001b[0mlevel\u001b[0m\u001b[0;34m,\u001b[0m \u001b[0merrors\u001b[0m\u001b[0;34m=\u001b[0m\u001b[0merrors\u001b[0m\u001b[0;34m)\u001b[0m\u001b[0;34m\u001b[0m\u001b[0;34m\u001b[0m\u001b[0m\n\u001b[0m\u001b[1;32m   3915\u001b[0m \u001b[0;34m\u001b[0m\u001b[0m\n\u001b[1;32m   3916\u001b[0m         \u001b[0;32mif\u001b[0m \u001b[0minplace\u001b[0m\u001b[0;34m:\u001b[0m\u001b[0;34m\u001b[0m\u001b[0;34m\u001b[0m\u001b[0m\n",
      "\u001b[0;32m~/opt/anaconda3/lib/python3.7/site-packages/pandas/core/generic.py\u001b[0m in \u001b[0;36m_drop_axis\u001b[0;34m(self, labels, axis, level, errors)\u001b[0m\n\u001b[1;32m   3944\u001b[0m                 \u001b[0mnew_axis\u001b[0m \u001b[0;34m=\u001b[0m \u001b[0maxis\u001b[0m\u001b[0;34m.\u001b[0m\u001b[0mdrop\u001b[0m\u001b[0;34m(\u001b[0m\u001b[0mlabels\u001b[0m\u001b[0;34m,\u001b[0m \u001b[0mlevel\u001b[0m\u001b[0;34m=\u001b[0m\u001b[0mlevel\u001b[0m\u001b[0;34m,\u001b[0m \u001b[0merrors\u001b[0m\u001b[0;34m=\u001b[0m\u001b[0merrors\u001b[0m\u001b[0;34m)\u001b[0m\u001b[0;34m\u001b[0m\u001b[0;34m\u001b[0m\u001b[0m\n\u001b[1;32m   3945\u001b[0m             \u001b[0;32melse\u001b[0m\u001b[0;34m:\u001b[0m\u001b[0;34m\u001b[0m\u001b[0;34m\u001b[0m\u001b[0m\n\u001b[0;32m-> 3946\u001b[0;31m                 \u001b[0mnew_axis\u001b[0m \u001b[0;34m=\u001b[0m \u001b[0maxis\u001b[0m\u001b[0;34m.\u001b[0m\u001b[0mdrop\u001b[0m\u001b[0;34m(\u001b[0m\u001b[0mlabels\u001b[0m\u001b[0;34m,\u001b[0m \u001b[0merrors\u001b[0m\u001b[0;34m=\u001b[0m\u001b[0merrors\u001b[0m\u001b[0;34m)\u001b[0m\u001b[0;34m\u001b[0m\u001b[0;34m\u001b[0m\u001b[0m\n\u001b[0m\u001b[1;32m   3947\u001b[0m             \u001b[0mresult\u001b[0m \u001b[0;34m=\u001b[0m \u001b[0mself\u001b[0m\u001b[0;34m.\u001b[0m\u001b[0mreindex\u001b[0m\u001b[0;34m(\u001b[0m\u001b[0;34m**\u001b[0m\u001b[0;34m{\u001b[0m\u001b[0maxis_name\u001b[0m\u001b[0;34m:\u001b[0m \u001b[0mnew_axis\u001b[0m\u001b[0;34m}\u001b[0m\u001b[0;34m)\u001b[0m\u001b[0;34m\u001b[0m\u001b[0;34m\u001b[0m\u001b[0m\n\u001b[1;32m   3948\u001b[0m \u001b[0;34m\u001b[0m\u001b[0m\n",
      "\u001b[0;32m~/opt/anaconda3/lib/python3.7/site-packages/pandas/core/indexes/base.py\u001b[0m in \u001b[0;36mdrop\u001b[0;34m(self, labels, errors)\u001b[0m\n\u001b[1;32m   5338\u001b[0m         \u001b[0;32mif\u001b[0m \u001b[0mmask\u001b[0m\u001b[0;34m.\u001b[0m\u001b[0many\u001b[0m\u001b[0;34m(\u001b[0m\u001b[0;34m)\u001b[0m\u001b[0;34m:\u001b[0m\u001b[0;34m\u001b[0m\u001b[0;34m\u001b[0m\u001b[0m\n\u001b[1;32m   5339\u001b[0m             \u001b[0;32mif\u001b[0m \u001b[0merrors\u001b[0m \u001b[0;34m!=\u001b[0m \u001b[0;34m\"ignore\"\u001b[0m\u001b[0;34m:\u001b[0m\u001b[0;34m\u001b[0m\u001b[0;34m\u001b[0m\u001b[0m\n\u001b[0;32m-> 5340\u001b[0;31m                 \u001b[0;32mraise\u001b[0m \u001b[0mKeyError\u001b[0m\u001b[0;34m(\u001b[0m\u001b[0;34m\"{} not found in axis\"\u001b[0m\u001b[0;34m.\u001b[0m\u001b[0mformat\u001b[0m\u001b[0;34m(\u001b[0m\u001b[0mlabels\u001b[0m\u001b[0;34m[\u001b[0m\u001b[0mmask\u001b[0m\u001b[0;34m]\u001b[0m\u001b[0;34m)\u001b[0m\u001b[0;34m)\u001b[0m\u001b[0;34m\u001b[0m\u001b[0;34m\u001b[0m\u001b[0m\n\u001b[0m\u001b[1;32m   5341\u001b[0m             \u001b[0mindexer\u001b[0m \u001b[0;34m=\u001b[0m \u001b[0mindexer\u001b[0m\u001b[0;34m[\u001b[0m\u001b[0;34m~\u001b[0m\u001b[0mmask\u001b[0m\u001b[0;34m]\u001b[0m\u001b[0;34m\u001b[0m\u001b[0;34m\u001b[0m\u001b[0m\n\u001b[1;32m   5342\u001b[0m         \u001b[0;32mreturn\u001b[0m \u001b[0mself\u001b[0m\u001b[0;34m.\u001b[0m\u001b[0mdelete\u001b[0m\u001b[0;34m(\u001b[0m\u001b[0mindexer\u001b[0m\u001b[0;34m)\u001b[0m\u001b[0;34m\u001b[0m\u001b[0;34m\u001b[0m\u001b[0m\n",
      "\u001b[0;31mKeyError\u001b[0m: \"['A_Ret'] not found in axis\""
     ]
    }
   ],
   "source": [
    "# Since the above cell has some error and I can not fix it or delete it, I write a new cell here.\n",
    "# It will cause error when running all cells, but I can not fix it because of the cell feature.\n",
    "tickerAttr = ticker[0] + \"_Ret\"\n",
    "\n",
    "X_train, y_train =  train_data_ret.drop(columns=[tickerAttr]), train_data_ret[[ tickerAttr ]]"
   ]
  },
  {
   "cell_type": "markdown",
   "metadata": {},
   "source": [
    "# Transformations: transform the test data\n",
    "\n",
    "We have just performed some transformations of the training data.\n",
    "\n",
    "**Remember**:\n",
    "\n",
    "You need to perform *identical* transformations to the test data.\n",
    "\n",
    "The test data will be returns from `test_start_dt` to `test_end_dt` inclusive.\n",
    "\n",
    "We will apply identical transformations as we did to the training data, but with a different date range.\n"
   ]
  },
  {
   "cell_type": "markdown",
   "metadata": {},
   "source": [
    "We obtained `X_train, y_train` via transformations to `train_data_price`.\n",
    "\n",
    "We will now obtain `X_test, y_test` by identical transformations to `test_data_price`\n",
    "\n",
    "**Question:**\n",
    "\n",
    "Create the training data `X_test, y_test`\n",
    "- Apply the same transformations to `test_data_price` as you did to `train_data_price`\n",
    "- To create variable `test_data_ret`\n",
    "- We will convert `test_data_ret` to `X_test, y_test` for you\n",
    "\n",
    "**Hints**\n",
    "\n",
    "Create `test_data_ret` in a manner analogous to the creation of `train_data_ret`\n",
    "- Use `getReturns` to convert price levels to returns\n",
    "- Use `helper.renamePriceToRet` to rename the columns to reflect the change in data from price to return\n",
    "- Drop the first date from `test_data_ret` as it has an undefined return\n"
   ]
  },
  {
   "cell_type": "code",
   "execution_count": 13,
   "metadata": {},
   "outputs": [
    {
     "data": {
      "text/html": [
       "<div>\n",
       "<style scoped>\n",
       "    .dataframe tbody tr th:only-of-type {\n",
       "        vertical-align: middle;\n",
       "    }\n",
       "\n",
       "    .dataframe tbody tr th {\n",
       "        vertical-align: top;\n",
       "    }\n",
       "\n",
       "    .dataframe thead th {\n",
       "        text-align: right;\n",
       "    }\n",
       "</style>\n",
       "<table border=\"1\" class=\"dataframe\">\n",
       "  <thead>\n",
       "    <tr style=\"text-align: right;\">\n",
       "      <th></th>\n",
       "      <th>AAPL_Adj_Close</th>\n",
       "      <th>SPY_Adj_Close</th>\n",
       "    </tr>\n",
       "    <tr>\n",
       "      <th>Dt</th>\n",
       "      <th></th>\n",
       "      <th></th>\n",
       "    </tr>\n",
       "  </thead>\n",
       "  <tbody>\n",
       "    <tr>\n",
       "      <th>2018-09-28</th>\n",
       "      <td>221.6252</td>\n",
       "      <td>285.0555</td>\n",
       "    </tr>\n",
       "    <tr>\n",
       "      <th>2018-10-01</th>\n",
       "      <td>223.1175</td>\n",
       "      <td>286.0458</td>\n",
       "    </tr>\n",
       "    <tr>\n",
       "      <th>2018-10-02</th>\n",
       "      <td>225.1006</td>\n",
       "      <td>285.8791</td>\n",
       "    </tr>\n",
       "    <tr>\n",
       "      <th>2018-10-03</th>\n",
       "      <td>227.8398</td>\n",
       "      <td>286.0359</td>\n",
       "    </tr>\n",
       "    <tr>\n",
       "      <th>2018-10-04</th>\n",
       "      <td>223.8342</td>\n",
       "      <td>283.8004</td>\n",
       "    </tr>\n",
       "  </tbody>\n",
       "</table>\n",
       "</div>"
      ],
      "text/plain": [
       "            AAPL_Adj_Close  SPY_Adj_Close\n",
       "Dt                                       \n",
       "2018-09-28        221.6252       285.0555\n",
       "2018-10-01        223.1175       286.0458\n",
       "2018-10-02        225.1006       285.8791\n",
       "2018-10-03        227.8398       286.0359\n",
       "2018-10-04        223.8342       283.8004"
      ]
     },
     "execution_count": 13,
     "metadata": {},
     "output_type": "execute_result"
    }
   ],
   "source": [
    "test_data_price.head()"
   ]
  },
  {
   "cell_type": "code",
   "execution_count": 14,
   "metadata": {
    "deletable": false,
    "nbgrader": {
     "cell_type": "code",
     "checksum": "9bb948d1fb415c27befc45f997fa29f0",
     "grade": false,
     "grade_id": "cell-7aac82a6b5289f38",
     "locked": false,
     "schema_version": 3,
     "solution": true,
     "task": false
    }
   },
   "outputs": [
    {
     "name": "stdout",
     "output_type": "stream",
     "text": [
      "test data length 63\n",
      "X test length 63\n",
      "y test length 63\n"
     ]
    },
    {
     "data": {
      "text/html": [
       "<div>\n",
       "<style scoped>\n",
       "    .dataframe tbody tr th:only-of-type {\n",
       "        vertical-align: middle;\n",
       "    }\n",
       "\n",
       "    .dataframe tbody tr th {\n",
       "        vertical-align: top;\n",
       "    }\n",
       "\n",
       "    .dataframe thead th {\n",
       "        text-align: right;\n",
       "    }\n",
       "</style>\n",
       "<table border=\"1\" class=\"dataframe\">\n",
       "  <thead>\n",
       "    <tr style=\"text-align: right;\">\n",
       "      <th></th>\n",
       "      <th>AAPL_Ret</th>\n",
       "      <th>SPY_Ret</th>\n",
       "    </tr>\n",
       "    <tr>\n",
       "      <th>Dt</th>\n",
       "      <th></th>\n",
       "      <th></th>\n",
       "    </tr>\n",
       "  </thead>\n",
       "  <tbody>\n",
       "    <tr>\n",
       "      <th>2018-10-01</th>\n",
       "      <td>0.006733</td>\n",
       "      <td>0.003474</td>\n",
       "    </tr>\n",
       "    <tr>\n",
       "      <th>2018-10-02</th>\n",
       "      <td>0.008888</td>\n",
       "      <td>-0.000583</td>\n",
       "    </tr>\n",
       "    <tr>\n",
       "      <th>2018-10-03</th>\n",
       "      <td>0.012169</td>\n",
       "      <td>0.000548</td>\n",
       "    </tr>\n",
       "    <tr>\n",
       "      <th>2018-10-04</th>\n",
       "      <td>-0.017581</td>\n",
       "      <td>-0.007815</td>\n",
       "    </tr>\n",
       "    <tr>\n",
       "      <th>2018-10-05</th>\n",
       "      <td>-0.016229</td>\n",
       "      <td>-0.005597</td>\n",
       "    </tr>\n",
       "  </tbody>\n",
       "</table>\n",
       "</div>"
      ],
      "text/plain": [
       "            AAPL_Ret   SPY_Ret\n",
       "Dt                            \n",
       "2018-10-01  0.006733  0.003474\n",
       "2018-10-02  0.008888 -0.000583\n",
       "2018-10-03  0.012169  0.000548\n",
       "2018-10-04 -0.017581 -0.007815\n",
       "2018-10-05 -0.016229 -0.005597"
      ]
     },
     "execution_count": 14,
     "metadata": {},
     "output_type": "execute_result"
    }
   ],
   "source": [
    "test_data_ret = None\n",
    "X_test = None\n",
    "y_test = None\n",
    "\n",
    "# YOUR CODE HERE\n",
    "test_data_ret = getReturns(test_data_price, test_start_dt, test_end_dt)\n",
    "test_data_ret = helper.renamePriceToRet( test_data_ret )\n",
    "test_data_ret = test_data_ret[ test_start_dt:]\n",
    "indexAttr = index_ticker + \"_Ret\"\n",
    "\n",
    "X_test, y_test =  test_data_ret.drop(columns=[tickerAttr]), test_data_ret[[ tickerAttr ]]\n",
    "\n",
    "print(\"test data length\", test_data_ret.shape[0])\n",
    "print(\"X test length\", X_test.shape[0])\n",
    "print(\"y test length\", y_test.shape[0])\n",
    "test_data_ret.head()"
   ]
  },
  {
   "cell_type": "markdown",
   "metadata": {},
   "source": [
    "Expected outputs should be similar to this:   \n",
    "\n",
    "test data length 63      \n",
    "X test length 63      \n",
    "y test length 63        \n",
    "\n",
    "<img src=\"./images/test_data.png\" width=\"250\" height=\"150\"/>\n",
    "\n"
   ]
  },
  {
   "cell_type": "code",
   "execution_count": null,
   "metadata": {
    "deletable": false,
    "editable": false,
    "nbgrader": {
     "cell_type": "code",
     "checksum": "c137763d9ad534ea037c78bc5efe686e",
     "grade": true,
     "grade_id": "check-transform-test-data",
     "locked": true,
     "points": 10,
     "schema_version": 3,
     "solution": false
    }
   },
   "outputs": [],
   "source": []
  },
  {
   "cell_type": "markdown",
   "metadata": {},
   "source": [
    "# Train a model (Regression)\n",
    "\n",
    "Use Linear Regression to predict the return of a ticker from the return of the market proxy $\\spy$.\n",
    "For example, for ticker $\\aapl$\n",
    "\n",
    "$$\n",
    "\\ret_\\aapl^\\tp = \\beta_0 + \\beta_{\\aapl, \\spy} * \\ret_\\spy^\\tp + \\epsilon_{\\aapl}^\\tp\n",
    "$$\n",
    "\n",
    "Each example corresponds to one day (time $t$)\n",
    "- has features\n",
    "    - constant 1, corresponding to the intercept parameter\n",
    "    - return of the market proxy $\\spy$\n",
    "       $$\\x^\\tp = \\begin{pmatrix}\n",
    "        1 \\\\\n",
    "        \\ret_\\spy^\\tp\n",
    "        \\end{pmatrix}$$\n",
    "\n",
    "- has target\n",
    "    - return of the ticker\n",
    "    $$\\y^\\tp = \\ret_\\aapl^\\tp$$\n",
    "\n",
    " \n",
    "You will use Linear Regression to solve for parameters $\\beta_0$,  $\\beta_{\\aapl, \\spy}$ \n",
    "\n",
    "- In the lectures we used the symbol $\\Theta$ to denote the parameter vector; here we use $\\mathbf{\\beta}$\n",
    "- In Finance the symbol $\\beta$ is often used to denote the relationship between returns.\n",
    "- Rather than explicitly creating a constant 1 feature\n",
    "    - you may invoke the model object with the option including an intercept\n",
    "    - if you do so, the feature vector you pass will be\n",
    "   $$\\x^\\tp = \\begin{pmatrix}\n",
    "        \\ret_\\spy^\\tp\n",
    "        \\end{pmatrix}$$  \n",
    "    \n",
    "\n",
    "\n",
    "- Use the entire training set\n",
    "- Do not use cross-validation"
   ]
  },
  {
   "cell_type": "markdown",
   "metadata": {},
   "source": [
    "\n",
    "**Question:**\n",
    "\n",
    "Train your model to estimate the parameters beta_0 and beta_SPY   \n",
    "\n",
    "- Complete the function `createModel()` to build your linear regression model. The detailed description is in the function below.\n",
    "- Complete the function `regress()` to perform the regression and return two item: the intercept and coefficients. The detailed description is in the function below.\n",
    "    - `beta_0` is the regression parameter for the constant; \n",
    "    - `beta_SPY` is the regression parameter for the return of SPY. \n",
    "    - We will test if the parameters of your regression are correct. We have initialized them to be 0. \n",
    "\n",
    "**Hints:**\n",
    "- The input model of your function `regress()` should be the model you get from function `createModel()`\n",
    "- Before you input your `X_train` and `y_train` into your `sklearn` model, you need to convert them from type `DataFrame` into type `ndarray`. \n",
    "    - You can convert a `DataFrame` into an `ndarray` with the `values` attribute, e.g., `X_train.values`"
   ]
  },
  {
   "cell_type": "code",
   "execution_count": 15,
   "metadata": {
    "deletable": false,
    "nbgrader": {
     "cell_type": "code",
     "checksum": "b718618bc5186f7c1fe31eaa9b98167a",
     "grade": false,
     "grade_id": "ticker-regression",
     "locked": false,
     "schema_version": 3,
     "solution": true,
     "task": false
    }
   },
   "outputs": [
    {
     "name": "stdout",
     "output_type": "stream",
     "text": [
      "AAPL: beta_0=0.001, beta_SPY=1.071\n"
     ]
    }
   ],
   "source": [
    "from sklearn import datasets, linear_model\n",
    "\n",
    "beta_0 = 0    # The regression parameter for the constant\n",
    "beta_SPY = 0  # The regression parameter for the return of SPY\n",
    "ticker = \"AAPL\"\n",
    "\n",
    "def createModel():\n",
    "    '''\n",
    "    Build your linear regression model using sklearn\n",
    "    \n",
    "    Returns\n",
    "    -------\n",
    "    An sklearn model object implementing Linear Regression\n",
    "    '''\n",
    "    # YOUR CODE HERE\n",
    "    return linear_model.LinearRegression()\n",
    "\n",
    "def regress(model, X, y):\n",
    "    '''\n",
    "    Do regression using returns of your ticker and index\n",
    "    \n",
    "    Parameters\n",
    "    -----------\n",
    "    model: model object implementing Linear Regression\n",
    "        \n",
    "    X: DataFrame\n",
    "    - Index returns\n",
    "    \n",
    "    y: DataFrame\n",
    "    - Ticker returns\n",
    "    \n",
    "    Returns\n",
    "    -------\n",
    "    Tuple (beta_0, beta_SPY)\n",
    "    where,\n",
    "        beta_0: Scalar number \n",
    "        - Parameter for the constant\n",
    "\n",
    "        beta_SPY: Scalar number\n",
    "        - Parameter for the return of SPY\n",
    "    \n",
    "\n",
    "    '''\n",
    "    # YOUR CODE HERE\n",
    "    model.fit(X,y)\n",
    "    intercept = model.intercept_[0]\n",
    "    coefficient = model.coef_[0][0]\n",
    "    return intercept, coefficient  \n",
    "\n",
    "# Assign to answer variables\n",
    "regr = createModel()\n",
    "\n",
    "beta_0, beta_SPY = regress(regr, X_train, y_train)\n",
    "\n",
    "\n",
    "print(\"{t:s}: beta_0={b0:3.3f}, beta_SPY={b1:3.3f}\".format(t=ticker, b0=beta_0, b1=beta_SPY))"
   ]
  },
  {
   "cell_type": "code",
   "execution_count": null,
   "metadata": {},
   "outputs": [],
   "source": []
  },
  {
   "cell_type": "markdown",
   "metadata": {},
   "source": [
    "Your expected outputs should be:\n",
    "<table> \n",
    "    <tr> \n",
    "        <td>  \n",
    "            beta_0\n",
    "        </td>\n",
    "        <td>\n",
    "         0.001\n",
    "        </td>\n",
    "    </tr>\n",
    "    <tr> \n",
    "        <td>\n",
    "            beta_SPY\n",
    "        </td>\n",
    "        <td>\n",
    "         1.071\n",
    "        </td>\n",
    "    </tr>\n",
    "\n",
    "</table>"
   ]
  },
  {
   "cell_type": "code",
   "execution_count": null,
   "metadata": {
    "deletable": false,
    "editable": false,
    "nbgrader": {
     "cell_type": "code",
     "checksum": "cb2f3a1ed2eb50e8f5f696a4f3ba96c8",
     "grade": true,
     "grade_id": "check-ticker-regression",
     "locked": true,
     "points": 50,
     "schema_version": 3,
     "solution": false,
     "task": false
    }
   },
   "outputs": [],
   "source": []
  },
  {
   "cell_type": "markdown",
   "metadata": {},
   "source": [
    "## Train the model using Cross validation\n",
    "\n",
    "Since we only have one test set, we want to use 5-fold cross validation to assess model performance.\n",
    "\n",
    "**Question:**\n",
    "- Complete the function `compute_cross_val_avg()` to compute the average score of 5-fold cross validation\n",
    "    - Set `cross_val_avg` as your average score of k-fold results\n",
    "    - Set `k = 5` as the number of folds\n",
    "\n",
    "**Hint:**  \n",
    "- You can use the `cross_val_score` in `sklearn.model_selection`"
   ]
  },
  {
   "cell_type": "code",
   "execution_count": 16,
   "metadata": {
    "deletable": false,
    "nbgrader": {
     "cell_type": "code",
     "checksum": "c6c989d4f469e55a0b2acb26e3d8718b",
     "grade": false,
     "grade_id": "cell-682c309ea0167241",
     "locked": false,
     "schema_version": 3,
     "solution": true,
     "task": false
    }
   },
   "outputs": [
    {
     "name": "stdout",
     "output_type": "stream",
     "text": [
      "AAPL: Avg cross val score = 0.33\n"
     ]
    }
   ],
   "source": [
    "from sklearn.model_selection import cross_val_score\n",
    "\n",
    "cross_val_avg = 0 # average score of cross validation\n",
    "k = 5             # 5-fold cross validation\n",
    "\n",
    "def compute_cross_val_avg(model, X, y, k):\n",
    "    '''\n",
    "    Compute the average score of k-fold cross validation\n",
    "    \n",
    "    Parameters\n",
    "    -----------\n",
    "    model: An sklearn model\n",
    "    \n",
    "    X: DataFrame\n",
    "    - Index returns\n",
    "    \n",
    "    y: DataFrame\n",
    "    - Ticker returns\n",
    "    \n",
    "    k: Scalar number\n",
    "    - k-fold cross validation\n",
    "    \n",
    "    Returns\n",
    "    --------\n",
    "    The average, across the k iterations, of the score\n",
    "    '''\n",
    "    # YOUR CODE HERE\n",
    "    scores = cross_val_score(model, X, y, cv=k)\n",
    "    return np.mean(scores)\n",
    "\n",
    "    \n",
    "cross_val_avg = compute_cross_val_avg(regr, X_train, y_train, 5)\n",
    "print(\"{t:s}: Avg cross val score = {sc:3.2f}\".format(t=ticker, sc=cross_val_avg) )"
   ]
  },
  {
   "cell_type": "code",
   "execution_count": null,
   "metadata": {
    "deletable": false,
    "editable": false,
    "nbgrader": {
     "cell_type": "code",
     "checksum": "266249d1716bfc1e8f31bef5c1425892",
     "grade": true,
     "grade_id": "Check-cross-validation",
     "locked": true,
     "points": 10,
     "schema_version": 3,
     "solution": false
    }
   },
   "outputs": [],
   "source": []
  },
  {
   "cell_type": "markdown",
   "metadata": {},
   "source": [
    "## Evaluate Loss (in sample RMSE) and Performance (Out of sample RMSE)\n",
    "\n",
    "To see how well your model performs, we can check the in-sample loss and out-of-sample performance.   \n",
    "\n",
    "**Question:**\n",
    "- Complete the function `computeRMSE()` to compute the Root of Mean Square Error (RMSE)\n",
    "    - Set `rmse_in_sample` to be in-sample loss\n",
    "    - Set `rmse_out_sample` to be out-of-sample performance"
   ]
  },
  {
   "cell_type": "code",
   "execution_count": 17,
   "metadata": {
    "deletable": false,
    "nbgrader": {
     "cell_type": "code",
     "checksum": "f485412da45c631160b56810f7472aaa",
     "grade": false,
     "grade_id": "cell-da0f1fee111433fd",
     "locked": false,
     "schema_version": 3,
     "solution": true,
     "task": false
    },
    "scrolled": true
   },
   "outputs": [
    {
     "name": "stdout",
     "output_type": "stream",
     "text": [
      "In Sample Root Mean squared error: 0.011\n",
      "Out of Sample Root Mean squared error: 0.015\n"
     ]
    }
   ],
   "source": [
    "from sklearn.metrics import mean_squared_error\n",
    "\n",
    "rmse_in_sample = 0 # in sample loss\n",
    "rmse_out_sample = 0 # out of sample performance\n",
    "\n",
    "# Predicted  in-sample returns of AAPL using SPY index\n",
    "aapl_predicted_in_sample = regr.predict(X_train)\n",
    "# Predicted out-of-sample returns of AAPL using SPY index\n",
    "aapl_predicted_out_sample = regr.predict(X_test)\n",
    "\n",
    "def computeRMSE( target, predicted ):\n",
    "    '''\n",
    "    Calculate the RMSE\n",
    "    \n",
    "    Parameters\n",
    "    ----------\n",
    "    target: DataFrame\n",
    "    - Real ticker returns\n",
    "    \n",
    "    predicted: ndarray\n",
    "    - Predicted ticker returns\n",
    "    \n",
    "    Return\n",
    "    ------\n",
    "    Scalar number\n",
    "    - The value of the RMSE\n",
    "    '''\n",
    "    # YOUR CODE HERE\n",
    "    MSE = mean_squared_error(target, predicted)\n",
    "    return np.sqrt(MSE)\n",
    "    \n",
    "rmse_in_sample = computeRMSE(y_train, aapl_predicted_in_sample)\n",
    "rmse_out_sample = computeRMSE(y_test, aapl_predicted_out_sample)\n",
    "\n",
    "print(\"In Sample Root Mean squared error: {:.3f}\".format( rmse_in_sample ) )\n",
    "print(\"Out of Sample Root Mean squared error: {:.3f}\".format( rmse_out_sample ) )"
   ]
  },
  {
   "cell_type": "code",
   "execution_count": null,
   "metadata": {},
   "outputs": [],
   "source": []
  },
  {
   "cell_type": "code",
   "execution_count": null,
   "metadata": {
    "deletable": false,
    "editable": false,
    "nbgrader": {
     "cell_type": "code",
     "checksum": "77133443ae1ee4de8d456d018215dbc4",
     "grade": true,
     "grade_id": "check-evaluation",
     "locked": true,
     "points": 10,
     "schema_version": 3,
     "solution": false
    }
   },
   "outputs": [],
   "source": []
  },
  {
   "cell_type": "markdown",
   "metadata": {},
   "source": [
    "## Hedged returns\n",
    "\n",
    "Why is being able to predict the return of a ticker, given the return of another instrument (e.g., the market proxy) useful ?\n",
    "- It **does not** allow us to predict the future\n",
    "    - To predict $\\ret_\\aapl^\\tp$, we require the same day return of the proxy $\\ret_\\spy$\n",
    "- It **does** allow us to predict how much $\\aapl$ will outperform the market proxy\n",
    "\n",
    "Consider an investment that goes long (i.e, holds a positive quantity) of $\\aapl$\n",
    "- Since the relationship between returns is positive\n",
    "    - You will likely make money if the market goes up\n",
    "    - You will likely lose money if the market goes down\n",
    "    \n",
    "Consider instead a *hedged* investment\n",
    "- Go long 1 USD of $\\aapl$\n",
    "- Go short (hold a negative quantity) $\\beta_{\\aapl,\\spy}$ USD of the market proxy $\\spy$\n",
    "\n",
    "Your *hedged return* on this long/short portfolio will be\n",
    "$$\n",
    "{\\ret'}_{\\aapl}^\\tp = \\ret_\\aapl^\\tp - \\beta_{\\aapl, \\spy} * \\ret_\\spy^\\tp\n",
    "$$\n",
    "\n",
    "As long as\n",
    "$$\n",
    "\\ret_\\aapl^\\tp \\gt \\beta_{\\aapl, \\spy} * \\ret_\\spy^\\tp\n",
    "$$\n",
    "you will make a profit, regardless of whether the market proxy rises or falls !\n",
    "\n",
    "That is: you make money as long as $\\aapl$ *outperforms* the market proxy.\n"
   ]
  },
  {
   "cell_type": "markdown",
   "metadata": {},
   "source": [
    "This hedged portfolio is interesting\n",
    "- Because your returns are independent of the market\n",
    "- The volatility of your returns is likely much lower than the volatility of the long-only investment\n",
    "- There is a belief that it is difficult to predict the market $\\ret_\\spy$\n",
    "- But you might be able to discover a ticker (e.g., $\\aapl$) that will outpeform the market\n",
    "\n",
    "This is a real world application of the Regression task in Finance."
   ]
  },
  {
   "cell_type": "markdown",
   "metadata": {},
   "source": [
    "## Compute the hedged return on the test data examples\n",
    "$$\n",
    "{\\ret'}_{\\aapl}^\\tp = \\ret_\\aapl^\\tp - \\beta_{\\aapl, \\spy} * \\ret_\\spy^\\tp\n",
    "$$\n",
    "for all dates $t$ in the **test set**.  \n",
    "\n",
    "\n",
    "**Question:**  \n",
    "\n",
    "Compute the hedged returns using your predicted series\n",
    "\n",
    "- Complete the function `compute_hedged_series()` \n",
    "    - It should use your model results and the **test exmples** to compute the hedged returns. The detailed description is in the function below\n",
    "\n",
    "**Hint**\n",
    "- An `sklearn` model, once fitted, may have attributes `coef_` that give you access to the parameters\n",
    "\n"
   ]
  },
  {
   "cell_type": "code",
   "execution_count": 18,
   "metadata": {
    "deletable": false,
    "nbgrader": {
     "cell_type": "code",
     "checksum": "e68789b0c4a1b16083ee835e0ac45d90",
     "grade": false,
     "grade_id": "cell-615640674398f9ff",
     "locked": false,
     "schema_version": 3,
     "solution": true,
     "task": false
    }
   },
   "outputs": [
    {
     "name": "stdout",
     "output_type": "stream",
     "text": [
      "            AAPL_Ret\n",
      "Dt                  \n",
      "2018-10-01  0.003012\n",
      "2018-10-02  0.009512\n",
      "2018-10-03  0.011581\n",
      "2018-10-04 -0.009208\n",
      "2018-10-05 -0.010233\n"
     ]
    }
   ],
   "source": [
    "hedged_series = pd.DataFrame()\n",
    "\n",
    "def compute_hedged_series(model, X, y):\n",
    "    '''\n",
    "    Compute the hedged series\n",
    "    \n",
    "    Parameters\n",
    "    ----------\n",
    "    model: An sklearn model\n",
    "    \n",
    "    X: DataFrame\n",
    "    - Index returns\n",
    "    \n",
    "    y: DataFrame\n",
    "    - Ticker returns\n",
    "    \n",
    "    Return\n",
    "    ------\n",
    "    ndarray\n",
    "    - Hedged return series \n",
    "    '''\n",
    "    \n",
    "    # YOUR CODE HERE\n",
    "    AAPL_return = y\n",
    "    beta = model.coef_\n",
    "    Mrt_return = X.values \n",
    "    return AAPL_return - beta*Mrt_return\n",
    "\n",
    "hedged_series = compute_hedged_series(regr, X_test, y_test)\n",
    "print(hedged_series[:5])"
   ]
  },
  {
   "cell_type": "code",
   "execution_count": null,
   "metadata": {
    "deletable": false,
    "editable": false,
    "nbgrader": {
     "cell_type": "code",
     "checksum": "89cb1ce909fb57873f20f6e7d7dda4cb",
     "grade": true,
     "grade_id": "check-hedged-series",
     "locked": true,
     "points": 10,
     "schema_version": 3,
     "solution": false
    }
   },
   "outputs": [],
   "source": []
  },
  {
   "cell_type": "markdown",
   "metadata": {},
   "source": [
    "# A model with more than one feature\n",
    "\n",
    "Our simple model used a single feature (return of \"the market\") to make predictions.\n",
    "- There are many more timeseries, stored as .CSV files, in the data directory\n",
    "\n",
    "**Question**\n",
    "- Construct a model with *more than one* feature by choosing from among these timeseries\n",
    "- *Explain* why/how you chose the additional features\n",
    "    - You may run multiple experiments if you choose\n",
    "    - **Remember:** your notebook is a *movie*; we want to see your journey to your solution, not just the last step\n",
    "- Report the average of the scores when using 5 fold cross-validation\n",
    "- Report the in-sample and out of sample RMSE\n",
    "\n"
   ]
  },
  {
   "cell_type": "code",
   "execution_count": 19,
   "metadata": {},
   "outputs": [],
   "source": [
    "# I choose to see the correlation of AAPL with all data within the directory.\n",
    "# To see which stock has higher correlation with AAPL, and then implement it\n",
    "# into my model."
   ]
  },
  {
   "cell_type": "markdown",
   "metadata": {},
   "source": [
    "### find all the stock in the Data directory"
   ]
  },
  {
   "cell_type": "code",
   "execution_count": 20,
   "metadata": {},
   "outputs": [],
   "source": [
    "stock_list = os.listdir(\"Data\")\n",
    "stock_list.remove(\"AAPL.csv\")\n",
    "stock_list.remove(\"SPY.csv\")\n",
    "for i in range(len(stock_list)):\n",
    "    stock_list[i] = stock_list[i].split(\".\")[0]"
   ]
  },
  {
   "cell_type": "code",
   "execution_count": 21,
   "metadata": {},
   "outputs": [
    {
     "data": {
      "text/html": [
       "<div>\n",
       "<style scoped>\n",
       "    .dataframe tbody tr th:only-of-type {\n",
       "        vertical-align: middle;\n",
       "    }\n",
       "\n",
       "    .dataframe tbody tr th {\n",
       "        vertical-align: top;\n",
       "    }\n",
       "\n",
       "    .dataframe thead th {\n",
       "        text-align: right;\n",
       "    }\n",
       "</style>\n",
       "<table border=\"1\" class=\"dataframe\">\n",
       "  <thead>\n",
       "    <tr style=\"text-align: right;\">\n",
       "      <th></th>\n",
       "      <th>AAPL_Adj_Close</th>\n",
       "      <th>CSCO_Adj_Close</th>\n",
       "      <th>V_Adj_Close</th>\n",
       "      <th>ADBE_Adj_Close</th>\n",
       "      <th>XLE_Adj_Close</th>\n",
       "      <th>INTC_Adj_Close</th>\n",
       "      <th>XLF_Adj_Close</th>\n",
       "      <th>XLP_Adj_Close</th>\n",
       "      <th>MSFT_Adj_Close</th>\n",
       "      <th>ACN_Adj_Close</th>\n",
       "      <th>...</th>\n",
       "      <th>FB_Adj_Close</th>\n",
       "      <th>IBM_Adj_Close</th>\n",
       "      <th>XLY_Adj_Close</th>\n",
       "      <th>XLK_Adj_Close</th>\n",
       "      <th>XLI_Adj_Close</th>\n",
       "      <th>GOOG_Adj_Close</th>\n",
       "      <th>XLRE_Adj_Close</th>\n",
       "      <th>MA_Adj_Close</th>\n",
       "      <th>CRM_Adj_Close</th>\n",
       "      <th>SPY_Adj_Close</th>\n",
       "    </tr>\n",
       "    <tr>\n",
       "      <th>Dt</th>\n",
       "      <th></th>\n",
       "      <th></th>\n",
       "      <th></th>\n",
       "      <th></th>\n",
       "      <th></th>\n",
       "      <th></th>\n",
       "      <th></th>\n",
       "      <th></th>\n",
       "      <th></th>\n",
       "      <th></th>\n",
       "      <th></th>\n",
       "      <th></th>\n",
       "      <th></th>\n",
       "      <th></th>\n",
       "      <th></th>\n",
       "      <th></th>\n",
       "      <th></th>\n",
       "      <th></th>\n",
       "      <th></th>\n",
       "      <th></th>\n",
       "      <th></th>\n",
       "    </tr>\n",
       "  </thead>\n",
       "  <tbody>\n",
       "    <tr>\n",
       "      <th>2017-01-03</th>\n",
       "      <td>110.9539</td>\n",
       "      <td>27.8299</td>\n",
       "      <td>78.0492</td>\n",
       "      <td>103.48</td>\n",
       "      <td>69.7149</td>\n",
       "      <td>33.8738</td>\n",
       "      <td>22.3628</td>\n",
       "      <td>48.1496</td>\n",
       "      <td>59.4966</td>\n",
       "      <td>110.7381</td>\n",
       "      <td>...</td>\n",
       "      <td>116.86</td>\n",
       "      <td>146.9351</td>\n",
       "      <td>79.0179</td>\n",
       "      <td>46.9054</td>\n",
       "      <td>59.3227</td>\n",
       "      <td>786.14</td>\n",
       "      <td>28.2050</td>\n",
       "      <td>103.4719</td>\n",
       "      <td>70.54</td>\n",
       "      <td>213.8428</td>\n",
       "    </tr>\n",
       "    <tr>\n",
       "      <th>2017-01-04</th>\n",
       "      <td>110.8297</td>\n",
       "      <td>27.6644</td>\n",
       "      <td>78.6874</td>\n",
       "      <td>104.14</td>\n",
       "      <td>69.5685</td>\n",
       "      <td>33.6979</td>\n",
       "      <td>22.5435</td>\n",
       "      <td>48.1496</td>\n",
       "      <td>59.2304</td>\n",
       "      <td>111.0044</td>\n",
       "      <td>...</td>\n",
       "      <td>118.69</td>\n",
       "      <td>148.7543</td>\n",
       "      <td>80.0698</td>\n",
       "      <td>47.0689</td>\n",
       "      <td>59.6733</td>\n",
       "      <td>786.90</td>\n",
       "      <td>28.5616</td>\n",
       "      <td>104.4537</td>\n",
       "      <td>72.80</td>\n",
       "      <td>215.1149</td>\n",
       "    </tr>\n",
       "    <tr>\n",
       "      <th>2017-01-05</th>\n",
       "      <td>111.3933</td>\n",
       "      <td>27.7288</td>\n",
       "      <td>79.6102</td>\n",
       "      <td>105.91</td>\n",
       "      <td>69.3946</td>\n",
       "      <td>33.6424</td>\n",
       "      <td>22.3152</td>\n",
       "      <td>48.3073</td>\n",
       "      <td>59.2304</td>\n",
       "      <td>109.3403</td>\n",
       "      <td>...</td>\n",
       "      <td>120.67</td>\n",
       "      <td>148.2621</td>\n",
       "      <td>80.0119</td>\n",
       "      <td>47.1458</td>\n",
       "      <td>59.5027</td>\n",
       "      <td>794.02</td>\n",
       "      <td>28.7079</td>\n",
       "      <td>105.2604</td>\n",
       "      <td>72.79</td>\n",
       "      <td>214.9440</td>\n",
       "    </tr>\n",
       "    <tr>\n",
       "      <th>2017-01-06</th>\n",
       "      <td>112.6351</td>\n",
       "      <td>27.7839</td>\n",
       "      <td>80.7098</td>\n",
       "      <td>108.30</td>\n",
       "      <td>69.4586</td>\n",
       "      <td>33.7627</td>\n",
       "      <td>22.3913</td>\n",
       "      <td>48.3537</td>\n",
       "      <td>59.7438</td>\n",
       "      <td>110.5860</td>\n",
       "      <td>...</td>\n",
       "      <td>123.41</td>\n",
       "      <td>148.9916</td>\n",
       "      <td>80.4075</td>\n",
       "      <td>47.4919</td>\n",
       "      <td>59.8439</td>\n",
       "      <td>806.15</td>\n",
       "      <td>28.7079</td>\n",
       "      <td>106.0180</td>\n",
       "      <td>73.80</td>\n",
       "      <td>215.7131</td>\n",
       "    </tr>\n",
       "    <tr>\n",
       "      <th>2017-01-09</th>\n",
       "      <td>113.6668</td>\n",
       "      <td>27.7379</td>\n",
       "      <td>80.2582</td>\n",
       "      <td>108.57</td>\n",
       "      <td>68.4518</td>\n",
       "      <td>33.8830</td>\n",
       "      <td>22.2391</td>\n",
       "      <td>47.9640</td>\n",
       "      <td>59.5536</td>\n",
       "      <td>109.3499</td>\n",
       "      <td>...</td>\n",
       "      <td>124.90</td>\n",
       "      <td>147.3393</td>\n",
       "      <td>80.3400</td>\n",
       "      <td>47.4823</td>\n",
       "      <td>59.3795</td>\n",
       "      <td>806.65</td>\n",
       "      <td>28.5250</td>\n",
       "      <td>105.8114</td>\n",
       "      <td>73.96</td>\n",
       "      <td>215.0010</td>\n",
       "    </tr>\n",
       "  </tbody>\n",
       "</table>\n",
       "<p>5 rows × 24 columns</p>\n",
       "</div>"
      ],
      "text/plain": [
       "            AAPL_Adj_Close  CSCO_Adj_Close  V_Adj_Close  ADBE_Adj_Close  \\\n",
       "Dt                                                                        \n",
       "2017-01-03        110.9539         27.8299      78.0492          103.48   \n",
       "2017-01-04        110.8297         27.6644      78.6874          104.14   \n",
       "2017-01-05        111.3933         27.7288      79.6102          105.91   \n",
       "2017-01-06        112.6351         27.7839      80.7098          108.30   \n",
       "2017-01-09        113.6668         27.7379      80.2582          108.57   \n",
       "\n",
       "            XLE_Adj_Close  INTC_Adj_Close  XLF_Adj_Close  XLP_Adj_Close  \\\n",
       "Dt                                                                        \n",
       "2017-01-03        69.7149         33.8738        22.3628        48.1496   \n",
       "2017-01-04        69.5685         33.6979        22.5435        48.1496   \n",
       "2017-01-05        69.3946         33.6424        22.3152        48.3073   \n",
       "2017-01-06        69.4586         33.7627        22.3913        48.3537   \n",
       "2017-01-09        68.4518         33.8830        22.2391        47.9640   \n",
       "\n",
       "            MSFT_Adj_Close  ACN_Adj_Close  ...  FB_Adj_Close  IBM_Adj_Close  \\\n",
       "Dt                                         ...                                \n",
       "2017-01-03         59.4966       110.7381  ...        116.86       146.9351   \n",
       "2017-01-04         59.2304       111.0044  ...        118.69       148.7543   \n",
       "2017-01-05         59.2304       109.3403  ...        120.67       148.2621   \n",
       "2017-01-06         59.7438       110.5860  ...        123.41       148.9916   \n",
       "2017-01-09         59.5536       109.3499  ...        124.90       147.3393   \n",
       "\n",
       "            XLY_Adj_Close  XLK_Adj_Close  XLI_Adj_Close  GOOG_Adj_Close  \\\n",
       "Dt                                                                        \n",
       "2017-01-03        79.0179        46.9054        59.3227          786.14   \n",
       "2017-01-04        80.0698        47.0689        59.6733          786.90   \n",
       "2017-01-05        80.0119        47.1458        59.5027          794.02   \n",
       "2017-01-06        80.4075        47.4919        59.8439          806.15   \n",
       "2017-01-09        80.3400        47.4823        59.3795          806.65   \n",
       "\n",
       "            XLRE_Adj_Close  MA_Adj_Close  CRM_Adj_Close  SPY_Adj_Close  \n",
       "Dt                                                                      \n",
       "2017-01-03         28.2050      103.4719          70.54       213.8428  \n",
       "2017-01-04         28.5616      104.4537          72.80       215.1149  \n",
       "2017-01-05         28.7079      105.2604          72.79       214.9440  \n",
       "2017-01-06         28.7079      106.0180          73.80       215.7131  \n",
       "2017-01-09         28.5250      105.8114          73.96       215.0010  \n",
       "\n",
       "[5 rows x 24 columns]"
      ]
     },
     "execution_count": 21,
     "metadata": {},
     "output_type": "execute_result"
    }
   ],
   "source": [
    "ticker = \"AAPL\"\n",
    "index_ticker = \"SPY\"\n",
    "dateAttr = \"Dt\"\n",
    "priceAttr = [\"Adj Close\"]\n",
    "tickers= [ticker] + stock_list #with new index_ticker XLP,XLK,and MSFT\n",
    "# YOUR CODE HERE\n",
    "\n",
    "new_data = helper.getData( tickers, index_ticker, priceAttr)\n",
    "new_data.head()"
   ]
  },
  {
   "cell_type": "markdown",
   "metadata": {},
   "source": [
    "### It shows the correlation with all other indexes"
   ]
  },
  {
   "cell_type": "code",
   "execution_count": 22,
   "metadata": {},
   "outputs": [
    {
     "data": {
      "text/plain": [
       "AAPL_Adj_Close    1.000000\n",
       "CSCO_Adj_Close    0.775709\n",
       "V_Adj_Close       0.873281\n",
       "ADBE_Adj_Close    0.869277\n",
       "XLE_Adj_Close     0.106807\n",
       "INTC_Adj_Close    0.741465\n",
       "XLF_Adj_Close     0.787756\n",
       "XLP_Adj_Close     0.634670\n",
       "MSFT_Adj_Close    0.872618\n",
       "ACN_Adj_Close     0.884844\n",
       "XLB_Adj_Close     0.657803\n",
       "XLU_Adj_Close     0.715530\n",
       "NVDA_Adj_Close    0.581038\n",
       "XLV_Adj_Close     0.857343\n",
       "FB_Adj_Close      0.608025\n",
       "IBM_Adj_Close    -0.239701\n",
       "XLY_Adj_Close     0.900569\n",
       "XLK_Adj_Close     0.930162\n",
       "XLI_Adj_Close     0.850510\n",
       "GOOG_Adj_Close    0.880728\n",
       "XLRE_Adj_Close    0.723696\n",
       "MA_Adj_Close      0.862622\n",
       "CRM_Adj_Close     0.830145\n",
       "SPY_Adj_Close     0.921954\n",
       "Name: AAPL_Adj_Close, dtype: float64"
      ]
     },
     "execution_count": 22,
     "metadata": {},
     "output_type": "execute_result"
    }
   ],
   "source": [
    "# See all the correlation with AAPL\n",
    "corr_list = new_data.corr()[\"AAPL_Adj_Close\"]\n",
    "corr_list"
   ]
  },
  {
   "cell_type": "code",
   "execution_count": 23,
   "metadata": {
    "scrolled": true
   },
   "outputs": [
    {
     "data": {
      "text/plain": [
       "AAPL_Adj_Close    1.000000\n",
       "V_Adj_Close       0.873281\n",
       "ADBE_Adj_Close    0.869277\n",
       "MSFT_Adj_Close    0.872618\n",
       "ACN_Adj_Close     0.884844\n",
       "XLV_Adj_Close     0.857343\n",
       "XLY_Adj_Close     0.900569\n",
       "XLK_Adj_Close     0.930162\n",
       "XLI_Adj_Close     0.850510\n",
       "GOOG_Adj_Close    0.880728\n",
       "MA_Adj_Close      0.862622\n",
       "CRM_Adj_Close     0.830145\n",
       "SPY_Adj_Close     0.921954\n",
       "Name: AAPL_Adj_Close, dtype: float64"
      ]
     },
     "execution_count": 23,
     "metadata": {},
     "output_type": "execute_result"
    }
   ],
   "source": [
    "# Here are all the correlation with AAPL, abs(correlation) higher than 0.8 can be\n",
    "# viewed as highly correlated. Therefore, I would use these stocks.\n",
    "clean_list = corr_list[abs(corr_list)>0.8]\n",
    "clean_list \n"
   ]
  },
  {
   "cell_type": "code",
   "execution_count": 24,
   "metadata": {},
   "outputs": [],
   "source": [
    "clean_list = clean_list.drop(\"SPY_Adj_Close\")\n",
    "clean_list = clean_list.drop(\"AAPL_Adj_Close\")"
   ]
  },
  {
   "cell_type": "markdown",
   "metadata": {},
   "source": [
    "### Compute all scores for each selection"
   ]
  },
  {
   "cell_type": "code",
   "execution_count": 25,
   "metadata": {},
   "outputs": [],
   "source": [
    "# I want to test all the combinations from my selected set, and test the R2\n",
    "# for all selections and choose the highest one.\n",
    "import itertools\n",
    "all_combs = []\n",
    "for i in range(len(clean_list)):\n",
    "    iter_list = itertools.combinations(clean_list.index,i+1)\n",
    "    for each in list(iter_list):\n",
    "        all_combs.append(list(each) + [\"SPY_Adj_Close\"] + [\"AAPL_Adj_Close\"])"
   ]
  },
  {
   "cell_type": "code",
   "execution_count": 26,
   "metadata": {},
   "outputs": [],
   "source": [
    "def total_function(test_tick):\n",
    "    # write a function to do the whole process\n",
    "    a = new_data[test_tick]\n",
    "    new_X = a.drop(['AAPL_Adj_Close'], axis=1).pct_change().dropna()\n",
    "    #new_X.head()\n",
    "    new_y=a['AAPL_Adj_Close'].pct_change().dropna()\n",
    "    #new_y.head()\n",
    "    new_X_train = getRange(new_X, start_dt, end_dt)[ start_dt:]\n",
    "    #new_X_train.head()\n",
    "    new_y_train = getRange(new_y, start_dt, end_dt)[ start_dt:]\n",
    "    #print(new_y_train.head())\n",
    "    new_X_test = getRange(new_X, test_start_dt, test_end_dt)[ test_start_dt:]\n",
    "    #new_X_test.head()\n",
    "    new_y_test = getRange(new_y, test_start_dt, test_end_dt)[ test_start_dt:]\n",
    "    #print(new_y_test.head())\n",
    "    new_regr=linear_model.LinearRegression()\n",
    "    new_regr.fit(new_X_train,new_y_train)\n",
    "    new_cross_val_avg = np.mean(cross_val_score(new_regr, new_X_train, new_y_train, cv=5))\n",
    "    new_aapl_predicted_in_sample = new_regr.predict(new_X_train)\n",
    "    new_aapl_predicted_out_sample = new_regr.predict(new_X_test)\n",
    "    new_rmse_in_sample = computeRMSE(new_y_train, new_aapl_predicted_in_sample)\n",
    "    new_rmse_out_sample = computeRMSE(new_y_test, new_aapl_predicted_out_sample)\n",
    "    return [new_cross_val_avg,new_aapl_predicted_in_sample,new_aapl_predicted_out_sample,new_rmse_in_sample,new_rmse_out_sample]\n",
    "\n",
    "    \n",
    "    \n",
    "    \n",
    "    "
   ]
  },
  {
   "cell_type": "code",
   "execution_count": 27,
   "metadata": {},
   "outputs": [],
   "source": [
    "total_score = []\n",
    "for i in all_combs:\n",
    "    score = total_function(i)[0]\n",
    "    total_score.append(score)"
   ]
  },
  {
   "cell_type": "markdown",
   "metadata": {},
   "source": [
    "### Find out the best one selection"
   ]
  },
  {
   "cell_type": "code",
   "execution_count": 28,
   "metadata": {},
   "outputs": [
    {
     "name": "stdout",
     "output_type": "stream",
     "text": [
      "Best Avg cross val score = 0.62\n"
     ]
    }
   ],
   "source": [
    "# This shows the index of the highest cross_val_score in the total list.\n",
    "total_score = pd.Series(total_score)\n",
    "max_index = total_score[total_score == total_score.max()]\n",
    "print(\"Best Avg cross val score = {sc:3.2f}\".format(sc=max_index.values[0]) )\n"
   ]
  },
  {
   "cell_type": "code",
   "execution_count": 29,
   "metadata": {},
   "outputs": [],
   "source": [
    "max_ticks = all_combs[max_index.index[0]]"
   ]
  },
  {
   "cell_type": "code",
   "execution_count": 30,
   "metadata": {},
   "outputs": [
    {
     "data": {
      "text/html": [
       "<div>\n",
       "<style scoped>\n",
       "    .dataframe tbody tr th:only-of-type {\n",
       "        vertical-align: middle;\n",
       "    }\n",
       "\n",
       "    .dataframe tbody tr th {\n",
       "        vertical-align: top;\n",
       "    }\n",
       "\n",
       "    .dataframe thead th {\n",
       "        text-align: right;\n",
       "    }\n",
       "</style>\n",
       "<table border=\"1\" class=\"dataframe\">\n",
       "  <thead>\n",
       "    <tr style=\"text-align: right;\">\n",
       "      <th></th>\n",
       "      <th>V_Adj_Close</th>\n",
       "      <th>MSFT_Adj_Close</th>\n",
       "      <th>ACN_Adj_Close</th>\n",
       "      <th>XLV_Adj_Close</th>\n",
       "      <th>XLK_Adj_Close</th>\n",
       "      <th>GOOG_Adj_Close</th>\n",
       "      <th>CRM_Adj_Close</th>\n",
       "      <th>SPY_Adj_Close</th>\n",
       "      <th>AAPL_Adj_Close</th>\n",
       "    </tr>\n",
       "    <tr>\n",
       "      <th>Dt</th>\n",
       "      <th></th>\n",
       "      <th></th>\n",
       "      <th></th>\n",
       "      <th></th>\n",
       "      <th></th>\n",
       "      <th></th>\n",
       "      <th></th>\n",
       "      <th></th>\n",
       "      <th></th>\n",
       "    </tr>\n",
       "  </thead>\n",
       "  <tbody>\n",
       "    <tr>\n",
       "      <th>2017-01-03</th>\n",
       "      <td>78.0492</td>\n",
       "      <td>59.4966</td>\n",
       "      <td>110.7381</td>\n",
       "      <td>66.9012</td>\n",
       "      <td>46.9054</td>\n",
       "      <td>786.14</td>\n",
       "      <td>70.54</td>\n",
       "      <td>213.8428</td>\n",
       "      <td>110.9539</td>\n",
       "    </tr>\n",
       "    <tr>\n",
       "      <th>2017-01-04</th>\n",
       "      <td>78.6874</td>\n",
       "      <td>59.2304</td>\n",
       "      <td>111.0044</td>\n",
       "      <td>67.4280</td>\n",
       "      <td>47.0689</td>\n",
       "      <td>786.90</td>\n",
       "      <td>72.80</td>\n",
       "      <td>215.1149</td>\n",
       "      <td>110.8297</td>\n",
       "    </tr>\n",
       "    <tr>\n",
       "      <th>2017-01-05</th>\n",
       "      <td>79.6102</td>\n",
       "      <td>59.2304</td>\n",
       "      <td>109.3403</td>\n",
       "      <td>67.7729</td>\n",
       "      <td>47.1458</td>\n",
       "      <td>794.02</td>\n",
       "      <td>72.79</td>\n",
       "      <td>214.9440</td>\n",
       "      <td>111.3933</td>\n",
       "    </tr>\n",
       "    <tr>\n",
       "      <th>2017-01-06</th>\n",
       "      <td>80.7098</td>\n",
       "      <td>59.7438</td>\n",
       "      <td>110.5860</td>\n",
       "      <td>67.9645</td>\n",
       "      <td>47.4919</td>\n",
       "      <td>806.15</td>\n",
       "      <td>73.80</td>\n",
       "      <td>215.7131</td>\n",
       "      <td>112.6351</td>\n",
       "    </tr>\n",
       "    <tr>\n",
       "      <th>2017-01-09</th>\n",
       "      <td>80.2582</td>\n",
       "      <td>59.5536</td>\n",
       "      <td>109.3499</td>\n",
       "      <td>68.2519</td>\n",
       "      <td>47.4823</td>\n",
       "      <td>806.65</td>\n",
       "      <td>73.96</td>\n",
       "      <td>215.0010</td>\n",
       "      <td>113.6668</td>\n",
       "    </tr>\n",
       "    <tr>\n",
       "      <th>...</th>\n",
       "      <td>...</td>\n",
       "      <td>...</td>\n",
       "      <td>...</td>\n",
       "      <td>...</td>\n",
       "      <td>...</td>\n",
       "      <td>...</td>\n",
       "      <td>...</td>\n",
       "      <td>...</td>\n",
       "      <td>...</td>\n",
       "    </tr>\n",
       "    <tr>\n",
       "      <th>2019-10-25</th>\n",
       "      <td>177.8500</td>\n",
       "      <td>140.7300</td>\n",
       "      <td>183.0700</td>\n",
       "      <td>92.0600</td>\n",
       "      <td>82.9200</td>\n",
       "      <td>1265.13</td>\n",
       "      <td>150.49</td>\n",
       "      <td>301.6000</td>\n",
       "      <td>245.8419</td>\n",
       "    </tr>\n",
       "    <tr>\n",
       "      <th>2019-10-28</th>\n",
       "      <td>179.8400</td>\n",
       "      <td>144.1900</td>\n",
       "      <td>182.8700</td>\n",
       "      <td>93.0100</td>\n",
       "      <td>83.9700</td>\n",
       "      <td>1290.00</td>\n",
       "      <td>154.79</td>\n",
       "      <td>303.3000</td>\n",
       "      <td>248.3045</td>\n",
       "    </tr>\n",
       "    <tr>\n",
       "      <th>2019-10-29</th>\n",
       "      <td>177.6300</td>\n",
       "      <td>142.8300</td>\n",
       "      <td>184.8000</td>\n",
       "      <td>94.3300</td>\n",
       "      <td>83.2100</td>\n",
       "      <td>1262.62</td>\n",
       "      <td>155.09</td>\n",
       "      <td>303.2100</td>\n",
       "      <td>242.5618</td>\n",
       "    </tr>\n",
       "    <tr>\n",
       "      <th>2019-10-30</th>\n",
       "      <td>179.2500</td>\n",
       "      <td>144.6100</td>\n",
       "      <td>186.5800</td>\n",
       "      <td>94.8600</td>\n",
       "      <td>83.7200</td>\n",
       "      <td>1261.29</td>\n",
       "      <td>158.28</td>\n",
       "      <td>304.1400</td>\n",
       "      <td>242.5318</td>\n",
       "    </tr>\n",
       "    <tr>\n",
       "      <th>2019-10-31</th>\n",
       "      <td>178.8600</td>\n",
       "      <td>143.3700</td>\n",
       "      <td>185.4200</td>\n",
       "      <td>94.7500</td>\n",
       "      <td>83.6700</td>\n",
       "      <td>1260.11</td>\n",
       "      <td>156.49</td>\n",
       "      <td>303.3300</td>\n",
       "      <td>248.0154</td>\n",
       "    </tr>\n",
       "  </tbody>\n",
       "</table>\n",
       "<p>713 rows × 9 columns</p>\n",
       "</div>"
      ],
      "text/plain": [
       "            V_Adj_Close  MSFT_Adj_Close  ACN_Adj_Close  XLV_Adj_Close  \\\n",
       "Dt                                                                      \n",
       "2017-01-03      78.0492         59.4966       110.7381        66.9012   \n",
       "2017-01-04      78.6874         59.2304       111.0044        67.4280   \n",
       "2017-01-05      79.6102         59.2304       109.3403        67.7729   \n",
       "2017-01-06      80.7098         59.7438       110.5860        67.9645   \n",
       "2017-01-09      80.2582         59.5536       109.3499        68.2519   \n",
       "...                 ...             ...            ...            ...   \n",
       "2019-10-25     177.8500        140.7300       183.0700        92.0600   \n",
       "2019-10-28     179.8400        144.1900       182.8700        93.0100   \n",
       "2019-10-29     177.6300        142.8300       184.8000        94.3300   \n",
       "2019-10-30     179.2500        144.6100       186.5800        94.8600   \n",
       "2019-10-31     178.8600        143.3700       185.4200        94.7500   \n",
       "\n",
       "            XLK_Adj_Close  GOOG_Adj_Close  CRM_Adj_Close  SPY_Adj_Close  \\\n",
       "Dt                                                                        \n",
       "2017-01-03        46.9054          786.14          70.54       213.8428   \n",
       "2017-01-04        47.0689          786.90          72.80       215.1149   \n",
       "2017-01-05        47.1458          794.02          72.79       214.9440   \n",
       "2017-01-06        47.4919          806.15          73.80       215.7131   \n",
       "2017-01-09        47.4823          806.65          73.96       215.0010   \n",
       "...                   ...             ...            ...            ...   \n",
       "2019-10-25        82.9200         1265.13         150.49       301.6000   \n",
       "2019-10-28        83.9700         1290.00         154.79       303.3000   \n",
       "2019-10-29        83.2100         1262.62         155.09       303.2100   \n",
       "2019-10-30        83.7200         1261.29         158.28       304.1400   \n",
       "2019-10-31        83.6700         1260.11         156.49       303.3300   \n",
       "\n",
       "            AAPL_Adj_Close  \n",
       "Dt                          \n",
       "2017-01-03        110.9539  \n",
       "2017-01-04        110.8297  \n",
       "2017-01-05        111.3933  \n",
       "2017-01-06        112.6351  \n",
       "2017-01-09        113.6668  \n",
       "...                    ...  \n",
       "2019-10-25        245.8419  \n",
       "2019-10-28        248.3045  \n",
       "2019-10-29        242.5618  \n",
       "2019-10-30        242.5318  \n",
       "2019-10-31        248.0154  \n",
       "\n",
       "[713 rows x 9 columns]"
      ]
     },
     "execution_count": 30,
     "metadata": {},
     "output_type": "execute_result"
    }
   ],
   "source": [
    "# This is the dataframe which outputs the highest score.\n",
    "max_features = new_data[max_ticks]\n",
    "max_features"
   ]
  },
  {
   "cell_type": "code",
   "execution_count": 31,
   "metadata": {},
   "outputs": [
    {
     "data": {
      "text/plain": [
       "<matplotlib.axes._subplots.AxesSubplot at 0x7f884ba64210>"
      ]
     },
     "execution_count": 31,
     "metadata": {},
     "output_type": "execute_result"
    },
    {
     "data": {
      "image/png": "[encoded data removed]",
      "text/plain": [
       "<Figure size 432x288 with 1 Axes>"
      ]
     },
     "metadata": {
      "needs_background": "light"
     },
     "output_type": "display_data"
    }
   ],
   "source": [
    "max_features.plot()"
   ]
  },
  {
   "cell_type": "markdown",
   "metadata": {},
   "source": [
    "### Evaluate Loss (in sample RMSE) and Performance (Out of sample RMSE)"
   ]
  },
  {
   "cell_type": "code",
   "execution_count": 32,
   "metadata": {},
   "outputs": [
    {
     "name": "stdout",
     "output_type": "stream",
     "text": [
      "In Sample Root Mean squared error: 0.008\n",
      "Out of Sample Root Mean squared error: 0.010\n"
     ]
    }
   ],
   "source": [
    "new_rmse_in_sample = total_function(max_ticks)[3]\n",
    "new_rmse_out_sample = total_function(max_ticks)[4]\n",
    "print(\"In Sample Root Mean squared error: {:.3f}\".format( new_rmse_in_sample ) )\n",
    "print(\"Out of Sample Root Mean squared error: {:.3f}\".format( new_rmse_out_sample ) )"
   ]
  },
  {
   "cell_type": "code",
   "execution_count": 33,
   "metadata": {},
   "outputs": [
    {
     "data": {
      "text/html": [
       "<div>\n",
       "<style scoped>\n",
       "    .dataframe tbody tr th:only-of-type {\n",
       "        vertical-align: middle;\n",
       "    }\n",
       "\n",
       "    .dataframe tbody tr th {\n",
       "        vertical-align: top;\n",
       "    }\n",
       "\n",
       "    .dataframe thead th {\n",
       "        text-align: right;\n",
       "    }\n",
       "</style>\n",
       "<table border=\"1\" class=\"dataframe\">\n",
       "  <thead>\n",
       "    <tr style=\"text-align: right;\">\n",
       "      <th></th>\n",
       "      <th>V_Adj_Close</th>\n",
       "      <th>MSFT_Adj_Close</th>\n",
       "      <th>ACN_Adj_Close</th>\n",
       "      <th>XLV_Adj_Close</th>\n",
       "      <th>XLK_Adj_Close</th>\n",
       "      <th>GOOG_Adj_Close</th>\n",
       "      <th>CRM_Adj_Close</th>\n",
       "      <th>SPY_Adj_Close</th>\n",
       "    </tr>\n",
       "    <tr>\n",
       "      <th>Dt</th>\n",
       "      <th></th>\n",
       "      <th></th>\n",
       "      <th></th>\n",
       "      <th></th>\n",
       "      <th></th>\n",
       "      <th></th>\n",
       "      <th></th>\n",
       "      <th></th>\n",
       "    </tr>\n",
       "  </thead>\n",
       "  <tbody>\n",
       "    <tr>\n",
       "      <th>2017-01-04</th>\n",
       "      <td>0.008177</td>\n",
       "      <td>-0.004474</td>\n",
       "      <td>0.002405</td>\n",
       "      <td>0.007874</td>\n",
       "      <td>0.003486</td>\n",
       "      <td>0.000967</td>\n",
       "      <td>0.032039</td>\n",
       "      <td>0.005949</td>\n",
       "    </tr>\n",
       "    <tr>\n",
       "      <th>2017-01-05</th>\n",
       "      <td>0.011727</td>\n",
       "      <td>0.000000</td>\n",
       "      <td>-0.014991</td>\n",
       "      <td>0.005115</td>\n",
       "      <td>0.001634</td>\n",
       "      <td>0.009048</td>\n",
       "      <td>-0.000137</td>\n",
       "      <td>-0.000794</td>\n",
       "    </tr>\n",
       "    <tr>\n",
       "      <th>2017-01-06</th>\n",
       "      <td>0.013812</td>\n",
       "      <td>0.008668</td>\n",
       "      <td>0.011393</td>\n",
       "      <td>0.002827</td>\n",
       "      <td>0.007341</td>\n",
       "      <td>0.015277</td>\n",
       "      <td>0.013876</td>\n",
       "      <td>0.003578</td>\n",
       "    </tr>\n",
       "    <tr>\n",
       "      <th>2017-01-09</th>\n",
       "      <td>-0.005595</td>\n",
       "      <td>-0.003184</td>\n",
       "      <td>-0.011178</td>\n",
       "      <td>0.004229</td>\n",
       "      <td>-0.000202</td>\n",
       "      <td>0.000620</td>\n",
       "      <td>0.002168</td>\n",
       "      <td>-0.003301</td>\n",
       "    </tr>\n",
       "    <tr>\n",
       "      <th>2017-01-10</th>\n",
       "      <td>-0.005383</td>\n",
       "      <td>-0.000319</td>\n",
       "      <td>0.000521</td>\n",
       "      <td>0.003509</td>\n",
       "      <td>0.000202</td>\n",
       "      <td>-0.002306</td>\n",
       "      <td>0.000270</td>\n",
       "      <td>0.000000</td>\n",
       "    </tr>\n",
       "  </tbody>\n",
       "</table>\n",
       "</div>"
      ],
      "text/plain": [
       "            V_Adj_Close  MSFT_Adj_Close  ACN_Adj_Close  XLV_Adj_Close  \\\n",
       "Dt                                                                      \n",
       "2017-01-04     0.008177       -0.004474       0.002405       0.007874   \n",
       "2017-01-05     0.011727        0.000000      -0.014991       0.005115   \n",
       "2017-01-06     0.013812        0.008668       0.011393       0.002827   \n",
       "2017-01-09    -0.005595       -0.003184      -0.011178       0.004229   \n",
       "2017-01-10    -0.005383       -0.000319       0.000521       0.003509   \n",
       "\n",
       "            XLK_Adj_Close  GOOG_Adj_Close  CRM_Adj_Close  SPY_Adj_Close  \n",
       "Dt                                                                       \n",
       "2017-01-04       0.003486        0.000967       0.032039       0.005949  \n",
       "2017-01-05       0.001634        0.009048      -0.000137      -0.000794  \n",
       "2017-01-06       0.007341        0.015277       0.013876       0.003578  \n",
       "2017-01-09      -0.000202        0.000620       0.002168      -0.003301  \n",
       "2017-01-10       0.000202       -0.002306       0.000270       0.000000  "
      ]
     },
     "execution_count": 33,
     "metadata": {},
     "output_type": "execute_result"
    }
   ],
   "source": [
    "new_X = max_features.drop(['AAPL_Adj_Close'], axis=1).pct_change().dropna()\n",
    "new_X.head()"
   ]
  },
  {
   "cell_type": "code",
   "execution_count": 34,
   "metadata": {},
   "outputs": [
    {
     "data": {
      "text/plain": [
       "Dt\n",
       "2017-01-04   -0.001119\n",
       "2017-01-05    0.005085\n",
       "2017-01-06    0.011148\n",
       "2017-01-09    0.009160\n",
       "2017-01-10    0.001009\n",
       "Name: AAPL_Adj_Close, dtype: float64"
      ]
     },
     "execution_count": 34,
     "metadata": {},
     "output_type": "execute_result"
    }
   ],
   "source": [
    "new_y=max_features['AAPL_Adj_Close'].pct_change().dropna()\n",
    "new_y.head()"
   ]
  },
  {
   "cell_type": "code",
   "execution_count": 35,
   "metadata": {
    "scrolled": true
   },
   "outputs": [
    {
     "name": "stdout",
     "output_type": "stream",
     "text": [
      "            V_Adj_Close  MSFT_Adj_Close  ACN_Adj_Close  XLV_Adj_Close  \\\n",
      "Dt                                                                      \n",
      "2018-01-02     0.004297        0.004793       0.004900       0.011248   \n",
      "2018-01-03     0.009955        0.004654       0.004615       0.009568   \n",
      "2018-01-04     0.003719        0.008800       0.011841       0.001421   \n",
      "2018-01-05     0.023949        0.012399       0.008249       0.008518   \n",
      "2018-01-08     0.004038        0.001020       0.007992      -0.003636   \n",
      "\n",
      "            XLK_Adj_Close  GOOG_Adj_Close  CRM_Adj_Close  SPY_Adj_Close  \n",
      "Dt                                                                       \n",
      "2018-01-02       0.012352        0.017775       0.021324       0.007158  \n",
      "2018-01-03       0.008342        0.016413       0.008428       0.006325  \n",
      "2018-01-04       0.005055        0.003621       0.013202       0.004215  \n",
      "2018-01-05       0.010517        0.014571       0.013311       0.006664  \n",
      "2018-01-08       0.003771        0.004273       0.007031       0.001829  \n"
     ]
    }
   ],
   "source": [
    "new_X_train = getRange(new_X, start_dt, end_dt)[ start_dt:]\n",
    "print(new_X_train.head())"
   ]
  },
  {
   "cell_type": "code",
   "execution_count": 36,
   "metadata": {
    "scrolled": true
   },
   "outputs": [
    {
     "name": "stdout",
     "output_type": "stream",
     "text": [
      "Dt\n",
      "2018-01-02    0.017905\n",
      "2018-01-03   -0.000174\n",
      "2018-01-04    0.004645\n",
      "2018-01-05    0.011385\n",
      "2018-01-08   -0.003714\n",
      "Name: AAPL_Adj_Close, dtype: float64\n"
     ]
    }
   ],
   "source": [
    "new_y_train = getRange(new_y, start_dt, end_dt)[ start_dt:]\n",
    "print(new_y_train.head())"
   ]
  },
  {
   "cell_type": "code",
   "execution_count": 37,
   "metadata": {},
   "outputs": [],
   "source": [
    "X_train_500=new_X[:500]\n",
    "X_test_500=new_X[500:]\n",
    "y_train_500=new_y[:500]\n",
    "y_test_500=new_y[500:]"
   ]
  },
  {
   "cell_type": "code",
   "execution_count": 38,
   "metadata": {},
   "outputs": [
    {
     "data": {
      "text/plain": [
       "LinearRegression()"
      ]
     },
     "execution_count": 38,
     "metadata": {},
     "output_type": "execute_result"
    }
   ],
   "source": [
    "regr_500=linear_model.LinearRegression()\n",
    "regr_500.fit(X_train_500,y_train_500)"
   ]
  },
  {
   "cell_type": "code",
   "execution_count": 39,
   "metadata": {},
   "outputs": [
    {
     "name": "stdout",
     "output_type": "stream",
     "text": [
      "Avg cross val score = 0.68\n"
     ]
    }
   ],
   "source": [
    "score = cross_val_score(regr_500, X_train_500, y_train_500, cv=5).mean()\n",
    "print(\"Avg cross val score = {sc:3.2f}\".format(sc=score) )\n"
   ]
  },
  {
   "cell_type": "code",
   "execution_count": 40,
   "metadata": {},
   "outputs": [
    {
     "name": "stdout",
     "output_type": "stream",
     "text": [
      "In Sample Root Mean squared error: 0.008\n",
      "Out of Sample Root Mean squared error: 0.010\n"
     ]
    }
   ],
   "source": [
    "aapl_predicted_in_sample_500 = regr_500.predict(X_train_500)\n",
    "aapl_predicted_out_sample_500 = regr_500.predict(X_test_500)\n",
    "rmse_in_sample_500 = computeRMSE(y_train_500, aapl_predicted_in_sample_500)\n",
    "rmse_out_sample_500 = computeRMSE(y_test_500,aapl_predicted_out_sample_500)\n",
    "print(\"In Sample Root Mean squared error: {:.3f}\".format( new_rmse_in_sample ) )\n",
    "print(\"Out of Sample Root Mean squared error: {:.3f}\".format( new_rmse_out_sample ) )\n"
   ]
  },
  {
   "cell_type": "code",
   "execution_count": 41,
   "metadata": {},
   "outputs": [],
   "source": [
    "# This model has relatively good prediction, and it has higher prediction\n",
    "# score when choosing different range of time. And the range of time also\n",
    "# can be considered as feature for furture studies when prediction stock price."
   ]
  },
  {
   "cell_type": "code",
   "execution_count": null,
   "metadata": {},
   "outputs": [],
   "source": []
  },
  {
   "cell_type": "code",
   "execution_count": null,
   "metadata": {},
   "outputs": [],
   "source": []
  },
  {
   "cell_type": "code",
   "execution_count": null,
   "metadata": {},
   "outputs": [],
   "source": []
  },
  {
   "cell_type": "code",
   "execution_count": null,
   "metadata": {},
   "outputs": [],
   "source": []
  },
  {
   "cell_type": "code",
   "execution_count": null,
   "metadata": {},
   "outputs": [],
   "source": []
  }
 ],
 "metadata": {
  "kernelspec": {
   "display_name": "Python 3",
   "language": "python",
   "name": "python3"
  },
  "language_info": {
   "codemirror_mode": {
    "name": "ipython",
    "version": 3
   },
   "file_extension": ".py",
   "mimetype": "text/x-python",
   "name": "python",
   "nbconvert_exporter": "python",
   "pygments_lexer": "ipython3",
   "version": "3.7.7"
  },
  "toc": {
   "base_numbering": 1,
   "nav_menu": {},
   "number_sections": true,
   "sideBar": true,
   "skip_h1_title": false,
   "title_cell": "Table of Contents",
   "title_sidebar": "Contents",
   "toc_cell": false,
   "toc_position": {
    "height": "calc(100% - 180px)",
    "left": "10px",
    "top": "150px",
    "width": "174.594px"
   },
   "toc_section_display": true,
   "toc_window_display": true
  }
 },
 "nbformat": 4,
 "nbformat_minor": 2
}

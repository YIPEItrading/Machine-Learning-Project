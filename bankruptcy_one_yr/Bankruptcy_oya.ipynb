{
 "cells": [
  {
   "cell_type": "markdown",
   "metadata": {},
   "source": [
    "# Problem description\n",
    "\n",
    "You are to predict whether a company will go bankrupt in the following year, based on financial attributes of the company.\n",
    "\n",
    "Perhaps you are contemplating lending money to a company, and need to know whether the company\n",
    "is in near-term danger of not being able to repay.\n"
   ]
  },
  {
   "cell_type": "markdown",
   "metadata": {},
   "source": [
    "## Goal"
   ]
  },
  {
   "cell_type": "markdown",
   "metadata": {
    "slideshow": {
     "slide_type": "fragment"
    }
   },
   "source": [
    "## Learning objectives\n",
    "\n",
    "- Demonstrate mastery on solving a classification problem and presenting\n",
    "the entire Recipe for Machine Learning process in a notebook.\n",
    "- We will make suggestions for ways to approach the problem\n",
    "    - But there will be little explicit direction for this task.\n",
    "- It is meant to be analogous to a pre-interview task that a potential employer might assign\n",
    "to verify your skill"
   ]
  },
  {
   "cell_type": "markdown",
   "metadata": {},
   "source": [
    "# Import modules"
   ]
  },
  {
   "cell_type": "code",
   "execution_count": 1,
   "metadata": {},
   "outputs": [],
   "source": [
    "## Standard imports\n",
    "import numpy as np\n",
    "import pandas as pd\n",
    "import matplotlib.pyplot as plt\n",
    "\n",
    "import sklearn\n",
    "\n",
    "import os\n",
    "import math\n",
    "\n",
    "%matplotlib inline\n"
   ]
  },
  {
   "cell_type": "markdown",
   "metadata": {},
   "source": [
    "# API for students"
   ]
  },
  {
   "cell_type": "code",
   "execution_count": 2,
   "metadata": {},
   "outputs": [],
   "source": [
    "## Load the bankruptcy_helper module\n",
    "\n",
    "from IPython.core.interactiveshell import InteractiveShell\n",
    "InteractiveShell.ast_node_interactivity = \"all\"\n",
    "\n",
    "# Reload all modules imported with %aimport\n",
    "%load_ext autoreload\n",
    "%autoreload 1\n",
    "\n",
    "# Import bankruptcy_helper module\n",
    "import bankruptcy_helper\n",
    "%aimport bankruptcy_helper\n",
    "\n",
    "helper = bankruptcy_helper.Helper()"
   ]
  },
  {
   "cell_type": "markdown",
   "metadata": {},
   "source": [
    "# Get the data\n",
    "\n",
    "The first step in our Recipe is Get the Data.\n",
    "\n",
    "- Each example is a row of data corresponding to a single company\n",
    "- There are 64 attributes, described in the section below\n",
    "- The column `Bankrupt` is 1 if the company subsequently went bankrupt; 0 if it did not go bankrupt\n",
    "- The column `Id` is a Company Identifier"
   ]
  },
  {
   "cell_type": "code",
   "execution_count": 3,
   "metadata": {},
   "outputs": [
    {
     "name": "stdout",
     "output_type": "stream",
     "text": [
      "Date shape:  (4818, 66)\n"
     ]
    }
   ],
   "source": [
    "# Data directory\n",
    "DATA_DIR = \"./Data\"\n",
    "\n",
    "if not os.path.isdir(DATA_DIR):\n",
    "    DATA_DIR = \"../resource/asnlib/publicdata/bankruptcy/data\"\n",
    "\n",
    "data_file = \"5th_yr.csv\"\n",
    "data = pd.read_csv( os.path.join(DATA_DIR, \"train\", data_file) )\n",
    "\n",
    "target_attr = \"Bankrupt\"\n",
    "\n",
    "n_samples, n_attrs = data.shape\n",
    "print(\"Date shape: \", data.shape)"
   ]
  },
  {
   "cell_type": "markdown",
   "metadata": {},
   "source": [
    "## Have a look at the data\n",
    "\n",
    "We will not go through all steps in the Recipe, nor in depth.\n",
    "\n",
    "But here's a peek"
   ]
  },
  {
   "cell_type": "code",
   "execution_count": 4,
   "metadata": {},
   "outputs": [
    {
     "data": {
      "text/html": [
       "<div>\n",
       "<style scoped>\n",
       "    .dataframe tbody tr th:only-of-type {\n",
       "        vertical-align: middle;\n",
       "    }\n",
       "\n",
       "    .dataframe tbody tr th {\n",
       "        vertical-align: top;\n",
       "    }\n",
       "\n",
       "    .dataframe thead th {\n",
       "        text-align: right;\n",
       "    }\n",
       "</style>\n",
       "<table border=\"1\" class=\"dataframe\">\n",
       "  <thead>\n",
       "    <tr style=\"text-align: right;\">\n",
       "      <th></th>\n",
       "      <th>X1</th>\n",
       "      <th>X2</th>\n",
       "      <th>X3</th>\n",
       "      <th>X4</th>\n",
       "      <th>X5</th>\n",
       "      <th>X6</th>\n",
       "      <th>X7</th>\n",
       "      <th>X8</th>\n",
       "      <th>X9</th>\n",
       "      <th>X10</th>\n",
       "      <th>...</th>\n",
       "      <th>X57</th>\n",
       "      <th>X58</th>\n",
       "      <th>X59</th>\n",
       "      <th>X60</th>\n",
       "      <th>X61</th>\n",
       "      <th>X62</th>\n",
       "      <th>X63</th>\n",
       "      <th>X64</th>\n",
       "      <th>Bankrupt</th>\n",
       "      <th>Id</th>\n",
       "    </tr>\n",
       "  </thead>\n",
       "  <tbody>\n",
       "    <tr>\n",
       "      <th>0</th>\n",
       "      <td>0.025417</td>\n",
       "      <td>0.41769</td>\n",
       "      <td>0.0568</td>\n",
       "      <td>1.1605</td>\n",
       "      <td>-126.39</td>\n",
       "      <td>0.41355</td>\n",
       "      <td>0.025417</td>\n",
       "      <td>1.2395</td>\n",
       "      <td>1.16500</td>\n",
       "      <td>0.51773</td>\n",
       "      <td>...</td>\n",
       "      <td>0.049094</td>\n",
       "      <td>0.85835</td>\n",
       "      <td>0.12322</td>\n",
       "      <td>5.6167</td>\n",
       "      <td>7.4042</td>\n",
       "      <td>164.310</td>\n",
       "      <td>2.2214</td>\n",
       "      <td>1.334</td>\n",
       "      <td>0</td>\n",
       "      <td>4510</td>\n",
       "    </tr>\n",
       "    <tr>\n",
       "      <th>1</th>\n",
       "      <td>-0.023834</td>\n",
       "      <td>0.2101</td>\n",
       "      <td>0.50839</td>\n",
       "      <td>4.2374</td>\n",
       "      <td>22.034</td>\n",
       "      <td>0.058412</td>\n",
       "      <td>-0.027621</td>\n",
       "      <td>3.6579</td>\n",
       "      <td>0.98183</td>\n",
       "      <td>0.76855</td>\n",
       "      <td>...</td>\n",
       "      <td>-0.031011</td>\n",
       "      <td>1.01850</td>\n",
       "      <td>0.069047</td>\n",
       "      <td>5.7996</td>\n",
       "      <td>7.7529</td>\n",
       "      <td>26.446</td>\n",
       "      <td>13.802</td>\n",
       "      <td>6.4782</td>\n",
       "      <td>0</td>\n",
       "      <td>3537</td>\n",
       "    </tr>\n",
       "    <tr>\n",
       "      <th>2</th>\n",
       "      <td>0.030515</td>\n",
       "      <td>0.44606</td>\n",
       "      <td>0.19569</td>\n",
       "      <td>1.565</td>\n",
       "      <td>35.766</td>\n",
       "      <td>0.28196</td>\n",
       "      <td>0.039264</td>\n",
       "      <td>0.88456</td>\n",
       "      <td>1.05260</td>\n",
       "      <td>0.39457</td>\n",
       "      <td>...</td>\n",
       "      <td>0.077337</td>\n",
       "      <td>0.95006</td>\n",
       "      <td>0.25266</td>\n",
       "      <td>15.049</td>\n",
       "      <td>2.8179</td>\n",
       "      <td>104.730</td>\n",
       "      <td>3.4852</td>\n",
       "      <td>2.6361</td>\n",
       "      <td>0</td>\n",
       "      <td>3920</td>\n",
       "    </tr>\n",
       "    <tr>\n",
       "      <th>3</th>\n",
       "      <td>0.052318</td>\n",
       "      <td>0.056366</td>\n",
       "      <td>0.54562</td>\n",
       "      <td>10.68</td>\n",
       "      <td>438.2</td>\n",
       "      <td>0.13649</td>\n",
       "      <td>0.058164</td>\n",
       "      <td>10.853</td>\n",
       "      <td>1.02790</td>\n",
       "      <td>0.61173</td>\n",
       "      <td>...</td>\n",
       "      <td>0.085524</td>\n",
       "      <td>0.97282</td>\n",
       "      <td>0</td>\n",
       "      <td>6.0157</td>\n",
       "      <td>7.4626</td>\n",
       "      <td>48.756</td>\n",
       "      <td>7.4863</td>\n",
       "      <td>1.0602</td>\n",
       "      <td>0</td>\n",
       "      <td>1806</td>\n",
       "    </tr>\n",
       "    <tr>\n",
       "      <th>4</th>\n",
       "      <td>0.000992</td>\n",
       "      <td>0.49712</td>\n",
       "      <td>0.12316</td>\n",
       "      <td>1.3036</td>\n",
       "      <td>-71.398</td>\n",
       "      <td>0</td>\n",
       "      <td>0.001007</td>\n",
       "      <td>1.0116</td>\n",
       "      <td>1.29210</td>\n",
       "      <td>0.50288</td>\n",
       "      <td>...</td>\n",
       "      <td>0.001974</td>\n",
       "      <td>0.99925</td>\n",
       "      <td>0.019736</td>\n",
       "      <td>3.4819</td>\n",
       "      <td>8.582</td>\n",
       "      <td>114.580</td>\n",
       "      <td>3.1854</td>\n",
       "      <td>2.742</td>\n",
       "      <td>0</td>\n",
       "      <td>1529</td>\n",
       "    </tr>\n",
       "  </tbody>\n",
       "</table>\n",
       "<p>5 rows × 66 columns</p>\n",
       "</div>"
      ],
      "text/plain": [
       "          X1        X2       X3      X4       X5        X6         X7  \\\n",
       "0   0.025417   0.41769   0.0568  1.1605  -126.39   0.41355   0.025417   \n",
       "1  -0.023834    0.2101  0.50839  4.2374   22.034  0.058412  -0.027621   \n",
       "2   0.030515   0.44606  0.19569   1.565   35.766   0.28196   0.039264   \n",
       "3   0.052318  0.056366  0.54562   10.68    438.2   0.13649   0.058164   \n",
       "4   0.000992   0.49712  0.12316  1.3036  -71.398         0   0.001007   \n",
       "\n",
       "        X8       X9      X10  ...        X57      X58       X59     X60  \\\n",
       "0   1.2395  1.16500  0.51773  ...   0.049094  0.85835   0.12322  5.6167   \n",
       "1   3.6579  0.98183  0.76855  ...  -0.031011  1.01850  0.069047  5.7996   \n",
       "2  0.88456  1.05260  0.39457  ...   0.077337  0.95006   0.25266  15.049   \n",
       "3   10.853  1.02790  0.61173  ...   0.085524  0.97282         0  6.0157   \n",
       "4   1.0116  1.29210  0.50288  ...   0.001974  0.99925  0.019736  3.4819   \n",
       "\n",
       "      X61      X62     X63     X64  Bankrupt    Id  \n",
       "0  7.4042  164.310  2.2214   1.334         0  4510  \n",
       "1  7.7529   26.446  13.802  6.4782         0  3537  \n",
       "2  2.8179  104.730  3.4852  2.6361         0  3920  \n",
       "3  7.4626   48.756  7.4863  1.0602         0  1806  \n",
       "4   8.582  114.580  3.1854   2.742         0  1529  \n",
       "\n",
       "[5 rows x 66 columns]"
      ]
     },
     "execution_count": 4,
     "metadata": {},
     "output_type": "execute_result"
    }
   ],
   "source": [
    "data.head()"
   ]
  },
  {
   "cell_type": "markdown",
   "metadata": {},
   "source": [
    "Pretty *unhelpful* !\n",
    "\n",
    "What are these mysteriously named features ?\n",
    "\n",
    "## Description of attributes"
   ]
  },
  {
   "cell_type": "raw",
   "metadata": {},
   "source": [
    "Attribute Information:\n",
    "\n",
    "Id Company Identifier \n",
    "X1 net profit / total assets\n",
    "X2 total liabilities / total assets\n",
    "X3 working capital / total assets\n",
    "X4 current assets / short-term liabilities\n",
    "X5 [(cash + short-term securities + receivables - short-term liabilities) / (operating expenses - depreciation)] * 365\n",
    "X6 retained earnings / total assets\n",
    "X7 EBIT / total assets\n",
    "X8 book value of equity / total liabilities\n",
    "X9 sales / total assets\n",
    "X10 equity / total assets\n",
    "X11 (gross profit + extraordinary items + financial expenses) / total assets\n",
    "X12 gross profit / short-term liabilities\n",
    "X13 (gross profit + depreciation) / sales\n",
    "X14 (gross profit + interest) / total assets\n",
    "X15 (total liabilities * 365) / (gross profit + depreciation)\n",
    "X16 (gross profit + depreciation) / total liabilities\n",
    "X17 total assets / total liabilities\n",
    "X18 gross profit / total assets\n",
    "X19 gross profit / sales\n",
    "X20 (inventory * 365) / sales\n",
    "X21 sales (n) / sales (n-1)\n",
    "X22 profit on operating activities / total assets\n",
    "X23 net profit / sales\n",
    "X24 gross profit (in 3 years) / total assets\n",
    "X25 (equity - share capital) / total assets\n",
    "X26 (net profit + depreciation) / total liabilities\n",
    "X27 profit on operating activities / financial expenses\n",
    "X28 working capital / fixed assets\n",
    "X29 logarithm of total assets\n",
    "X30 (total liabilities - cash) / sales\n",
    "X31 (gross profit + interest) / sales\n",
    "X32 (current liabilities * 365) / cost of products sold\n",
    "X33 operating expenses / short-term liabilities\n",
    "X34 operating expenses / total liabilities\n",
    "X35 profit on sales / total assets\n",
    "X36 total sales / total assets\n",
    "X37 (current assets - inventories) / long-term liabilities\n",
    "X38 constant capital / total assets\n",
    "X39 profit on sales / sales\n",
    "X40 (current assets - inventory - receivables) / short-term liabilities\n",
    "X41 total liabilities / ((profit on operating activities + depreciation) * (12/365))\n",
    "X42 profit on operating activities / sales\n",
    "X43 rotation receivables + inventory turnover in days\n",
    "X44 (receivables * 365) / sales\n",
    "X45 net profit / inventory\n",
    "X46 (current assets - inventory) / short-term liabilities\n",
    "X47 (inventory * 365) / cost of products sold\n",
    "X48 EBITDA (profit on operating activities - depreciation) / total assets\n",
    "X49 EBITDA (profit on operating activities - depreciation) / sales\n",
    "X50 current assets / total liabilities\n",
    "X51 short-term liabilities / total assets\n",
    "X52 (short-term liabilities * 365) / cost of products sold)\n",
    "X53 equity / fixed assets\n",
    "X54 constant capital / fixed assets\n",
    "X55 working capital\n",
    "X56 (sales - cost of products sold) / sales\n",
    "X57 (current assets - inventory - short-term liabilities) / (sales - gross profit - depreciation)\n",
    "X58 total costs /total sales\n",
    "X59 long-term liabilities / equity\n",
    "X60 sales / inventory\n",
    "X61 sales / receivables\n",
    "X62 (short-term liabilities *365) / sales\n",
    "X63 sales / short-term liabilities\n",
    "X64 sales / fixed assets\n"
   ]
  },
  {
   "cell_type": "markdown",
   "metadata": {},
   "source": [
    "This may still be somewhat unhelpful for those of you not used to reading Financial Statements.\n",
    "\n",
    "But that's partially the point of the exercise\n",
    "- You can *still* perform Machine Learning *even if* you are not an expert in the problem domain\n",
    "    - That's what makes this a good interview exercise: you can demonstrate your thought process even if you don't know the exact meaning of the terms\n",
    "- Of course: becoming an expert in the domain *will improve* your ability to create better models\n",
    "    - Feature engineering is easier if you understand the features, their inter-relationships, and the relationship to the target"
   ]
  },
  {
   "cell_type": "markdown",
   "metadata": {},
   "source": [
    "Let's get a feel for the data\n",
    "- What is the type of each attribute ?\n"
   ]
  },
  {
   "cell_type": "code",
   "execution_count": 5,
   "metadata": {},
   "outputs": [
    {
     "name": "stdout",
     "output_type": "stream",
     "text": [
      "<class 'pandas.core.frame.DataFrame'>\n",
      "RangeIndex: 4818 entries, 0 to 4817\n",
      "Data columns (total 66 columns):\n",
      "X1          4818 non-null object\n",
      "X2          4818 non-null object\n",
      "X3          4818 non-null object\n",
      "X4          4818 non-null object\n",
      "X5          4818 non-null object\n",
      "X6          4818 non-null object\n",
      "X7          4818 non-null object\n",
      "X8          4818 non-null object\n",
      "X9          4818 non-null float64\n",
      "X10         4818 non-null object\n",
      "X11         4818 non-null object\n",
      "X12         4818 non-null object\n",
      "X13         4818 non-null float64\n",
      "X14         4818 non-null object\n",
      "X15         4818 non-null object\n",
      "X16         4818 non-null object\n",
      "X17         4818 non-null object\n",
      "X18         4818 non-null object\n",
      "X19         4818 non-null float64\n",
      "X20         4818 non-null float64\n",
      "X21         4818 non-null object\n",
      "X22         4818 non-null object\n",
      "X23         4818 non-null float64\n",
      "X24         4818 non-null object\n",
      "X25         4818 non-null object\n",
      "X26         4818 non-null object\n",
      "X27         4818 non-null object\n",
      "X28         4818 non-null object\n",
      "X29         4818 non-null object\n",
      "X30         4818 non-null float64\n",
      "X31         4818 non-null float64\n",
      "X32         4818 non-null object\n",
      "X33         4818 non-null object\n",
      "X34         4818 non-null object\n",
      "X35         4818 non-null object\n",
      "X36         4818 non-null object\n",
      "X37         4818 non-null object\n",
      "X38         4818 non-null object\n",
      "X39         4818 non-null float64\n",
      "X40         4818 non-null object\n",
      "X41         4818 non-null object\n",
      "X42         4818 non-null float64\n",
      "X43         4818 non-null float64\n",
      "X44         4818 non-null float64\n",
      "X45         4818 non-null object\n",
      "X46         4818 non-null object\n",
      "X47         4818 non-null object\n",
      "X48         4818 non-null object\n",
      "X49         4818 non-null float64\n",
      "X50         4818 non-null object\n",
      "X51         4818 non-null object\n",
      "X52         4818 non-null object\n",
      "X53         4818 non-null object\n",
      "X54         4818 non-null object\n",
      "X55         4818 non-null float64\n",
      "X56         4818 non-null float64\n",
      "X57         4818 non-null object\n",
      "X58         4818 non-null float64\n",
      "X59         4818 non-null object\n",
      "X60         4818 non-null object\n",
      "X61         4818 non-null object\n",
      "X62         4818 non-null float64\n",
      "X63         4818 non-null object\n",
      "X64         4818 non-null object\n",
      "Bankrupt    4818 non-null int64\n",
      "Id          4818 non-null int64\n",
      "dtypes: float64(16), int64(2), object(48)\n",
      "memory usage: 2.4+ MB\n"
     ]
    }
   ],
   "source": [
    "data.info()"
   ]
  },
  {
   "cell_type": "markdown",
   "metadata": {},
   "source": [
    "You may be puzzled:\n",
    "- Most attributes are `object` and *not* numeric (`float64`)\n",
    "- But looking at the data via `data.head()` certainly gives the impression that all attributes are numeric\n",
    "\n",
    "Welcome to the world of messy data !  The dataset has represented numbers as strings.\n",
    "- These little unexpected challenges are common in the real-word\n",
    "- Data is rarely perfect and clean"
   ]
  },
  {
   "cell_type": "markdown",
   "metadata": {},
   "source": [
    "So you might want to first convert all attributes to numeric\n",
    "\n",
    "**Hint**\n",
    "- Look up the Pandas method `to_numeric`\n",
    "    - We suggest you use the option `errors='coerce'`\n",
    "    "
   ]
  },
  {
   "cell_type": "code",
   "execution_count": 6,
   "metadata": {
    "scrolled": false
   },
   "outputs": [
    {
     "name": "stdout",
     "output_type": "stream",
     "text": [
      "<class 'pandas.core.frame.DataFrame'>\n",
      "RangeIndex: 4818 entries, 0 to 4817\n",
      "Data columns (total 66 columns):\n",
      "X1          4816 non-null float64\n",
      "X2          4816 non-null float64\n",
      "X3          4816 non-null float64\n",
      "X4          4803 non-null float64\n",
      "X5          4808 non-null float64\n",
      "X6          4816 non-null float64\n",
      "X7          4816 non-null float64\n",
      "X8          4804 non-null float64\n",
      "X9          4818 non-null float64\n",
      "X10         4816 non-null float64\n",
      "X11         4816 non-null float64\n",
      "X12         4803 non-null float64\n",
      "X13         4818 non-null float64\n",
      "X14         4816 non-null float64\n",
      "X15         4812 non-null float64\n",
      "X16         4804 non-null float64\n",
      "X17         4804 non-null float64\n",
      "X18         4816 non-null float64\n",
      "X19         4818 non-null float64\n",
      "X20         4818 non-null float64\n",
      "X21         4744 non-null float64\n",
      "X22         4816 non-null float64\n",
      "X23         4818 non-null float64\n",
      "X24         4702 non-null float64\n",
      "X25         4816 non-null float64\n",
      "X26         4804 non-null float64\n",
      "X27         4513 non-null float64\n",
      "X28         4735 non-null float64\n",
      "X29         4816 non-null float64\n",
      "X30         4818 non-null float64\n",
      "X31         4818 non-null float64\n",
      "X32         4776 non-null float64\n",
      "X33         4803 non-null float64\n",
      "X34         4804 non-null float64\n",
      "X35         4816 non-null float64\n",
      "X36         4816 non-null float64\n",
      "X37         2750 non-null float64\n",
      "X38         4816 non-null float64\n",
      "X39         4818 non-null float64\n",
      "X40         4803 non-null float64\n",
      "X41         4756 non-null float64\n",
      "X42         4818 non-null float64\n",
      "X43         4818 non-null float64\n",
      "X44         4818 non-null float64\n",
      "X45         4598 non-null float64\n",
      "X46         4803 non-null float64\n",
      "X47         4787 non-null float64\n",
      "X48         4816 non-null float64\n",
      "X49         4818 non-null float64\n",
      "X50         4804 non-null float64\n",
      "X51         4816 non-null float64\n",
      "X52         4786 non-null float64\n",
      "X53         4735 non-null float64\n",
      "X54         4735 non-null float64\n",
      "X55         4818 non-null float64\n",
      "X56         4818 non-null float64\n",
      "X57         4816 non-null float64\n",
      "X58         4818 non-null float64\n",
      "X59         4816 non-null float64\n",
      "X60         4598 non-null float64\n",
      "X61         4806 non-null float64\n",
      "X62         4818 non-null float64\n",
      "X63         4803 non-null float64\n",
      "X64         4735 non-null float64\n",
      "Bankrupt    4818 non-null int64\n",
      "Id          4818 non-null int64\n",
      "dtypes: float64(64), int64(2)\n",
      "memory usage: 2.4 MB\n"
     ]
    }
   ],
   "source": [
    "for each_col in data:\n",
    "    data[each_col]=pd.to_numeric(data[each_col], errors='coerce')\n",
    "data.info()"
   ]
  },
  {
   "cell_type": "markdown",
   "metadata": {},
   "source": [
    "# Evaluating your project"
   ]
  },
  {
   "cell_type": "markdown",
   "metadata": {},
   "source": [
    "We will evaluate your submission on a test dataset that we provide\n",
    "- It has no labels, so **you** can't use it to evaluate your model, but **we** have the labels\n",
    "- We will call this evaluation dataset the \"holdout\" data\n",
    "\n",
    "Let's get it"
   ]
  },
  {
   "cell_type": "markdown",
   "metadata": {},
   "source": [
    "## Data processing"
   ]
  },
  {
   "cell_type": "code",
   "execution_count": 7,
   "metadata": {},
   "outputs": [
    {
     "data": {
      "text/plain": [
       "count    66.000000\n",
       "mean      0.011768\n",
       "std       0.053454\n",
       "min       0.000000\n",
       "25%       0.000000\n",
       "50%       0.000415\n",
       "75%       0.003113\n",
       "max       0.429224\n",
       "dtype: float64"
      ]
     },
     "execution_count": 7,
     "metadata": {},
     "output_type": "execute_result"
    }
   ],
   "source": [
    "null_for_each = data.isnull().sum(axis=0)/len(data)\n",
    "null_for_each.describe()"
   ]
  },
  {
   "cell_type": "code",
   "execution_count": 8,
   "metadata": {
    "scrolled": true
   },
   "outputs": [
    {
     "data": {
      "text/plain": [
       "X1          0.000415\n",
       "X2          0.000415\n",
       "X3          0.000415\n",
       "X4          0.003113\n",
       "X5          0.002076\n",
       "              ...   \n",
       "X62         0.000000\n",
       "X63         0.003113\n",
       "X64         0.017227\n",
       "Bankrupt    0.000000\n",
       "Id          0.000000\n",
       "Length: 66, dtype: float64"
      ]
     },
     "metadata": {},
     "output_type": "display_data"
    }
   ],
   "source": [
    "display(null_for_each)"
   ]
  },
  {
   "cell_type": "markdown",
   "metadata": {},
   "source": [
    "## Missing Value"
   ]
  },
  {
   "cell_type": "code",
   "execution_count": 9,
   "metadata": {
    "scrolled": false
   },
   "outputs": [
    {
     "data": {
      "image/png": "[encoded data removed]",
      "text/plain": [
       "<Figure size 720x720 with 1 Axes>"
      ]
     },
     "metadata": {
      "needs_background": "light"
     },
     "output_type": "display_data"
    }
   ],
   "source": [
    "plt.figure(figsize=(10,10))\n",
    "plt.title('Percentage of Missing Value')\n",
    "plt.plot(null_for_each.values)\n",
    "plt.xlabel('X variable')\n",
    "plt.ylabel('Percentage');"
   ]
  },
  {
   "cell_type": "markdown",
   "metadata": {},
   "source": [
    "The maximum percentage of missing value is 42% of missing value \n",
    "\n",
    "We need to process the missing value issue so that we could do the prediction well"
   ]
  },
  {
   "cell_type": "code",
   "execution_count": 10,
   "metadata": {},
   "outputs": [
    {
     "data": {
      "text/html": [
       "<div>\n",
       "<style scoped>\n",
       "    .dataframe tbody tr th:only-of-type {\n",
       "        vertical-align: middle;\n",
       "    }\n",
       "\n",
       "    .dataframe tbody tr th {\n",
       "        vertical-align: top;\n",
       "    }\n",
       "\n",
       "    .dataframe thead th {\n",
       "        text-align: right;\n",
       "    }\n",
       "</style>\n",
       "<table border=\"1\" class=\"dataframe\">\n",
       "  <thead>\n",
       "    <tr style=\"text-align: right;\">\n",
       "      <th></th>\n",
       "      <th>X1</th>\n",
       "      <th>X2</th>\n",
       "      <th>X3</th>\n",
       "      <th>X4</th>\n",
       "      <th>X5</th>\n",
       "      <th>X6</th>\n",
       "      <th>X7</th>\n",
       "      <th>X8</th>\n",
       "      <th>X9</th>\n",
       "      <th>X10</th>\n",
       "      <th>...</th>\n",
       "      <th>X57</th>\n",
       "      <th>X58</th>\n",
       "      <th>X59</th>\n",
       "      <th>X60</th>\n",
       "      <th>X61</th>\n",
       "      <th>X62</th>\n",
       "      <th>X63</th>\n",
       "      <th>X64</th>\n",
       "      <th>Bankrupt</th>\n",
       "      <th>Id</th>\n",
       "    </tr>\n",
       "  </thead>\n",
       "  <tbody>\n",
       "    <tr>\n",
       "      <th>count</th>\n",
       "      <td>4816.000000</td>\n",
       "      <td>4816.000000</td>\n",
       "      <td>4816.000000</td>\n",
       "      <td>4803.000000</td>\n",
       "      <td>4.808000e+03</td>\n",
       "      <td>4816.000000</td>\n",
       "      <td>4816.000000</td>\n",
       "      <td>4804.000000</td>\n",
       "      <td>4818.000000</td>\n",
       "      <td>4816.000000</td>\n",
       "      <td>...</td>\n",
       "      <td>4816.000000</td>\n",
       "      <td>4818.000000</td>\n",
       "      <td>4816.000000</td>\n",
       "      <td>4.598000e+03</td>\n",
       "      <td>4806.000000</td>\n",
       "      <td>4818.000000</td>\n",
       "      <td>4803.000000</td>\n",
       "      <td>4735.000000</td>\n",
       "      <td>4818.000000</td>\n",
       "      <td>4818.000000</td>\n",
       "    </tr>\n",
       "    <tr>\n",
       "      <th>mean</th>\n",
       "      <td>-0.055232</td>\n",
       "      <td>0.533272</td>\n",
       "      <td>0.188992</td>\n",
       "      <td>4.978602</td>\n",
       "      <td>1.956441e+01</td>\n",
       "      <td>-0.070060</td>\n",
       "      <td>-0.042516</td>\n",
       "      <td>5.739985</td>\n",
       "      <td>1.579277</td>\n",
       "      <td>0.503606</td>\n",
       "      <td>...</td>\n",
       "      <td>0.022793</td>\n",
       "      <td>0.959585</td>\n",
       "      <td>0.273025</td>\n",
       "      <td>1.108795e+03</td>\n",
       "      <td>11.021303</td>\n",
       "      <td>177.494445</td>\n",
       "      <td>9.287631</td>\n",
       "      <td>38.557533</td>\n",
       "      <td>0.063927</td>\n",
       "      <td>3499.858032</td>\n",
       "    </tr>\n",
       "    <tr>\n",
       "      <th>std</th>\n",
       "      <td>6.707351</td>\n",
       "      <td>1.202909</td>\n",
       "      <td>1.282430</td>\n",
       "      <td>100.273952</td>\n",
       "      <td>2.384491e+04</td>\n",
       "      <td>7.778523</td>\n",
       "      <td>6.707970</td>\n",
       "      <td>109.508001</td>\n",
       "      <td>1.342723</td>\n",
       "      <td>4.044036</td>\n",
       "      <td>...</td>\n",
       "      <td>7.249022</td>\n",
       "      <td>0.932427</td>\n",
       "      <td>6.338601</td>\n",
       "      <td>7.106563e+04</td>\n",
       "      <td>43.821146</td>\n",
       "      <td>2279.713700</td>\n",
       "      <td>113.225922</td>\n",
       "      <td>588.711967</td>\n",
       "      <td>0.244648</td>\n",
       "      <td>1392.049260</td>\n",
       "    </tr>\n",
       "    <tr>\n",
       "      <th>min</th>\n",
       "      <td>-463.890000</td>\n",
       "      <td>0.000000</td>\n",
       "      <td>-72.067000</td>\n",
       "      <td>0.000000</td>\n",
       "      <td>-1.076400e+06</td>\n",
       "      <td>-463.890000</td>\n",
       "      <td>-463.890000</td>\n",
       "      <td>-3.735100</td>\n",
       "      <td>0.000191</td>\n",
       "      <td>-71.444000</td>\n",
       "      <td>...</td>\n",
       "      <td>-468.670000</td>\n",
       "      <td>-0.085920</td>\n",
       "      <td>-184.980000</td>\n",
       "      <td>-1.244000e+01</td>\n",
       "      <td>-0.092493</td>\n",
       "      <td>0.000000</td>\n",
       "      <td>0.000000</td>\n",
       "      <td>-3.726500</td>\n",
       "      <td>0.000000</td>\n",
       "      <td>1071.000000</td>\n",
       "    </tr>\n",
       "    <tr>\n",
       "      <th>25%</th>\n",
       "      <td>0.004047</td>\n",
       "      <td>0.254670</td>\n",
       "      <td>0.044923</td>\n",
       "      <td>1.099200</td>\n",
       "      <td>-4.312000e+01</td>\n",
       "      <td>0.000000</td>\n",
       "      <td>0.005985</td>\n",
       "      <td>0.481588</td>\n",
       "      <td>1.015600</td>\n",
       "      <td>0.318990</td>\n",
       "      <td>...</td>\n",
       "      <td>0.015574</td>\n",
       "      <td>0.876940</td>\n",
       "      <td>0.000000</td>\n",
       "      <td>5.298300e+00</td>\n",
       "      <td>4.229925</td>\n",
       "      <td>45.065750</td>\n",
       "      <td>3.074350</td>\n",
       "      <td>2.114850</td>\n",
       "      <td>0.000000</td>\n",
       "      <td>2296.250000</td>\n",
       "    </tr>\n",
       "    <tr>\n",
       "      <th>50%</th>\n",
       "      <td>0.046487</td>\n",
       "      <td>0.451495</td>\n",
       "      <td>0.218560</td>\n",
       "      <td>1.642300</td>\n",
       "      <td>3.673450e-01</td>\n",
       "      <td>0.000000</td>\n",
       "      <td>0.056685</td>\n",
       "      <td>1.149000</td>\n",
       "      <td>1.140500</td>\n",
       "      <td>0.522325</td>\n",
       "      <td>...</td>\n",
       "      <td>0.108940</td>\n",
       "      <td>0.950825</td>\n",
       "      <td>0.006320</td>\n",
       "      <td>9.038900e+00</td>\n",
       "      <td>6.176800</td>\n",
       "      <td>73.879500</td>\n",
       "      <td>4.928700</td>\n",
       "      <td>4.077200</td>\n",
       "      <td>0.000000</td>\n",
       "      <td>3500.500000</td>\n",
       "    </tr>\n",
       "    <tr>\n",
       "      <th>75%</th>\n",
       "      <td>0.116730</td>\n",
       "      <td>0.662178</td>\n",
       "      <td>0.420153</td>\n",
       "      <td>2.929200</td>\n",
       "      <td>4.986775e+01</td>\n",
       "      <td>0.110470</td>\n",
       "      <td>0.136025</td>\n",
       "      <td>2.781300</td>\n",
       "      <td>1.814050</td>\n",
       "      <td>0.721823</td>\n",
       "      <td>...</td>\n",
       "      <td>0.240262</td>\n",
       "      <td>0.990358</td>\n",
       "      <td>0.206915</td>\n",
       "      <td>1.720750e+01</td>\n",
       "      <td>9.302800</td>\n",
       "      <td>118.597500</td>\n",
       "      <td>8.067850</td>\n",
       "      <td>9.187600</td>\n",
       "      <td>0.000000</td>\n",
       "      <td>4704.750000</td>\n",
       "    </tr>\n",
       "    <tr>\n",
       "      <th>max</th>\n",
       "      <td>2.352300</td>\n",
       "      <td>72.416000</td>\n",
       "      <td>28.336000</td>\n",
       "      <td>6845.800000</td>\n",
       "      <td>1.250100e+06</td>\n",
       "      <td>203.150000</td>\n",
       "      <td>2.352300</td>\n",
       "      <td>6868.500000</td>\n",
       "      <td>37.807000</td>\n",
       "      <td>266.860000</td>\n",
       "      <td>...</td>\n",
       "      <td>87.981000</td>\n",
       "      <td>47.788000</td>\n",
       "      <td>308.150000</td>\n",
       "      <td>4.818700e+06</td>\n",
       "      <td>1308.500000</td>\n",
       "      <td>127450.000000</td>\n",
       "      <td>7641.300000</td>\n",
       "      <td>28999.000000</td>\n",
       "      <td>1.000000</td>\n",
       "      <td>5909.000000</td>\n",
       "    </tr>\n",
       "  </tbody>\n",
       "</table>\n",
       "<p>8 rows × 65 columns</p>\n",
       "</div>"
      ],
      "text/plain": [
       "                X1           X2           X3           X4            X5  \\\n",
       "count  4816.000000  4816.000000  4816.000000  4803.000000  4.808000e+03   \n",
       "mean     -0.055232     0.533272     0.188992     4.978602  1.956441e+01   \n",
       "std       6.707351     1.202909     1.282430   100.273952  2.384491e+04   \n",
       "min    -463.890000     0.000000   -72.067000     0.000000 -1.076400e+06   \n",
       "25%       0.004047     0.254670     0.044923     1.099200 -4.312000e+01   \n",
       "50%       0.046487     0.451495     0.218560     1.642300  3.673450e-01   \n",
       "75%       0.116730     0.662178     0.420153     2.929200  4.986775e+01   \n",
       "max       2.352300    72.416000    28.336000  6845.800000  1.250100e+06   \n",
       "\n",
       "                X6           X7           X8           X9          X10  ...  \\\n",
       "count  4816.000000  4816.000000  4804.000000  4818.000000  4816.000000  ...   \n",
       "mean     -0.070060    -0.042516     5.739985     1.579277     0.503606  ...   \n",
       "std       7.778523     6.707970   109.508001     1.342723     4.044036  ...   \n",
       "min    -463.890000  -463.890000    -3.735100     0.000191   -71.444000  ...   \n",
       "25%       0.000000     0.005985     0.481588     1.015600     0.318990  ...   \n",
       "50%       0.000000     0.056685     1.149000     1.140500     0.522325  ...   \n",
       "75%       0.110470     0.136025     2.781300     1.814050     0.721823  ...   \n",
       "max     203.150000     2.352300  6868.500000    37.807000   266.860000  ...   \n",
       "\n",
       "               X57          X58          X59           X60          X61  \\\n",
       "count  4816.000000  4818.000000  4816.000000  4.598000e+03  4806.000000   \n",
       "mean      0.022793     0.959585     0.273025  1.108795e+03    11.021303   \n",
       "std       7.249022     0.932427     6.338601  7.106563e+04    43.821146   \n",
       "min    -468.670000    -0.085920  -184.980000 -1.244000e+01    -0.092493   \n",
       "25%       0.015574     0.876940     0.000000  5.298300e+00     4.229925   \n",
       "50%       0.108940     0.950825     0.006320  9.038900e+00     6.176800   \n",
       "75%       0.240262     0.990358     0.206915  1.720750e+01     9.302800   \n",
       "max      87.981000    47.788000   308.150000  4.818700e+06  1308.500000   \n",
       "\n",
       "                 X62          X63           X64     Bankrupt           Id  \n",
       "count    4818.000000  4803.000000   4735.000000  4818.000000  4818.000000  \n",
       "mean      177.494445     9.287631     38.557533     0.063927  3499.858032  \n",
       "std      2279.713700   113.225922    588.711967     0.244648  1392.049260  \n",
       "min         0.000000     0.000000     -3.726500     0.000000  1071.000000  \n",
       "25%        45.065750     3.074350      2.114850     0.000000  2296.250000  \n",
       "50%        73.879500     4.928700      4.077200     0.000000  3500.500000  \n",
       "75%       118.597500     8.067850      9.187600     0.000000  4704.750000  \n",
       "max    127450.000000  7641.300000  28999.000000     1.000000  5909.000000  \n",
       "\n",
       "[8 rows x 65 columns]"
      ]
     },
     "execution_count": 10,
     "metadata": {},
     "output_type": "execute_result"
    },
    {
     "name": "stdout",
     "output_type": "stream",
     "text": [
      "<class 'pandas.core.frame.DataFrame'>\n",
      "RangeIndex: 4818 entries, 0 to 4817\n",
      "Data columns (total 65 columns):\n",
      "X1          4816 non-null float64\n",
      "X2          4816 non-null float64\n",
      "X3          4816 non-null float64\n",
      "X4          4803 non-null float64\n",
      "X5          4808 non-null float64\n",
      "X6          4816 non-null float64\n",
      "X7          4816 non-null float64\n",
      "X8          4804 non-null float64\n",
      "X9          4818 non-null float64\n",
      "X10         4816 non-null float64\n",
      "X11         4816 non-null float64\n",
      "X12         4803 non-null float64\n",
      "X13         4818 non-null float64\n",
      "X14         4816 non-null float64\n",
      "X15         4812 non-null float64\n",
      "X16         4804 non-null float64\n",
      "X17         4804 non-null float64\n",
      "X18         4816 non-null float64\n",
      "X19         4818 non-null float64\n",
      "X20         4818 non-null float64\n",
      "X21         4744 non-null float64\n",
      "X22         4816 non-null float64\n",
      "X23         4818 non-null float64\n",
      "X24         4702 non-null float64\n",
      "X25         4816 non-null float64\n",
      "X26         4804 non-null float64\n",
      "X27         4513 non-null float64\n",
      "X28         4735 non-null float64\n",
      "X29         4816 non-null float64\n",
      "X30         4818 non-null float64\n",
      "X31         4818 non-null float64\n",
      "X32         4776 non-null float64\n",
      "X33         4803 non-null float64\n",
      "X34         4804 non-null float64\n",
      "X35         4816 non-null float64\n",
      "X36         4816 non-null float64\n",
      "X38         4816 non-null float64\n",
      "X39         4818 non-null float64\n",
      "X40         4803 non-null float64\n",
      "X41         4756 non-null float64\n",
      "X42         4818 non-null float64\n",
      "X43         4818 non-null float64\n",
      "X44         4818 non-null float64\n",
      "X45         4598 non-null float64\n",
      "X46         4803 non-null float64\n",
      "X47         4787 non-null float64\n",
      "X48         4816 non-null float64\n",
      "X49         4818 non-null float64\n",
      "X50         4804 non-null float64\n",
      "X51         4816 non-null float64\n",
      "X52         4786 non-null float64\n",
      "X53         4735 non-null float64\n",
      "X54         4735 non-null float64\n",
      "X55         4818 non-null float64\n",
      "X56         4818 non-null float64\n",
      "X57         4816 non-null float64\n",
      "X58         4818 non-null float64\n",
      "X59         4816 non-null float64\n",
      "X60         4598 non-null float64\n",
      "X61         4806 non-null float64\n",
      "X62         4818 non-null float64\n",
      "X63         4803 non-null float64\n",
      "X64         4735 non-null float64\n",
      "Bankrupt    4818 non-null int64\n",
      "Id          4818 non-null int64\n",
      "dtypes: float64(63), int64(2)\n",
      "memory usage: 2.4 MB\n"
     ]
    }
   ],
   "source": [
    "data.drop(\"X37\",axis=1,inplace=True)\n",
    "data.describe()\n",
    "data.info()"
   ]
  },
  {
   "cell_type": "code",
   "execution_count": 11,
   "metadata": {},
   "outputs": [],
   "source": [
    "from sklearn.model_selection import train_test_split\n",
    "data = data.drop(columns = [\"Id\"])\n",
    "X = data.drop(columns = [\"Bankrupt\"])\n",
    "y = data[\"Bankrupt\"]\n",
    "X_train, X_test, y_train, y_test = train_test_split(X, y, test_size=0.1, random_state=42)\n"
   ]
  },
  {
   "cell_type": "code",
   "execution_count": 12,
   "metadata": {
    "scrolled": true
   },
   "outputs": [
    {
     "data": {
      "image/png": "[encoded data removed]",
      "text/plain": [
       "<Figure size 432x288 with 1 Axes>"
      ]
     },
     "metadata": {
      "needs_background": "light"
     },
     "output_type": "display_data"
    }
   ],
   "source": [
    "y_train.value_counts().plot(kind = \"bar\");"
   ]
  },
  {
   "cell_type": "code",
   "execution_count": 13,
   "metadata": {},
   "outputs": [
    {
     "name": "stderr",
     "output_type": "stream",
     "text": [
      "/Users/yipeizhang/opt/anaconda3/lib/python3.7/site-packages/ipykernel_launcher.py:6: SettingWithCopyWarning: \n",
      "A value is trying to be set on a copy of a slice from a DataFrame.\n",
      "Try using .loc[row_indexer,col_indexer] = value instead\n",
      "\n",
      "See the caveats in the documentation: http://pandas.pydata.org/pandas-docs/stable/user_guide/indexing.html#returning-a-view-versus-a-copy\n",
      "  \n",
      "/Users/yipeizhang/opt/anaconda3/lib/python3.7/site-packages/pandas/core/frame.py:3513: SettingWithCopyWarning: \n",
      "A value is trying to be set on a copy of a slice from a DataFrame\n",
      "\n",
      "See the caveats in the documentation: http://pandas.pydata.org/pandas-docs/stable/user_guide/indexing.html#returning-a-view-versus-a-copy\n",
      "  self.loc._setitem_with_indexer((slice(None), indexer), value)\n",
      "/Users/yipeizhang/opt/anaconda3/lib/python3.7/site-packages/pandas/core/frame.py:3484: SettingWithCopyWarning: \n",
      "A value is trying to be set on a copy of a slice from a DataFrame\n",
      "\n",
      "See the caveats in the documentation: http://pandas.pydata.org/pandas-docs/stable/user_guide/indexing.html#returning-a-view-versus-a-copy\n",
      "  self._setitem_array(key, value)\n",
      "/Users/yipeizhang/opt/anaconda3/lib/python3.7/site-packages/ipykernel_launcher.py:7: SettingWithCopyWarning: \n",
      "A value is trying to be set on a copy of a slice from a DataFrame.\n",
      "Try using .loc[row_indexer,col_indexer] = value instead\n",
      "\n",
      "See the caveats in the documentation: http://pandas.pydata.org/pandas-docs/stable/user_guide/indexing.html#returning-a-view-versus-a-copy\n",
      "  import sys\n",
      "/Users/yipeizhang/opt/anaconda3/lib/python3.7/site-packages/pandas/core/frame.py:3513: SettingWithCopyWarning: \n",
      "A value is trying to be set on a copy of a slice from a DataFrame\n",
      "\n",
      "See the caveats in the documentation: http://pandas.pydata.org/pandas-docs/stable/user_guide/indexing.html#returning-a-view-versus-a-copy\n",
      "  self.loc._setitem_with_indexer((slice(None), indexer), value)\n",
      "/Users/yipeizhang/opt/anaconda3/lib/python3.7/site-packages/pandas/core/frame.py:3484: SettingWithCopyWarning: \n",
      "A value is trying to be set on a copy of a slice from a DataFrame\n",
      "\n",
      "See the caveats in the documentation: http://pandas.pydata.org/pandas-docs/stable/user_guide/indexing.html#returning-a-view-versus-a-copy\n",
      "  self._setitem_array(key, value)\n"
     ]
    }
   ],
   "source": [
    "from sklearn.impute import SimpleImputer\n",
    "from sklearn.impute import KNNImputer\n",
    "columns = X_train.columns\n",
    "   \n",
    "imputer_uni = SimpleImputer(missing_values=np.nan, strategy='mean')\n",
    "X_train[columns] = imputer_uni.fit_transform(X_train[columns])\n",
    "X_test[columns] = imputer_uni.transform(X_test[columns])"
   ]
  },
  {
   "cell_type": "code",
   "execution_count": 14,
   "metadata": {},
   "outputs": [
    {
     "name": "stderr",
     "output_type": "stream",
     "text": [
      "/Users/yipeizhang/opt/anaconda3/lib/python3.7/site-packages/ipykernel_launcher.py:3: SettingWithCopyWarning: \n",
      "A value is trying to be set on a copy of a slice from a DataFrame.\n",
      "Try using .loc[row_indexer,col_indexer] = value instead\n",
      "\n",
      "See the caveats in the documentation: http://pandas.pydata.org/pandas-docs/stable/user_guide/indexing.html#returning-a-view-versus-a-copy\n",
      "  This is separate from the ipykernel package so we can avoid doing imports until\n",
      "/Users/yipeizhang/opt/anaconda3/lib/python3.7/site-packages/pandas/core/frame.py:3513: SettingWithCopyWarning: \n",
      "A value is trying to be set on a copy of a slice from a DataFrame\n",
      "\n",
      "See the caveats in the documentation: http://pandas.pydata.org/pandas-docs/stable/user_guide/indexing.html#returning-a-view-versus-a-copy\n",
      "  self.loc._setitem_with_indexer((slice(None), indexer), value)\n",
      "/Users/yipeizhang/opt/anaconda3/lib/python3.7/site-packages/pandas/core/frame.py:3484: SettingWithCopyWarning: \n",
      "A value is trying to be set on a copy of a slice from a DataFrame\n",
      "\n",
      "See the caveats in the documentation: http://pandas.pydata.org/pandas-docs/stable/user_guide/indexing.html#returning-a-view-versus-a-copy\n",
      "  self._setitem_array(key, value)\n",
      "/Users/yipeizhang/opt/anaconda3/lib/python3.7/site-packages/pandas/core/frame.py:3509: SettingWithCopyWarning: \n",
      "A value is trying to be set on a copy of a slice from a DataFrame.\n",
      "Try using .loc[row_indexer,col_indexer] = value instead\n",
      "\n",
      "See the caveats in the documentation: http://pandas.pydata.org/pandas-docs/stable/user_guide/indexing.html#returning-a-view-versus-a-copy\n",
      "  self[k1] = value[k2]\n"
     ]
    },
    {
     "data": {
      "text/html": [
       "<div>\n",
       "<style scoped>\n",
       "    .dataframe tbody tr th:only-of-type {\n",
       "        vertical-align: middle;\n",
       "    }\n",
       "\n",
       "    .dataframe tbody tr th {\n",
       "        vertical-align: top;\n",
       "    }\n",
       "\n",
       "    .dataframe thead th {\n",
       "        text-align: right;\n",
       "    }\n",
       "</style>\n",
       "<table border=\"1\" class=\"dataframe\">\n",
       "  <thead>\n",
       "    <tr style=\"text-align: right;\">\n",
       "      <th></th>\n",
       "      <th>X1</th>\n",
       "      <th>X2</th>\n",
       "      <th>X3</th>\n",
       "      <th>X4</th>\n",
       "      <th>X5</th>\n",
       "      <th>X6</th>\n",
       "      <th>X7</th>\n",
       "      <th>X8</th>\n",
       "      <th>X9</th>\n",
       "      <th>X10</th>\n",
       "      <th>...</th>\n",
       "      <th>X55</th>\n",
       "      <th>X56</th>\n",
       "      <th>X57</th>\n",
       "      <th>X58</th>\n",
       "      <th>X59</th>\n",
       "      <th>X60</th>\n",
       "      <th>X61</th>\n",
       "      <th>X62</th>\n",
       "      <th>X63</th>\n",
       "      <th>X64</th>\n",
       "    </tr>\n",
       "  </thead>\n",
       "  <tbody>\n",
       "    <tr>\n",
       "      <th>4340</th>\n",
       "      <td>0.001173</td>\n",
       "      <td>0.672030</td>\n",
       "      <td>0.142270</td>\n",
       "      <td>1.2156</td>\n",
       "      <td>-49.408</td>\n",
       "      <td>0.016824</td>\n",
       "      <td>0.001271</td>\n",
       "      <td>0.48075</td>\n",
       "      <td>1.00740</td>\n",
       "      <td>0.323080</td>\n",
       "      <td>...</td>\n",
       "      <td>19985.00</td>\n",
       "      <td>0.007312</td>\n",
       "      <td>0.003629</td>\n",
       "      <td>0.99269</td>\n",
       "      <td>0.037272</td>\n",
       "      <td>12.3020</td>\n",
       "      <td>4.0442</td>\n",
       "      <td>140.4400</td>\n",
       "      <td>2.5991</td>\n",
       "      <td>8.67450</td>\n",
       "    </tr>\n",
       "    <tr>\n",
       "      <th>1221</th>\n",
       "      <td>0.139630</td>\n",
       "      <td>0.250810</td>\n",
       "      <td>0.258480</td>\n",
       "      <td>2.2523</td>\n",
       "      <td>31.714</td>\n",
       "      <td>0.000000</td>\n",
       "      <td>0.182390</td>\n",
       "      <td>2.98710</td>\n",
       "      <td>1.54600</td>\n",
       "      <td>0.749190</td>\n",
       "      <td>...</td>\n",
       "      <td>2443.90</td>\n",
       "      <td>0.124670</td>\n",
       "      <td>0.186370</td>\n",
       "      <td>0.88279</td>\n",
       "      <td>0.044616</td>\n",
       "      <td>11.2790</td>\n",
       "      <td>5.1096</td>\n",
       "      <td>48.7320</td>\n",
       "      <td>7.4899</td>\n",
       "      <td>2.88910</td>\n",
       "    </tr>\n",
       "    <tr>\n",
       "      <th>2083</th>\n",
       "      <td>0.147600</td>\n",
       "      <td>0.097863</td>\n",
       "      <td>0.469870</td>\n",
       "      <td>6.4957</td>\n",
       "      <td>59.981</td>\n",
       "      <td>0.003564</td>\n",
       "      <td>0.181560</td>\n",
       "      <td>9.21840</td>\n",
       "      <td>1.44620</td>\n",
       "      <td>0.902140</td>\n",
       "      <td>...</td>\n",
       "      <td>19041.00</td>\n",
       "      <td>0.123660</td>\n",
       "      <td>0.163620</td>\n",
       "      <td>0.87543</td>\n",
       "      <td>0.000000</td>\n",
       "      <td>5.5314</td>\n",
       "      <td>6.8732</td>\n",
       "      <td>21.5780</td>\n",
       "      <td>16.9160</td>\n",
       "      <td>3.25260</td>\n",
       "    </tr>\n",
       "    <tr>\n",
       "      <th>1044</th>\n",
       "      <td>0.032618</td>\n",
       "      <td>0.743750</td>\n",
       "      <td>0.052153</td>\n",
       "      <td>1.1584</td>\n",
       "      <td>-49.698</td>\n",
       "      <td>0.111270</td>\n",
       "      <td>0.044782</td>\n",
       "      <td>0.33163</td>\n",
       "      <td>1.05450</td>\n",
       "      <td>0.246650</td>\n",
       "      <td>...</td>\n",
       "      <td>4087.90</td>\n",
       "      <td>0.051681</td>\n",
       "      <td>0.132240</td>\n",
       "      <td>0.94832</td>\n",
       "      <td>1.680600</td>\n",
       "      <td>6.5521</td>\n",
       "      <td>33.0650</td>\n",
       "      <td>59.5240</td>\n",
       "      <td>6.1319</td>\n",
       "      <td>3.26330</td>\n",
       "    </tr>\n",
       "    <tr>\n",
       "      <th>2555</th>\n",
       "      <td>0.022155</td>\n",
       "      <td>0.548750</td>\n",
       "      <td>0.540930</td>\n",
       "      <td>2.8668</td>\n",
       "      <td>14.402</td>\n",
       "      <td>0.000000</td>\n",
       "      <td>0.022155</td>\n",
       "      <td>0.82231</td>\n",
       "      <td>0.61232</td>\n",
       "      <td>0.451250</td>\n",
       "      <td>...</td>\n",
       "      <td>4408.80</td>\n",
       "      <td>0.066985</td>\n",
       "      <td>0.049097</td>\n",
       "      <td>0.96466</td>\n",
       "      <td>0.558330</td>\n",
       "      <td>1.1969</td>\n",
       "      <td>2.5829</td>\n",
       "      <td>172.7200</td>\n",
       "      <td>2.1132</td>\n",
       "      <td>3.61640</td>\n",
       "    </tr>\n",
       "    <tr>\n",
       "      <th>...</th>\n",
       "      <td>...</td>\n",
       "      <td>...</td>\n",
       "      <td>...</td>\n",
       "      <td>...</td>\n",
       "      <td>...</td>\n",
       "      <td>...</td>\n",
       "      <td>...</td>\n",
       "      <td>...</td>\n",
       "      <td>...</td>\n",
       "      <td>...</td>\n",
       "      <td>...</td>\n",
       "      <td>...</td>\n",
       "      <td>...</td>\n",
       "      <td>...</td>\n",
       "      <td>...</td>\n",
       "      <td>...</td>\n",
       "      <td>...</td>\n",
       "      <td>...</td>\n",
       "      <td>...</td>\n",
       "      <td>...</td>\n",
       "      <td>...</td>\n",
       "    </tr>\n",
       "    <tr>\n",
       "      <th>149</th>\n",
       "      <td>0.033703</td>\n",
       "      <td>0.347710</td>\n",
       "      <td>-0.017419</td>\n",
       "      <td>0.9295</td>\n",
       "      <td>-79.350</td>\n",
       "      <td>0.060703</td>\n",
       "      <td>0.038867</td>\n",
       "      <td>1.57150</td>\n",
       "      <td>1.10140</td>\n",
       "      <td>0.546430</td>\n",
       "      <td>...</td>\n",
       "      <td>-1164.90</td>\n",
       "      <td>0.092075</td>\n",
       "      <td>0.061678</td>\n",
       "      <td>0.90793</td>\n",
       "      <td>0.184180</td>\n",
       "      <td>6.8734</td>\n",
       "      <td>4.4969</td>\n",
       "      <td>151.8900</td>\n",
       "      <td>2.4031</td>\n",
       "      <td>0.77072</td>\n",
       "    </tr>\n",
       "    <tr>\n",
       "      <th>93</th>\n",
       "      <td>-0.069876</td>\n",
       "      <td>1.056600</td>\n",
       "      <td>-0.053994</td>\n",
       "      <td>0.9256</td>\n",
       "      <td>-58.467</td>\n",
       "      <td>-0.200500</td>\n",
       "      <td>-0.069876</td>\n",
       "      <td>-0.05359</td>\n",
       "      <td>2.39100</td>\n",
       "      <td>-0.056624</td>\n",
       "      <td>...</td>\n",
       "      <td>-416.79</td>\n",
       "      <td>0.021684</td>\n",
       "      <td>1.234000</td>\n",
       "      <td>0.98272</td>\n",
       "      <td>-5.386800</td>\n",
       "      <td>7.4368</td>\n",
       "      <td>6.8586</td>\n",
       "      <td>110.7900</td>\n",
       "      <td>3.2944</td>\n",
       "      <td>7.28430</td>\n",
       "    </tr>\n",
       "    <tr>\n",
       "      <th>17</th>\n",
       "      <td>0.089042</td>\n",
       "      <td>0.359900</td>\n",
       "      <td>0.320390</td>\n",
       "      <td>2.0448</td>\n",
       "      <td>-76.378</td>\n",
       "      <td>0.000000</td>\n",
       "      <td>0.108700</td>\n",
       "      <td>1.77860</td>\n",
       "      <td>1.01110</td>\n",
       "      <td>0.640100</td>\n",
       "      <td>...</td>\n",
       "      <td>3119.40</td>\n",
       "      <td>0.113720</td>\n",
       "      <td>0.139110</td>\n",
       "      <td>0.89471</td>\n",
       "      <td>0.016415</td>\n",
       "      <td>2.0745</td>\n",
       "      <td>11.7390</td>\n",
       "      <td>110.7000</td>\n",
       "      <td>3.2973</td>\n",
       "      <td>2.71120</td>\n",
       "    </tr>\n",
       "    <tr>\n",
       "      <th>1569</th>\n",
       "      <td>0.131700</td>\n",
       "      <td>0.159100</td>\n",
       "      <td>0.437230</td>\n",
       "      <td>3.7482</td>\n",
       "      <td>38.115</td>\n",
       "      <td>0.703520</td>\n",
       "      <td>0.163200</td>\n",
       "      <td>5.28530</td>\n",
       "      <td>1.01650</td>\n",
       "      <td>0.840900</td>\n",
       "      <td>...</td>\n",
       "      <td>6078.00</td>\n",
       "      <td>0.151460</td>\n",
       "      <td>0.156620</td>\n",
       "      <td>0.84117</td>\n",
       "      <td>0.000000</td>\n",
       "      <td>2.9363</td>\n",
       "      <td>4.6493</td>\n",
       "      <td>57.1260</td>\n",
       "      <td>6.3893</td>\n",
       "      <td>2.51830</td>\n",
       "    </tr>\n",
       "    <tr>\n",
       "      <th>4044</th>\n",
       "      <td>0.203750</td>\n",
       "      <td>0.040741</td>\n",
       "      <td>0.742330</td>\n",
       "      <td>19.2210</td>\n",
       "      <td>59.440</td>\n",
       "      <td>0.000000</td>\n",
       "      <td>0.254200</td>\n",
       "      <td>23.54500</td>\n",
       "      <td>2.15800</td>\n",
       "      <td>0.959260</td>\n",
       "      <td>...</td>\n",
       "      <td>3682.60</td>\n",
       "      <td>0.113590</td>\n",
       "      <td>0.212410</td>\n",
       "      <td>0.88353</td>\n",
       "      <td>0.000000</td>\n",
       "      <td>4.9529</td>\n",
       "      <td>16.7850</td>\n",
       "      <td>6.8907</td>\n",
       "      <td>52.9700</td>\n",
       "      <td>9.94820</td>\n",
       "    </tr>\n",
       "  </tbody>\n",
       "</table>\n",
       "<p>482 rows × 63 columns</p>\n",
       "</div>"
      ],
      "text/plain": [
       "            X1        X2        X3       X4      X5        X6        X7  \\\n",
       "4340  0.001173  0.672030  0.142270   1.2156 -49.408  0.016824  0.001271   \n",
       "1221  0.139630  0.250810  0.258480   2.2523  31.714  0.000000  0.182390   \n",
       "2083  0.147600  0.097863  0.469870   6.4957  59.981  0.003564  0.181560   \n",
       "1044  0.032618  0.743750  0.052153   1.1584 -49.698  0.111270  0.044782   \n",
       "2555  0.022155  0.548750  0.540930   2.8668  14.402  0.000000  0.022155   \n",
       "...        ...       ...       ...      ...     ...       ...       ...   \n",
       "149   0.033703  0.347710 -0.017419   0.9295 -79.350  0.060703  0.038867   \n",
       "93   -0.069876  1.056600 -0.053994   0.9256 -58.467 -0.200500 -0.069876   \n",
       "17    0.089042  0.359900  0.320390   2.0448 -76.378  0.000000  0.108700   \n",
       "1569  0.131700  0.159100  0.437230   3.7482  38.115  0.703520  0.163200   \n",
       "4044  0.203750  0.040741  0.742330  19.2210  59.440  0.000000  0.254200   \n",
       "\n",
       "            X8       X9       X10  ...       X55       X56       X57      X58  \\\n",
       "4340   0.48075  1.00740  0.323080  ...  19985.00  0.007312  0.003629  0.99269   \n",
       "1221   2.98710  1.54600  0.749190  ...   2443.90  0.124670  0.186370  0.88279   \n",
       "2083   9.21840  1.44620  0.902140  ...  19041.00  0.123660  0.163620  0.87543   \n",
       "1044   0.33163  1.05450  0.246650  ...   4087.90  0.051681  0.132240  0.94832   \n",
       "2555   0.82231  0.61232  0.451250  ...   4408.80  0.066985  0.049097  0.96466   \n",
       "...        ...      ...       ...  ...       ...       ...       ...      ...   \n",
       "149    1.57150  1.10140  0.546430  ...  -1164.90  0.092075  0.061678  0.90793   \n",
       "93    -0.05359  2.39100 -0.056624  ...   -416.79  0.021684  1.234000  0.98272   \n",
       "17     1.77860  1.01110  0.640100  ...   3119.40  0.113720  0.139110  0.89471   \n",
       "1569   5.28530  1.01650  0.840900  ...   6078.00  0.151460  0.156620  0.84117   \n",
       "4044  23.54500  2.15800  0.959260  ...   3682.60  0.113590  0.212410  0.88353   \n",
       "\n",
       "           X59      X60      X61       X62      X63      X64  \n",
       "4340  0.037272  12.3020   4.0442  140.4400   2.5991  8.67450  \n",
       "1221  0.044616  11.2790   5.1096   48.7320   7.4899  2.88910  \n",
       "2083  0.000000   5.5314   6.8732   21.5780  16.9160  3.25260  \n",
       "1044  1.680600   6.5521  33.0650   59.5240   6.1319  3.26330  \n",
       "2555  0.558330   1.1969   2.5829  172.7200   2.1132  3.61640  \n",
       "...        ...      ...      ...       ...      ...      ...  \n",
       "149   0.184180   6.8734   4.4969  151.8900   2.4031  0.77072  \n",
       "93   -5.386800   7.4368   6.8586  110.7900   3.2944  7.28430  \n",
       "17    0.016415   2.0745  11.7390  110.7000   3.2973  2.71120  \n",
       "1569  0.000000   2.9363   4.6493   57.1260   6.3893  2.51830  \n",
       "4044  0.000000   4.9529  16.7850    6.8907  52.9700  9.94820  \n",
       "\n",
       "[482 rows x 63 columns]"
      ]
     },
     "execution_count": 14,
     "metadata": {},
     "output_type": "execute_result"
    }
   ],
   "source": [
    "imputer = KNNImputer(n_neighbors = 10, weights = \"uniform\")\n",
    "train_columns = X_train.columns\n",
    "X_train[train_columns] = imputer.fit_transform(X_train[train_columns])\n",
    "test_columns = X_test.columns\n",
    "X_test[test_columns] = X_test[test_columns]\n",
    "X_test"
   ]
  },
  {
   "cell_type": "markdown",
   "metadata": {},
   "source": [
    "Using KNNImputer to fill the NA values, which is a more appropriate way to better treat with missing value"
   ]
  },
  {
   "cell_type": "markdown",
   "metadata": {},
   "source": [
    "## X variables Correlation"
   ]
  },
  {
   "cell_type": "code",
   "execution_count": 15,
   "metadata": {
    "scrolled": false
   },
   "outputs": [
    {
     "data": {
      "image/png": "[encoded data removed]",
      "text/plain": [
       "<Figure size 2880x2880 with 2 Axes>"
      ]
     },
     "metadata": {
      "needs_background": "light"
     },
     "output_type": "display_data"
    }
   ],
   "source": [
    "import seaborn as sns\n",
    "correlations = data.corr() \n",
    "correction=abs(correlations)# Only care about the correlation\n",
    "names = list(data.columns)\n",
    "fig = plt.figure(figsize=(40,40)) \n",
    "ax = fig.add_subplot() \n",
    "ax = sns.heatmap(correction,cmap=plt.cm.Greys, linewidths=0.05,vmax=1, vmin=0 ,annot=True,annot_kws={'size':6,'weight':'bold'})\n",
    "\n",
    "plt.xticks(np.arange(len(names))+0.5,names) \n",
    "plt.yticks(np.arange(len(names))+0.5,names) \n",
    "\n",
    "ax.set_title('Characteristic correlation')\n",
    "plt.show();"
   ]
  },
  {
   "cell_type": "markdown",
   "metadata": {},
   "source": [
    "## Process imbalanced data"
   ]
  },
  {
   "cell_type": "markdown",
   "metadata": {},
   "source": [
    "The label of the dataset is highly imbalanced.\n",
    "\n",
    "Therefore, we should use extra method to deal with the imbalanced issue"
   ]
  },
  {
   "cell_type": "code",
   "execution_count": 16,
   "metadata": {},
   "outputs": [
    {
     "name": "stdout",
     "output_type": "stream",
     "text": [
      "we can see that the label is higly imbalanced.\n"
     ]
    },
    {
     "data": {
      "image/png": "[encoded data removed]",
      "text/plain": [
       "<Figure size 432x288 with 1 Axes>"
      ]
     },
     "metadata": {
      "needs_background": "light"
     },
     "output_type": "display_data"
    }
   ],
   "source": [
    "print(\"we can see that the label is higly imbalanced.\")\n",
    "(data[\"Bankrupt\"].value_counts()/len(data[\"Bankrupt\"])).plot(kind = \"bar\");"
   ]
  },
  {
   "cell_type": "markdown",
   "metadata": {},
   "source": [
    "The graph shows that the bank which went bankruptcy has actually significantly lower percentage compared with bank without bankruptcy.\n",
    "\n",
    "If the degree of class imbalance for the majority class is extreme, then a machine trained classifier may yield high overall prediction accuracy since the model is most likely to predict most samples belonging to the majority class.\n",
    "\n",
    "Since the size of the dataset is relatively large, then I choose "
   ]
  },
  {
   "cell_type": "code",
   "execution_count": 17,
   "metadata": {},
   "outputs": [],
   "source": [
    "def sampling(X_train, y_train):\n",
    "    class_count_0, class_count_1 = y_train.value_counts()\n",
    "    # Separate class\n",
    "    X_class_0 = X_train[y_train == 0]\n",
    "    X_class_1 = X_train[y_train == 1]\n",
    "    y_class_0 = y_train[y_train == 0]\n",
    "    y_class_1 = y_train[y_train == 1]\n",
    "\n",
    "    X_class_1_over = X_class_1.sample(class_count_0, replace=True)\n",
    "    y_class_1_over = y_class_1.sample(class_count_0, replace=True)\n",
    "\n",
    "    X_train_over = pd.concat([X_class_0, X_class_1_over], axis=0)\n",
    "    y_train_over = pd.concat([y_class_0, y_class_1_over], axis=0)\n",
    "    return X_train_over, y_train_over\n",
    "X_train_over, y_train_over = sampling(X_train, y_train)"
   ]
  },
  {
   "cell_type": "code",
   "execution_count": 18,
   "metadata": {},
   "outputs": [
    {
     "name": "stdout",
     "output_type": "stream",
     "text": [
      "result of over-sampling method\n",
      "1    4061\n",
      "0    4061\n",
      "Name: Bankrupt, dtype: int64\n"
     ]
    },
    {
     "data": {
      "image/png": "[encoded data removed]",
      "text/plain": [
       "<Figure size 432x288 with 1 Axes>"
      ]
     },
     "metadata": {
      "needs_background": "light"
     },
     "output_type": "display_data"
    }
   ],
   "source": [
    "print(\"result of over-sampling method\")\n",
    "print(y_train_over.value_counts())\n",
    "y_train_over.value_counts().plot(kind='bar', title='count (target)');"
   ]
  },
  {
   "cell_type": "markdown",
   "metadata": {},
   "source": [
    "## PCA processing"
   ]
  },
  {
   "cell_type": "code",
   "execution_count": 19,
   "metadata": {},
   "outputs": [
    {
     "name": "stdout",
     "output_type": "stream",
     "text": [
      "5 has a cumulative explained variane of: 0.9987513863304597\n"
     ]
    },
    {
     "data": {
      "image/png": "[encoded data removed]",
      "text/plain": [
       "<Figure size 864x432 with 1 Axes>"
      ]
     },
     "metadata": {
      "needs_background": "light"
     },
     "output_type": "display_data"
    }
   ],
   "source": [
    "from sklearn.decomposition import PCA\n",
    "def scree_plot(pca_estimator):\n",
    "\n",
    "    num_components = len(pca_estimator.explained_variance_ratio_)\n",
    "    ind = np.arange(num_components)\n",
    "    vals = pca_estimator.explained_variance_ratio_\n",
    " \n",
    "    plt.figure(figsize=(12, 6))\n",
    "    ax = plt.subplot(111)\n",
    "    cumvals = np.cumsum(vals)\n",
    "    ax.bar(ind, vals)\n",
    "    ax.plot(ind, cumvals)\n",
    "    \n",
    "    ax.xaxis.set_tick_params(width=0)\n",
    "    ax.yaxis.set_tick_params(width=2, length=12)\n",
    " \n",
    "    ax.set_xlabel(\"Principal Component\")\n",
    "    ax.set_ylabel(\"Variance Explained (%)\")\n",
    "    plt.title('Explained Variance Per Principal Component')\n",
    "    \n",
    "pca = PCA(n_components = .999)\n",
    "X_train_pca = pca.fit_transform(X_train)\n",
    "X_test_pca = pca.transform(X_test)\n",
    "\n",
    "scree_plot(pca)\n",
    "\n",
    "n_components = 5\n",
    "print(f'{n_components} has a cumulative explained variane of: {sum(pca.explained_variance_ratio_[:n_components])}')"
   ]
  },
  {
   "cell_type": "markdown",
   "metadata": {},
   "source": [
    "# Implement algorithm"
   ]
  },
  {
   "cell_type": "code",
   "execution_count": 20,
   "metadata": {},
   "outputs": [],
   "source": [
    "from sklearn.pipeline import Pipeline\n",
    "\n",
    "\n",
    "from sklearn.linear_model import LogisticRegression\n",
    "from sklearn.naive_bayes import GaussianNB\n",
    "from sklearn.tree import DecisionTreeClassifier\n",
    "from sklearn.neural_network import MLPClassifier\n",
    "from sklearn.neighbors import KNeighborsClassifier\n",
    "from sklearn.svm import SVC\n",
    "from sklearn.gaussian_process import GaussianProcessClassifier\n",
    "from sklearn.gaussian_process.kernels import RBF\n",
    "from sklearn.ensemble import RandomForestClassifier, AdaBoostClassifier\n",
    "from sklearn.discriminant_analysis import QuadraticDiscriminantAnalysis\n",
    "from sklearn.ensemble import GradientBoostingClassifier\n",
    "from sklearn.ensemble import VotingClassifier\n",
    "\n",
    "from sklearn.metrics import accuracy_score, precision_score, recall_score, fbeta_score, confusion_matrix, roc_auc_score, roc_curve, auc"
   ]
  },
  {
   "cell_type": "code",
   "execution_count": 21,
   "metadata": {},
   "outputs": [],
   "source": [
    "def model_pipeline(X_train, X_test, y_train, y_test, input_pipeline, name):\n",
    "    input_pipeline.fit(X_train, y_train)\n",
    "    y_train_predict = input_pipeline.predict(X_train)\n",
    "    \n",
    "    accuracy_score = sklearn.metrics.accuracy_score(y_train, y_train_predict)\n",
    "    precision_score = sklearn.metrics.precision_score(y_train, y_train_predict,pos_label = 1,average=\"binary\")\n",
    "    recall_score = sklearn.metrics.recall_score(y_train, y_train_predict,pos_label = 1,average=\"binary\")\n",
    "    fbeta_score = sklearn.metrics.fbeta_score(y_train, y_train_predict, beta=2)\n",
    "    \n",
    "    print(\"Model: {m:s} in-sample Accuracy: {a:3.1%}, Recall score: {r:3.1%}, Precision score: {p:3.1%},F-beta: {f:3.1%}\"\n",
    "          .format(m=name, a=accuracy_score, r=recall_score, p=precision_score, f=fbeta_score))\n",
    "    \n",
    "    y_test_predict = input_pipeline.predict(X_test)\n",
    "\n",
    "    accuracy_out = sklearn.metrics.accuracy_score(y_test, y_test_predict)\n",
    "    precision_out = sklearn.metrics.precision_score(y_test, y_test_predict,pos_label = 1,average=\"binary\")\n",
    "    recall_out = sklearn.metrics.recall_score(y_test, y_test_predict,pos_label = 1,average=\"binary\")\n",
    "    fbeta_out = sklearn.metrics.fbeta_score(y_test, y_test_predict, beta=2)\n",
    "    \n",
    "    print(\"Model: {m:s} out-of-sample Accuracy: {a:3.1%}, Recall score: {r:3.1%}, Precision score: {p:3.1%},F-beta: {f:3.1%}\\\n",
    "          \".format(m=name, a=accuracy_out, r=recall_out, p=precision_out,f=fbeta_out))\n",
    "    return input_pipeline\n",
    "    "
   ]
  },
  {
   "cell_type": "markdown",
   "metadata": {},
   "source": [
    "## Naive Bayes"
   ]
  },
  {
   "cell_type": "code",
   "execution_count": 22,
   "metadata": {},
   "outputs": [],
   "source": [
    "from sklearn.preprocessing import StandardScaler\n",
    "\n",
    "scaler = StandardScaler()"
   ]
  },
  {
   "cell_type": "code",
   "execution_count": 23,
   "metadata": {},
   "outputs": [
    {
     "name": "stdout",
     "output_type": "stream",
     "text": [
      "Model: Naive Bayes in-sample Accuracy: 15.6%, Recall score: 95.6%, Precision score: 6.7%,F-beta: 26.3%\n",
      "Model: Naive Bayes out-of-sample Accuracy: 18.3%, Recall score: 93.9%, Precision score: 7.3%,F-beta: 27.9%          \n"
     ]
    }
   ],
   "source": [
    "name = 'Naive Bayes'\n",
    "clf_nb = GaussianNB()\n",
    "pipeline_nb = Pipeline([(\"scaler\", scaler), (\"model\", clf_nb)])\n",
    "\n",
    "pipeline_nb = model_pipeline(X_train, X_test, y_train, y_test, pipeline_nb, name)"
   ]
  },
  {
   "cell_type": "code",
   "execution_count": 24,
   "metadata": {},
   "outputs": [
    {
     "name": "stdout",
     "output_type": "stream",
     "text": [
      "Model: Naive Bayes in-sample Accuracy: 93.5%, Recall score: 7.3%, Precision score: 41.7%,F-beta: 8.7%\n",
      "Model: Naive Bayes out-of-sample Accuracy: 93.4%, Recall score: 9.1%, Precision score: 60.0%,F-beta: 10.9%          \n"
     ]
    }
   ],
   "source": [
    "name = 'Naive Bayes'\n",
    "clf_nb = GaussianNB()\n",
    "pca = PCA(n_components=5)\n",
    "pipeline_nb = Pipeline([(\"scaler\", scaler),(\"PCA\",pca) ,(\"model\", clf_nb)])\n",
    "\n",
    "pipeline_nb = model_pipeline(X_train, X_test, y_train, y_test, pipeline_nb, name)"
   ]
  },
  {
   "cell_type": "code",
   "execution_count": 25,
   "metadata": {},
   "outputs": [
    {
     "name": "stdout",
     "output_type": "stream",
     "text": [
      "Model: Naive Bayes in-sample Accuracy: 52.8%, Recall score: 96.2%, Precision score: 51.5%,F-beta: 81.9%\n",
      "Model: Naive Bayes out-of-sample Accuracy: 18.3%, Recall score: 97.0%, Precision score: 7.5%,F-beta: 28.7%          \n"
     ]
    }
   ],
   "source": [
    "name = 'Naive Bayes'\n",
    "clf_nb = GaussianNB()\n",
    "pipeline_nb = Pipeline([(\"scaler\", scaler), (\"model\", clf_nb)])\n",
    "\n",
    "pipeline_nb = model_pipeline(X_train_over, X_test, y_train_over, y_test, pipeline_nb, name)"
   ]
  },
  {
   "cell_type": "markdown",
   "metadata": {},
   "source": [
    "Even though the recall score is relatively high, but f1 score are pretty low. \n",
    "\n",
    "Therefore, Naive Bayes is not accepted."
   ]
  },
  {
   "cell_type": "markdown",
   "metadata": {},
   "source": [
    "## logistics regression"
   ]
  },
  {
   "cell_type": "code",
   "execution_count": 26,
   "metadata": {},
   "outputs": [
    {
     "name": "stdout",
     "output_type": "stream",
     "text": [
      "Model: Logistic in-sample Accuracy: 93.9%, Recall score: 11.6%, Precision score: 61.5%,F-beta: 13.9%\n",
      "Model: Logistic out-of-sample Accuracy: 93.2%, Recall score: 12.1%, Precision score: 50.0%,F-beta: 14.3%          \n"
     ]
    }
   ],
   "source": [
    "name = 'Logistic'\n",
    "clf_logistic = LogisticRegression(solver='liblinear',max_iter=100)\n",
    "pipeline_logistic = Pipeline([\n",
    "    (\"scaler\", scaler), \n",
    "    (\"model\", clf_logistic)\n",
    "])\n",
    "pipeline_logistic = model_pipeline(X_train, X_test, y_train, y_test, pipeline_logistic, name)"
   ]
  },
  {
   "cell_type": "code",
   "execution_count": 27,
   "metadata": {},
   "outputs": [
    {
     "name": "stdout",
     "output_type": "stream",
     "text": [
      "Model: Logistic in-sample Accuracy: 82.4%, Recall score: 76.7%, Precision score: 23.2%,F-beta: 52.5%\n",
      "Model: Logistic out-of-sample Accuracy: 79.3%, Recall score: 72.7%, Precision score: 20.9%,F-beta: 48.6%          \n"
     ]
    }
   ],
   "source": [
    "clf_logistic = LogisticRegression(solver='liblinear',max_iter=100,class_weight='balanced')\n",
    "pipeline_logistic = Pipeline([\n",
    "    (\"scaler\", scaler), \n",
    "    (\"model\", clf_logistic)\n",
    "])\n",
    "pipeline_logistic = model_pipeline(X_train, X_test, y_train, y_test, pipeline_logistic, name)"
   ]
  },
  {
   "cell_type": "code",
   "execution_count": 28,
   "metadata": {},
   "outputs": [
    {
     "name": "stdout",
     "output_type": "stream",
     "text": [
      "Model: Logistic in-sample Accuracy: 81.7%, Recall score: 74.9%, Precision score: 22.1%,F-beta: 50.7%\n",
      "Model: Logistic out-of-sample Accuracy: 77.2%, Recall score: 69.7%, Precision score: 18.7%,F-beta: 45.1%          \n"
     ]
    }
   ],
   "source": [
    "clf_logistic = LogisticRegression(solver='liblinear',max_iter=100,class_weight='balanced',C=0.01)\n",
    "pipeline_logistic = Pipeline([\n",
    "    (\"scaler\", scaler), \n",
    "    (\"model\", clf_logistic)\n",
    "])\n",
    "pipeline_logistic = model_pipeline(X_train, X_test, y_train, y_test, pipeline_logistic, name)"
   ]
  },
  {
   "cell_type": "code",
   "execution_count": 29,
   "metadata": {},
   "outputs": [
    {
     "name": "stdout",
     "output_type": "stream",
     "text": [
      "Model: Logistic in-sample Accuracy: 80.9%, Recall score: 66.2%, Precision score: 19.8%,F-beta: 45.1%\n",
      "Model: Logistic out-of-sample Accuracy: 80.9%, Recall score: 60.6%, Precision score: 20.2%,F-beta: 43.3%          \n"
     ]
    }
   ],
   "source": [
    "clf_logistic = LogisticRegression(solver='liblinear',max_iter=100,class_weight='balanced',C=0.01)\n",
    "pca = PCA(n_components=5)\n",
    "pipeline_logistic = Pipeline([\n",
    "    (\"scaler\", scaler),\n",
    "    (\"PCA\",pca),\n",
    "    (\"model\", clf_logistic)\n",
    "])\n",
    "pipeline_logistic = model_pipeline(X_train, X_test, y_train, y_test, pipeline_logistic, name)"
   ]
  },
  {
   "cell_type": "code",
   "execution_count": 30,
   "metadata": {},
   "outputs": [
    {
     "name": "stdout",
     "output_type": "stream",
     "text": [
      "Model: Logistic in-sample Accuracy: 77.4%, Recall score: 71.7%, Precision score: 81.0%,F-beta: 73.4%\n",
      "Model: Logistic out-of-sample Accuracy: 79.3%, Recall score: 69.7%, Precision score: 20.4%,F-beta: 46.9%          \n"
     ]
    }
   ],
   "source": [
    "clf_logistic = LogisticRegression(solver='liblinear',max_iter=100,class_weight='balanced', C=0.01)\n",
    "pipeline_logistic = Pipeline([\n",
    "    (\"scaler\", scaler), \n",
    "    (\"model\", clf_logistic)\n",
    "])\n",
    "pipeline_logistic = model_pipeline(X_train_over, X_test, y_train_over, y_test, pipeline_logistic, name)"
   ]
  },
  {
   "cell_type": "markdown",
   "metadata": {},
   "source": [
    "From the above statistics, we can see that model testing on balanced dataset has the highest f-beta score."
   ]
  },
  {
   "cell_type": "markdown",
   "metadata": {},
   "source": [
    "## Decision Trees"
   ]
  },
  {
   "cell_type": "code",
   "execution_count": 31,
   "metadata": {},
   "outputs": [
    {
     "name": "stdout",
     "output_type": "stream",
     "text": [
      "Model: decision_tree in-sample Accuracy: 100.0%, Recall score: 100.0%, Precision score: 100.0%,F-beta: 100.0%\n",
      "Model: decision_tree out-of-sample Accuracy: 91.9%, Recall score: 51.5%, Precision score: 42.5%,F-beta: 49.4%          \n"
     ]
    }
   ],
   "source": [
    "name = 'decision_tree'\n",
    "clf_dt = DecisionTreeClassifier(random_state=42)\n",
    "pipeline_dt = Pipeline([\n",
    "    (\"scaler\", scaler), \n",
    "    (\"model\", clf_dt)\n",
    "])\n",
    "pipeline_dt = model_pipeline(X_train, X_test, y_train, y_test, pipeline_dt, name)\n"
   ]
  },
  {
   "cell_type": "code",
   "execution_count": 32,
   "metadata": {},
   "outputs": [
    {
     "name": "stdout",
     "output_type": "stream",
     "text": [
      "Model: decision_tree in-sample Accuracy: 100.0%, Recall score: 100.0%, Precision score: 100.0%,F-beta: 100.0%\n",
      "Model: decision_tree out-of-sample Accuracy: 91.9%, Recall score: 36.4%, Precision score: 40.0%,F-beta: 37.0%          \n"
     ]
    }
   ],
   "source": [
    "clf_dt = DecisionTreeClassifier(random_state=42, class_weight='balanced')\n",
    "pipeline_dt = Pipeline([\n",
    "    (\"scaler\", scaler), \n",
    "    (\"model\", clf_dt)\n",
    "])\n",
    "pipeline_dt = model_pipeline(X_train, X_test, y_train, y_test, pipeline_dt, name)"
   ]
  },
  {
   "cell_type": "code",
   "execution_count": 33,
   "metadata": {},
   "outputs": [
    {
     "name": "stdout",
     "output_type": "stream",
     "text": [
      "Model: decision_tree in-sample Accuracy: 99.8%, Recall score: 97.8%, Precision score: 99.6%,F-beta: 98.2%\n",
      "Model: decision_tree out-of-sample Accuracy: 89.2%, Recall score: 15.2%, Precision score: 17.2%,F-beta: 15.5%          \n"
     ]
    }
   ],
   "source": [
    "clf_dt = DecisionTreeClassifier(random_state=42, class_weight='balanced')\n",
    "pca = PCA(n_components=5)\n",
    "pipeline_dt = Pipeline([\n",
    "    (\"scaler\", scaler), \n",
    "    (\"PCA\",pca),\n",
    "    (\"model\", clf_dt)\n",
    "])\n",
    "pipeline_dt = model_pipeline(X_train, X_test, y_train, y_test, pipeline_dt, name)"
   ]
  },
  {
   "cell_type": "code",
   "execution_count": 34,
   "metadata": {},
   "outputs": [
    {
     "name": "stdout",
     "output_type": "stream",
     "text": [
      "Model: decision_tree in-sample Accuracy: 100.0%, Recall score: 100.0%, Precision score: 100.0%,F-beta: 100.0%\n",
      "Model: decision_tree out-of-sample Accuracy: 92.9%, Recall score: 39.4%, Precision score: 48.1%,F-beta: 40.9%          \n"
     ]
    }
   ],
   "source": [
    "clf_dt = DecisionTreeClassifier(random_state=42)\n",
    "pipeline_dt = Pipeline([\n",
    "    (\"scaler\", scaler), \n",
    "    (\"model\", clf_dt)\n",
    "])\n",
    "pipeline_dt = model_pipeline(X_train_over, X_test, y_train_over, y_test, pipeline_dt, name)"
   ]
  },
  {
   "cell_type": "code",
   "execution_count": 35,
   "metadata": {},
   "outputs": [
    {
     "name": "stdout",
     "output_type": "stream",
     "text": [
      "Model: decision_tree in-sample Accuracy: 99.0%, Recall score: 98.0%, Precision score: 99.9%,F-beta: 98.4%\n",
      "Model: decision_tree out-of-sample Accuracy: 90.5%, Recall score: 21.2%, Precision score: 25.9%,F-beta: 22.0%          \n"
     ]
    }
   ],
   "source": [
    "clf_dt = DecisionTreeClassifier(random_state=42)\n",
    "pca = PCA(n_components=5)\n",
    "pipeline_dt = Pipeline([\n",
    "    (\"scaler\", scaler), \n",
    "    (\"PCA\",pca),\n",
    "    (\"model\", clf_dt)\n",
    "])\n",
    "pipeline_dt = model_pipeline(X_train_over, X_test, y_train_over, y_test, pipeline_dt, name)"
   ]
  },
  {
   "cell_type": "markdown",
   "metadata": {},
   "source": [
    "## KNN"
   ]
  },
  {
   "cell_type": "code",
   "execution_count": 36,
   "metadata": {},
   "outputs": [
    {
     "name": "stdout",
     "output_type": "stream",
     "text": [
      "Model: KNN in-sample Accuracy: 94.6%, Recall score: 24.7%, Precision score: 73.1%,F-beta: 28.5%\n",
      "Model: KNN out-of-sample Accuracy: 93.2%, Recall score: 12.1%, Precision score: 50.0%,F-beta: 14.3%          \n"
     ]
    }
   ],
   "source": [
    "name = \"KNN\"\n",
    "KNN_clf = KNeighborsClassifier(algorithm='auto')\n",
    "KNN_pipeline = Pipeline([\n",
    "    (\"scaler\",scaler), \n",
    "    (\"KNN\", KNN_clf)\n",
    "])\n",
    "pipeline_KNN = model_pipeline(X_train, X_test, y_train, y_test, KNN_pipeline, name)\n"
   ]
  },
  {
   "cell_type": "code",
   "execution_count": 37,
   "metadata": {},
   "outputs": [
    {
     "name": "stdout",
     "output_type": "stream",
     "text": [
      "Model: KNN in-sample Accuracy: 94.3%, Recall score: 24.0%, Precision score: 63.5%,F-beta: 27.4%\n",
      "Model: KNN out-of-sample Accuracy: 92.1%, Recall score: 12.1%, Precision score: 30.8%,F-beta: 13.8%          \n"
     ]
    }
   ],
   "source": [
    "name = \"KNN\"\n",
    "KNN_clf = KNeighborsClassifier(algorithm='auto')\n",
    "pca = PCA(n_components = 5)\n",
    "KNN_pipeline = Pipeline([\n",
    "    (\"scaler\",scaler), \n",
    "    (\"PCA\",pca),\n",
    "    (\"KNN\", KNN_clf)\n",
    "])\n",
    "pipeline_KNN = model_pipeline(X_train, X_test, y_train, y_test, KNN_pipeline, name)\n"
   ]
  },
  {
   "cell_type": "code",
   "execution_count": 38,
   "metadata": {},
   "outputs": [
    {
     "name": "stdout",
     "output_type": "stream",
     "text": [
      "Model: KNN in-sample Accuracy: 96.1%, Recall score: 100.0%, Precision score: 92.7%,F-beta: 98.5%\n",
      "Model: KNN out-of-sample Accuracy: 85.7%, Recall score: 36.4%, Precision score: 20.0%,F-beta: 31.2%          \n"
     ]
    }
   ],
   "source": [
    "name = \"KNN\"\n",
    "KNN_clf = KNeighborsClassifier(algorithm='auto')\n",
    "KNN_pipeline = Pipeline([\n",
    "    (\"scaler\",scaler), \n",
    "    (\"KNN\", KNN_clf)\n",
    "])\n",
    "pipeline_KNN = model_pipeline(X_train_over, X_test, y_train_over, y_test, KNN_pipeline, name)\n"
   ]
  },
  {
   "cell_type": "code",
   "execution_count": 39,
   "metadata": {},
   "outputs": [
    {
     "name": "stdout",
     "output_type": "stream",
     "text": [
      "Model: KNN in-sample Accuracy: 95.1%, Recall score: 100.0%, Precision score: 91.1%,F-beta: 98.1%\n",
      "Model: KNN out-of-sample Accuracy: 83.6%, Recall score: 42.4%, Precision score: 18.9%,F-beta: 34.0%          \n"
     ]
    }
   ],
   "source": [
    "name = \"KNN\"\n",
    "KNN_clf = KNeighborsClassifier(algorithm='auto')\n",
    "pca = PCA(n_components = 5)\n",
    "KNN_pipeline = Pipeline([\n",
    "    (\"scaler\",scaler), \n",
    "    (\"PCA\",pca),\n",
    "    (\"KNN\", KNN_clf)\n",
    "])\n",
    "pipeline_KNN = model_pipeline(X_train_over, X_test, y_train_over, y_test, KNN_pipeline, name)\n"
   ]
  },
  {
   "cell_type": "markdown",
   "metadata": {},
   "source": [
    "## Random Forest"
   ]
  },
  {
   "cell_type": "code",
   "execution_count": 40,
   "metadata": {},
   "outputs": [
    {
     "name": "stdout",
     "output_type": "stream",
     "text": [
      "Model: Random Forest in-sample Accuracy: 100.0%, Recall score: 100.0%, Precision score: 100.0%,F-beta: 100.0%\n",
      "Model: Random Forest out-of-sample Accuracy: 94.8%, Recall score: 30.3%, Precision score: 83.3%,F-beta: 34.7%          \n"
     ]
    }
   ],
   "source": [
    "name = \"Random Forest\"\n",
    "RF_clf = RandomForestClassifier()\n",
    "RF_pipeline=Pipeline([\n",
    "    (\"scaler\",scaler), \n",
    "    (\"Random Forest\", RF_clf)\n",
    "])\n",
    "pipeline_RF = model_pipeline(X_train, X_test, y_train, y_test, RF_pipeline, name)\n"
   ]
  },
  {
   "cell_type": "code",
   "execution_count": 41,
   "metadata": {},
   "outputs": [
    {
     "name": "stdout",
     "output_type": "stream",
     "text": [
      "Model: Random Forest in-sample Accuracy: 100.0%, Recall score: 100.0%, Precision score: 100.0%,F-beta: 100.0%\n",
      "Model: Random Forest out-of-sample Accuracy: 93.4%, Recall score: 12.1%, Precision score: 57.1%,F-beta: 14.4%          \n"
     ]
    }
   ],
   "source": [
    "RF_clf = RandomForestClassifier(class_weight = \"balanced\")\n",
    "RF_pipeline=Pipeline([\n",
    "    (\"scaler\",scaler), \n",
    "    (\"Random Forest\", RF_clf)\n",
    "])\n",
    "pipeline_RF = model_pipeline(X_train, X_test, y_train, y_test, RF_pipeline, name)\n"
   ]
  },
  {
   "cell_type": "code",
   "execution_count": 42,
   "metadata": {},
   "outputs": [
    {
     "name": "stdout",
     "output_type": "stream",
     "text": [
      "Model: Random Forest in-sample Accuracy: 99.9%, Recall score: 98.9%, Precision score: 100.0%,F-beta: 99.1%\n",
      "Model: Random Forest out-of-sample Accuracy: 92.9%, Recall score: 12.1%, Precision score: 44.4%,F-beta: 14.2%          \n"
     ]
    }
   ],
   "source": [
    "RF_clf = RandomForestClassifier(class_weight = \"balanced\")\n",
    "pca = PCA(n_components = 5)\n",
    "RF_pipeline=Pipeline([\n",
    "    (\"scaler\",scaler),\n",
    "    (\"PCA\",pca),\n",
    "    (\"Random Forest\", RF_clf)\n",
    "])\n",
    "pipeline_RF = model_pipeline(X_train, X_test, y_train, y_test, RF_pipeline, name)\n"
   ]
  },
  {
   "cell_type": "code",
   "execution_count": 43,
   "metadata": {
    "scrolled": true
   },
   "outputs": [
    {
     "name": "stdout",
     "output_type": "stream",
     "text": [
      "Model: Random Forest in-sample Accuracy: 100.0%, Recall score: 100.0%, Precision score: 100.0%,F-beta: 100.0%\n",
      "Model: Random Forest out-of-sample Accuracy: 92.7%, Recall score: 21.2%, Precision score: 43.8%,F-beta: 23.6%          \n"
     ]
    }
   ],
   "source": [
    "RF_clf = RandomForestClassifier()\n",
    "RF_pipeline=Pipeline([\n",
    "    (\"scaler\",scaler), \n",
    "    (\"Random Forest\", RF_clf)\n",
    "])\n",
    "pipeline_RF = model_pipeline(X_train_over, X_test, y_train_over, y_test, RF_pipeline, name)\n"
   ]
  },
  {
   "cell_type": "code",
   "execution_count": 44,
   "metadata": {},
   "outputs": [
    {
     "name": "stdout",
     "output_type": "stream",
     "text": [
      "Model: Random Forest in-sample Accuracy: 100.0%, Recall score: 100.0%, Precision score: 100.0%,F-beta: 100.0%\n",
      "Model: Random Forest out-of-sample Accuracy: 93.2%, Recall score: 24.2%, Precision score: 50.0%,F-beta: 27.0%          \n"
     ]
    }
   ],
   "source": [
    "RF_clf = RandomForestClassifier(class_weight = \"balanced\")\n",
    "RF_pipeline=Pipeline([\n",
    "    (\"scaler\",scaler), \n",
    "    (\"Random Forest\", RF_clf)\n",
    "])\n",
    "pipeline_RF = model_pipeline(X_train_over, X_test, y_train_over, y_test, RF_pipeline, name)\n"
   ]
  },
  {
   "cell_type": "code",
   "execution_count": 45,
   "metadata": {},
   "outputs": [
    {
     "name": "stdout",
     "output_type": "stream",
     "text": [
      "Model: Random Forest in-sample Accuracy: 100.0%, Recall score: 100.0%, Precision score: 100.0%,F-beta: 100.0%\n",
      "Model: Random Forest out-of-sample Accuracy: 91.5%, Recall score: 6.1%, Precision score: 16.7%,F-beta: 6.9%          \n"
     ]
    }
   ],
   "source": [
    "RF_clf = RandomForestClassifier(class_weight = \"balanced\")\n",
    "pca = PCA(n_components = 5)\n",
    "RF_pipeline=Pipeline([\n",
    "    (\"scaler\",scaler), \n",
    "    (\"PCA\",pca),\n",
    "    (\"Random Forest\", RF_clf)\n",
    "])\n",
    "pipeline_RF = model_pipeline(X_train_over, X_test, y_train_over, y_test, RF_pipeline, name)\n"
   ]
  },
  {
   "cell_type": "markdown",
   "metadata": {},
   "source": [
    "## SVM"
   ]
  },
  {
   "cell_type": "code",
   "execution_count": 46,
   "metadata": {},
   "outputs": [
    {
     "name": "stdout",
     "output_type": "stream",
     "text": [
      "Model: SVM in-sample Accuracy: 84.9%, Recall score: 73.5%, Precision score: 25.8%,F-beta: 53.7%\n",
      "Model: SVM out-of-sample Accuracy: 81.3%, Recall score: 57.6%, Precision score: 20.0%,F-beta: 41.9%          \n"
     ]
    }
   ],
   "source": [
    "name = \"SVM\"\n",
    "SVM_clf = SVC(class_weight = \"balanced\")\n",
    "SVM_pipeline=Pipeline(\n",
    "    [(\"scaler\",scaler), \n",
    "     (\"SVM\", SVM_clf)\n",
    "])\n",
    "pipeline_SVM = model_pipeline(X_train, X_test, y_train, y_test, SVM_pipeline, name)"
   ]
  },
  {
   "cell_type": "code",
   "execution_count": 47,
   "metadata": {},
   "outputs": [
    {
     "name": "stdout",
     "output_type": "stream",
     "text": [
      "Model: SVM in-sample Accuracy: 81.5%, Recall score: 70.9%, Precision score: 21.2%,F-beta: 48.3%\n",
      "Model: SVM out-of-sample Accuracy: 81.5%, Recall score: 66.7%, Precision score: 22.0%,F-beta: 47.4%          \n"
     ]
    }
   ],
   "source": [
    "name = \"SVM\"\n",
    "SVM_clf = SVC(class_weight = \"balanced\")\n",
    "pca = PCA(n_components = 5)\n",
    "SVM_pipeline=Pipeline(\n",
    "    [(\"scaler\",scaler), \n",
    "     (\"PCA\",pca),\n",
    "     (\"SVM\", SVM_clf)\n",
    "])\n",
    "pipeline_SVM = model_pipeline(X_train, X_test, y_train, y_test, SVM_pipeline, name)"
   ]
  },
  {
   "cell_type": "code",
   "execution_count": 48,
   "metadata": {},
   "outputs": [
    {
     "name": "stdout",
     "output_type": "stream",
     "text": [
      "Model: SVM in-sample Accuracy: 80.4%, Recall score: 74.6%, Precision score: 84.4%,F-beta: 76.4%\n",
      "Model: SVM out-of-sample Accuracy: 80.3%, Recall score: 60.6%, Precision score: 19.6%,F-beta: 42.7%          \n"
     ]
    }
   ],
   "source": [
    "name = \"SVM\"\n",
    "SVM_clf = SVC(class_weight = \"balanced\")\n",
    "SVM_pipeline=Pipeline(\n",
    "    [(\"scaler\",scaler), \n",
    "     (\"SVM\", SVM_clf)\n",
    "])\n",
    "pipeline_SVM = model_pipeline(X_train_over, X_test, y_train_over, y_test, SVM_pipeline, name)"
   ]
  },
  {
   "cell_type": "code",
   "execution_count": 49,
   "metadata": {},
   "outputs": [
    {
     "name": "stdout",
     "output_type": "stream",
     "text": [
      "Model: SVM in-sample Accuracy: 74.3%, Recall score: 62.1%, Precision score: 82.2%,F-beta: 65.3%\n",
      "Model: SVM out-of-sample Accuracy: 84.0%, Recall score: 60.6%, Precision score: 23.8%,F-beta: 46.3%          \n"
     ]
    }
   ],
   "source": [
    "name = \"SVM\"\n",
    "SVM_clf = SVC(class_weight = \"balanced\")\n",
    "pca = PCA(n_components = 5)\n",
    "SVM_pipeline=Pipeline(\n",
    "    [(\"scaler\",scaler), \n",
    "     (\"PCA\",pca),\n",
    "     (\"SVM\", SVM_clf)\n",
    "])\n",
    "pipeline_SVM = model_pipeline(X_train_over, X_test, y_train_over, y_test, SVM_pipeline, name)"
   ]
  },
  {
   "cell_type": "markdown",
   "metadata": {},
   "source": [
    "## Adaboost"
   ]
  },
  {
   "cell_type": "code",
   "execution_count": 50,
   "metadata": {},
   "outputs": [
    {
     "name": "stdout",
     "output_type": "stream",
     "text": [
      "Model: Adaboost in-sample Accuracy: 96.7%, Recall score: 56.7%, Precision score: 85.7%,F-beta: 60.8%\n",
      "Model: Adaboost out-of-sample Accuracy: 95.2%, Recall score: 42.4%, Precision score: 77.8%,F-beta: 46.7%          \n"
     ]
    }
   ],
   "source": [
    "name = \"Adaboost\"\n",
    "ABC_clf = AdaBoostClassifier()\n",
    "ABC_pipeline = Pipeline([\n",
    "    (\"scaler\",scaler),\n",
    "    (\"Adaboost\", ABC_clf)\n",
    "])\n",
    "pipeline_SVM = model_pipeline(X_train, X_test, y_train, y_test, ABC_pipeline, name)"
   ]
  },
  {
   "cell_type": "code",
   "execution_count": 51,
   "metadata": {},
   "outputs": [
    {
     "name": "stdout",
     "output_type": "stream",
     "text": [
      "Model: Adaboost in-sample Accuracy: 91.7%, Recall score: 91.4%, Precision score: 91.9%,F-beta: 91.5%\n",
      "Model: Adaboost out-of-sample Accuracy: 87.1%, Recall score: 57.6%, Precision score: 28.4%,F-beta: 47.7%          \n"
     ]
    }
   ],
   "source": [
    "ABC_clf = AdaBoostClassifier()\n",
    "ABC_pipeline = Pipeline([\n",
    "    (\"scaler\",scaler),\n",
    "    (\"Adaboost\", ABC_clf)\n",
    "])\n",
    "pipeline_SVM = model_pipeline(X_train_over, X_test, y_train_over, y_test, ABC_pipeline, name)"
   ]
  },
  {
   "cell_type": "code",
   "execution_count": 52,
   "metadata": {},
   "outputs": [
    {
     "name": "stdout",
     "output_type": "stream",
     "text": [
      "Model: Adaboost in-sample Accuracy: 78.6%, Recall score: 74.9%, Precision score: 80.8%,F-beta: 76.0%\n",
      "Model: Adaboost out-of-sample Accuracy: 79.3%, Recall score: 57.6%, Precision score: 18.1%,F-beta: 40.1%          \n"
     ]
    }
   ],
   "source": [
    "ABC_clf = AdaBoostClassifier()\n",
    "pca =PCA(n_components = 5)\n",
    "ABC_pipeline = Pipeline([\n",
    "    (\"scaler\",scaler),\n",
    "    (\"PCA\",pca),\n",
    "    (\"Adaboost\", ABC_clf)\n",
    "])\n",
    "pipeline_SVM = model_pipeline(X_train_over, X_test, y_train_over, y_test, ABC_pipeline, name)"
   ]
  },
  {
   "cell_type": "markdown",
   "metadata": {},
   "source": [
    "## GradientBoost"
   ]
  },
  {
   "cell_type": "code",
   "execution_count": 53,
   "metadata": {},
   "outputs": [
    {
     "name": "stdout",
     "output_type": "stream",
     "text": [
      "Model: GBM in-sample Accuracy: 98.6%, Recall score: 77.5%, Precision score: 100.0%,F-beta: 81.1%\n",
      "Model: GBM out-of-sample Accuracy: 95.9%, Recall score: 45.5%, Precision score: 88.2%,F-beta: 50.3%          \n"
     ]
    }
   ],
   "source": [
    "name = \"GBM\"\n",
    "GBM_clf = GradientBoostingClassifier()\n",
    "GBM_pipeline = Pipeline([\n",
    "    (\"scaler\",scaler),\n",
    "    (\"GBM\", GBM_clf)\n",
    "])\n",
    "pipeline_GBM = model_pipeline(X_train, X_test, y_train, y_test, GBM_pipeline, name)"
   ]
  },
  {
   "cell_type": "code",
   "execution_count": 54,
   "metadata": {
    "scrolled": true
   },
   "outputs": [
    {
     "name": "stdout",
     "output_type": "stream",
     "text": [
      "Model: GBM in-sample Accuracy: 97.5%, Recall score: 98.6%, Precision score: 96.4%,F-beta: 98.2%\n",
      "Model: GBM out-of-sample Accuracy: 92.9%, Recall score: 63.6%, Precision score: 48.8%,F-beta: 60.0%          \n"
     ]
    }
   ],
   "source": [
    "GBM_clf = GradientBoostingClassifier()\n",
    "GBM_pipeline = Pipeline([\n",
    "    (\"scaler\",scaler),\n",
    "    (\"GBM\", GBM_clf)\n",
    "])\n",
    "pipeline_GBM = model_pipeline(X_train_over, X_test, y_train_over, y_test, GBM_pipeline, name)"
   ]
  },
  {
   "cell_type": "code",
   "execution_count": 55,
   "metadata": {},
   "outputs": [
    {
     "name": "stdout",
     "output_type": "stream",
     "text": [
      "Model: GBM in-sample Accuracy: 88.9%, Recall score: 92.9%, Precision score: 86.1%,F-beta: 91.4%\n",
      "Model: GBM out-of-sample Accuracy: 82.6%, Recall score: 48.5%, Precision score: 19.3%,F-beta: 37.2%          \n"
     ]
    }
   ],
   "source": [
    "GBM_clf = GradientBoostingClassifier()\n",
    "pca = PCA(n_components = 5)\n",
    "GBM_pipeline = Pipeline([\n",
    "    (\"scaler\",scaler),\n",
    "    (\"PCA\",pca),\n",
    "    (\"GBM\", GBM_clf)\n",
    "])\n",
    "pipeline_GBM = model_pipeline(X_train_over, X_test, y_train_over, y_test, GBM_pipeline, name)"
   ]
  },
  {
   "cell_type": "markdown",
   "metadata": {},
   "source": [
    "## MLP"
   ]
  },
  {
   "cell_type": "code",
   "execution_count": 56,
   "metadata": {},
   "outputs": [
    {
     "name": "stdout",
     "output_type": "stream",
     "text": [
      "Model: GBM in-sample Accuracy: 96.5%, Recall score: 47.3%, Precision score: 95.6%,F-beta: 52.6%\n",
      "Model: GBM out-of-sample Accuracy: 93.4%, Recall score: 21.2%, Precision score: 53.8%,F-beta: 24.1%          \n"
     ]
    },
    {
     "name": "stderr",
     "output_type": "stream",
     "text": [
      "/Users/yipeizhang/opt/anaconda3/lib/python3.7/site-packages/sklearn/neural_network/_multilayer_perceptron.py:585: ConvergenceWarning: Stochastic Optimizer: Maximum iterations (200) reached and the optimization hasn't converged yet.\n",
      "  % self.max_iter, ConvergenceWarning)\n"
     ]
    }
   ],
   "source": [
    "MLP_clf = MLPClassifier()\n",
    "MLP_pipeline = Pipeline([\n",
    "    (\"scaler\",scaler),\n",
    "    (\"MLP\", MLP_clf)\n",
    "])\n",
    "pipeline_GBM = model_pipeline(X_train, X_test, y_train, y_test, MLP_pipeline, name)"
   ]
  },
  {
   "cell_type": "code",
   "execution_count": 57,
   "metadata": {},
   "outputs": [
    {
     "name": "stdout",
     "output_type": "stream",
     "text": [
      "Model: GBM in-sample Accuracy: 97.9%, Recall score: 98.3%, Precision score: 97.5%,F-beta: 98.2%\n",
      "Model: GBM out-of-sample Accuracy: 90.0%, Recall score: 57.6%, Precision score: 35.8%,F-beta: 51.4%          \n"
     ]
    },
    {
     "name": "stderr",
     "output_type": "stream",
     "text": [
      "/Users/yipeizhang/opt/anaconda3/lib/python3.7/site-packages/sklearn/neural_network/_multilayer_perceptron.py:585: ConvergenceWarning: Stochastic Optimizer: Maximum iterations (200) reached and the optimization hasn't converged yet.\n",
      "  % self.max_iter, ConvergenceWarning)\n"
     ]
    }
   ],
   "source": [
    "MLP_clf = MLPClassifier()\n",
    "MLP_pipeline = Pipeline([\n",
    "    (\"scaler\",scaler),\n",
    "    (\"MLP\", MLP_clf)\n",
    "])\n",
    "pipeline_GBM = model_pipeline(X_train_over, X_test, y_train_over, y_test, MLP_pipeline, name)"
   ]
  },
  {
   "cell_type": "markdown",
   "metadata": {},
   "source": [
    "We can find that RandomForest, Adaboost, GradientBoost and MLP have better performance. \n",
    "\n",
    "Then I will use Voting classifier to create a complex pipeline."
   ]
  },
  {
   "cell_type": "markdown",
   "metadata": {},
   "source": [
    "## Voting Classifier"
   ]
  },
  {
   "cell_type": "code",
   "execution_count": 58,
   "metadata": {},
   "outputs": [
    {
     "name": "stdout",
     "output_type": "stream",
     "text": [
      "Model: VotingClassifier in-sample Accuracy: 98.6%, Recall score: 77.5%, Precision score: 100.0%,F-beta: 81.1%\n",
      "Model: VotingClassifier out-of-sample Accuracy: 96.1%, Recall score: 48.5%, Precision score: 88.9%,F-beta: 53.3%          \n"
     ]
    }
   ],
   "source": [
    "\n",
    "clf1 = RandomForestClassifier()\n",
    "clf2 = AdaBoostClassifier()\n",
    "clf3 = MLPClassifier(alpha=1, max_iter=1000)\n",
    "clf4 = GradientBoostingClassifier(n_estimators=100)\n",
    "\n",
    "name = 'VotingClassifier'\n",
    "together = VotingClassifier(estimators=\n",
    "                        [\n",
    "                         ('clf1', clf1),\n",
    "                         ('clf2', clf2), \n",
    "                         ('clf3', clf3),\n",
    "                         ('clf4', clf4)],                        \n",
    "                        weights=[1,1,2,5],\n",
    "                        voting='hard') \n",
    "\n",
    "voting_pipeline = Pipeline([ \n",
    "        (\"scaler\", scaler), \n",
    "        (\"model\", together)\n",
    "    ])\n",
    "voting_pipeline = model_pipeline(X_train, X_test, y_train, y_test, voting_pipeline, name)"
   ]
  },
  {
   "cell_type": "code",
   "execution_count": null,
   "metadata": {},
   "outputs": [],
   "source": []
  },
  {
   "cell_type": "markdown",
   "metadata": {},
   "source": [
    "## Error analysis"
   ]
  },
  {
   "cell_type": "code",
   "execution_count": 59,
   "metadata": {
    "scrolled": false
   },
   "outputs": [
    {
     "data": {
      "text/html": [
       "<div>\n",
       "<style scoped>\n",
       "    .dataframe tbody tr th:only-of-type {\n",
       "        vertical-align: middle;\n",
       "    }\n",
       "\n",
       "    .dataframe tbody tr th {\n",
       "        vertical-align: top;\n",
       "    }\n",
       "\n",
       "    .dataframe thead th {\n",
       "        text-align: right;\n",
       "    }\n",
       "</style>\n",
       "<table border=\"1\" class=\"dataframe\">\n",
       "  <thead>\n",
       "    <tr style=\"text-align: right;\">\n",
       "      <th></th>\n",
       "      <th>X1</th>\n",
       "      <th>X2</th>\n",
       "      <th>X3</th>\n",
       "      <th>X4</th>\n",
       "      <th>X5</th>\n",
       "      <th>X6</th>\n",
       "      <th>X7</th>\n",
       "      <th>X8</th>\n",
       "      <th>X9</th>\n",
       "      <th>X10</th>\n",
       "      <th>...</th>\n",
       "      <th>X57</th>\n",
       "      <th>X58</th>\n",
       "      <th>X59</th>\n",
       "      <th>X60</th>\n",
       "      <th>X61</th>\n",
       "      <th>X62</th>\n",
       "      <th>X63</th>\n",
       "      <th>X64</th>\n",
       "      <th>y_real</th>\n",
       "      <th>y_pred</th>\n",
       "    </tr>\n",
       "  </thead>\n",
       "  <tbody>\n",
       "    <tr>\n",
       "      <th>3081</th>\n",
       "      <td>0.028770</td>\n",
       "      <td>0.588240</td>\n",
       "      <td>0.218900</td>\n",
       "      <td>1.48030</td>\n",
       "      <td>-56.0740</td>\n",
       "      <td>0.000000</td>\n",
       "      <td>0.028770</td>\n",
       "      <td>0.699980</td>\n",
       "      <td>0.98627</td>\n",
       "      <td>0.411760</td>\n",
       "      <td>...</td>\n",
       "      <td>0.069870</td>\n",
       "      <td>0.95147</td>\n",
       "      <td>0.000000</td>\n",
       "      <td>2.609000</td>\n",
       "      <td>3.4109</td>\n",
       "      <td>168.6600</td>\n",
       "      <td>2.164100</td>\n",
       "      <td>3.03130</td>\n",
       "      <td>1</td>\n",
       "      <td>0</td>\n",
       "    </tr>\n",
       "    <tr>\n",
       "      <th>465</th>\n",
       "      <td>-0.456220</td>\n",
       "      <td>0.961200</td>\n",
       "      <td>-0.571370</td>\n",
       "      <td>0.36061</td>\n",
       "      <td>-162.3500</td>\n",
       "      <td>-2.382200</td>\n",
       "      <td>-0.456220</td>\n",
       "      <td>0.040371</td>\n",
       "      <td>1.26770</td>\n",
       "      <td>0.038805</td>\n",
       "      <td>...</td>\n",
       "      <td>-11.757000</td>\n",
       "      <td>1.35290</td>\n",
       "      <td>0.000000</td>\n",
       "      <td>7.840400</td>\n",
       "      <td>9.6676</td>\n",
       "      <td>257.2900</td>\n",
       "      <td>1.418600</td>\n",
       "      <td>1.87050</td>\n",
       "      <td>0</td>\n",
       "      <td>1</td>\n",
       "    </tr>\n",
       "    <tr>\n",
       "      <th>3424</th>\n",
       "      <td>-0.092924</td>\n",
       "      <td>0.083884</td>\n",
       "      <td>0.434580</td>\n",
       "      <td>6.18070</td>\n",
       "      <td>32.9990</td>\n",
       "      <td>0.000000</td>\n",
       "      <td>-0.092924</td>\n",
       "      <td>10.921000</td>\n",
       "      <td>3.82920</td>\n",
       "      <td>0.916120</td>\n",
       "      <td>...</td>\n",
       "      <td>-0.101430</td>\n",
       "      <td>1.02960</td>\n",
       "      <td>0.000000</td>\n",
       "      <td>51.735000</td>\n",
       "      <td>9.5004</td>\n",
       "      <td>7.9957</td>\n",
       "      <td>45.649000</td>\n",
       "      <td>7.95210</td>\n",
       "      <td>1</td>\n",
       "      <td>0</td>\n",
       "    </tr>\n",
       "    <tr>\n",
       "      <th>1448</th>\n",
       "      <td>0.112960</td>\n",
       "      <td>0.611130</td>\n",
       "      <td>0.276980</td>\n",
       "      <td>1.47860</td>\n",
       "      <td>40.7220</td>\n",
       "      <td>0.000000</td>\n",
       "      <td>0.140200</td>\n",
       "      <td>0.636240</td>\n",
       "      <td>2.17740</td>\n",
       "      <td>0.388830</td>\n",
       "      <td>...</td>\n",
       "      <td>0.290510</td>\n",
       "      <td>0.86339</td>\n",
       "      <td>0.000000</td>\n",
       "      <td>50.177000</td>\n",
       "      <td>4.6912</td>\n",
       "      <td>97.0160</td>\n",
       "      <td>3.762300</td>\n",
       "      <td>15.09700</td>\n",
       "      <td>1</td>\n",
       "      <td>0</td>\n",
       "    </tr>\n",
       "    <tr>\n",
       "      <th>1126</th>\n",
       "      <td>0.194540</td>\n",
       "      <td>0.558300</td>\n",
       "      <td>0.281430</td>\n",
       "      <td>1.58800</td>\n",
       "      <td>5.1795</td>\n",
       "      <td>0.194540</td>\n",
       "      <td>0.242840</td>\n",
       "      <td>0.767590</td>\n",
       "      <td>1.05600</td>\n",
       "      <td>0.428550</td>\n",
       "      <td>...</td>\n",
       "      <td>0.453940</td>\n",
       "      <td>0.94694</td>\n",
       "      <td>0.185940</td>\n",
       "      <td>20.295000</td>\n",
       "      <td>14.5280</td>\n",
       "      <td>39.3010</td>\n",
       "      <td>9.287300</td>\n",
       "      <td>18.52500</td>\n",
       "      <td>1</td>\n",
       "      <td>0</td>\n",
       "    </tr>\n",
       "    <tr>\n",
       "      <th>2706</th>\n",
       "      <td>0.018991</td>\n",
       "      <td>0.486210</td>\n",
       "      <td>0.510350</td>\n",
       "      <td>2.13540</td>\n",
       "      <td>32.6130</td>\n",
       "      <td>0.000000</td>\n",
       "      <td>0.026944</td>\n",
       "      <td>1.056700</td>\n",
       "      <td>3.38240</td>\n",
       "      <td>0.513790</td>\n",
       "      <td>...</td>\n",
       "      <td>0.036962</td>\n",
       "      <td>0.99214</td>\n",
       "      <td>0.027089</td>\n",
       "      <td>19.852000</td>\n",
       "      <td>12.7320</td>\n",
       "      <td>48.5050</td>\n",
       "      <td>7.524900</td>\n",
       "      <td>84.24800</td>\n",
       "      <td>1</td>\n",
       "      <td>0</td>\n",
       "    </tr>\n",
       "    <tr>\n",
       "      <th>1893</th>\n",
       "      <td>0.093260</td>\n",
       "      <td>0.131310</td>\n",
       "      <td>0.264650</td>\n",
       "      <td>3.01550</td>\n",
       "      <td>72.0980</td>\n",
       "      <td>0.093260</td>\n",
       "      <td>0.089028</td>\n",
       "      <td>6.223700</td>\n",
       "      <td>1.03480</td>\n",
       "      <td>0.817220</td>\n",
       "      <td>...</td>\n",
       "      <td>0.114120</td>\n",
       "      <td>0.96637</td>\n",
       "      <td>0.000000</td>\n",
       "      <td>83.616000</td>\n",
       "      <td>6.6616</td>\n",
       "      <td>36.1150</td>\n",
       "      <td>10.107000</td>\n",
       "      <td>2.19700</td>\n",
       "      <td>1</td>\n",
       "      <td>0</td>\n",
       "    </tr>\n",
       "    <tr>\n",
       "      <th>4525</th>\n",
       "      <td>-0.240850</td>\n",
       "      <td>1.017600</td>\n",
       "      <td>-0.171260</td>\n",
       "      <td>0.82642</td>\n",
       "      <td>-123.4500</td>\n",
       "      <td>-0.508910</td>\n",
       "      <td>-0.240850</td>\n",
       "      <td>-0.017269</td>\n",
       "      <td>1.15400</td>\n",
       "      <td>-0.017572</td>\n",
       "      <td>...</td>\n",
       "      <td>13.706000</td>\n",
       "      <td>1.17720</td>\n",
       "      <td>0.000000</td>\n",
       "      <td>9.898900</td>\n",
       "      <td>2.1967</td>\n",
       "      <td>312.0500</td>\n",
       "      <td>1.169700</td>\n",
       "      <td>6.24960</td>\n",
       "      <td>1</td>\n",
       "      <td>0</td>\n",
       "    </tr>\n",
       "    <tr>\n",
       "      <th>1729</th>\n",
       "      <td>0.059045</td>\n",
       "      <td>0.339000</td>\n",
       "      <td>0.180410</td>\n",
       "      <td>2.15560</td>\n",
       "      <td>16.0720</td>\n",
       "      <td>0.000000</td>\n",
       "      <td>0.073548</td>\n",
       "      <td>1.949800</td>\n",
       "      <td>3.36750</td>\n",
       "      <td>0.661000</td>\n",
       "      <td>...</td>\n",
       "      <td>0.089327</td>\n",
       "      <td>0.97725</td>\n",
       "      <td>0.010979</td>\n",
       "      <td>96.038000</td>\n",
       "      <td>18.1500</td>\n",
       "      <td>16.9210</td>\n",
       "      <td>21.571000</td>\n",
       "      <td>5.07560</td>\n",
       "      <td>1</td>\n",
       "      <td>0</td>\n",
       "    </tr>\n",
       "    <tr>\n",
       "      <th>4155</th>\n",
       "      <td>0.118540</td>\n",
       "      <td>0.519460</td>\n",
       "      <td>0.376420</td>\n",
       "      <td>1.96150</td>\n",
       "      <td>-80.0580</td>\n",
       "      <td>0.000000</td>\n",
       "      <td>0.118540</td>\n",
       "      <td>0.925060</td>\n",
       "      <td>1.17810</td>\n",
       "      <td>0.480540</td>\n",
       "      <td>...</td>\n",
       "      <td>0.246670</td>\n",
       "      <td>0.88039</td>\n",
       "      <td>0.259280</td>\n",
       "      <td>1.962500</td>\n",
       "      <td>7.1645</td>\n",
       "      <td>121.3000</td>\n",
       "      <td>3.009000</td>\n",
       "      <td>5.08030</td>\n",
       "      <td>1</td>\n",
       "      <td>0</td>\n",
       "    </tr>\n",
       "    <tr>\n",
       "      <th>2409</th>\n",
       "      <td>0.037645</td>\n",
       "      <td>2.646100</td>\n",
       "      <td>-2.564500</td>\n",
       "      <td>0.03086</td>\n",
       "      <td>-9832.4000</td>\n",
       "      <td>-1.765700</td>\n",
       "      <td>0.037645</td>\n",
       "      <td>-0.622090</td>\n",
       "      <td>0.18154</td>\n",
       "      <td>-1.646100</td>\n",
       "      <td>...</td>\n",
       "      <td>-0.022869</td>\n",
       "      <td>0.32979</td>\n",
       "      <td>0.000000</td>\n",
       "      <td>63.037047</td>\n",
       "      <td>57.4500</td>\n",
       "      <td>5320.3000</td>\n",
       "      <td>0.068605</td>\n",
       "      <td>0.19768</td>\n",
       "      <td>1</td>\n",
       "      <td>0</td>\n",
       "    </tr>\n",
       "    <tr>\n",
       "      <th>2583</th>\n",
       "      <td>0.041379</td>\n",
       "      <td>0.816310</td>\n",
       "      <td>-0.082610</td>\n",
       "      <td>0.87465</td>\n",
       "      <td>-73.6710</td>\n",
       "      <td>-0.149920</td>\n",
       "      <td>0.053565</td>\n",
       "      <td>0.225030</td>\n",
       "      <td>1.54690</td>\n",
       "      <td>0.183690</td>\n",
       "      <td>...</td>\n",
       "      <td>0.225270</td>\n",
       "      <td>0.96685</td>\n",
       "      <td>0.677110</td>\n",
       "      <td>10.895000</td>\n",
       "      <td>7.3090</td>\n",
       "      <td>155.5100</td>\n",
       "      <td>2.347200</td>\n",
       "      <td>3.65220</td>\n",
       "      <td>1</td>\n",
       "      <td>0</td>\n",
       "    </tr>\n",
       "    <tr>\n",
       "      <th>2309</th>\n",
       "      <td>-0.052367</td>\n",
       "      <td>0.813330</td>\n",
       "      <td>0.404560</td>\n",
       "      <td>1.73890</td>\n",
       "      <td>-7.5625</td>\n",
       "      <td>-0.467450</td>\n",
       "      <td>-0.052367</td>\n",
       "      <td>0.229520</td>\n",
       "      <td>6.96230</td>\n",
       "      <td>0.186670</td>\n",
       "      <td>...</td>\n",
       "      <td>-0.280530</td>\n",
       "      <td>0.99729</td>\n",
       "      <td>1.424000</td>\n",
       "      <td>12.656000</td>\n",
       "      <td>17.9030</td>\n",
       "      <td>28.7030</td>\n",
       "      <td>12.716000</td>\n",
       "      <td>145.24000</td>\n",
       "      <td>1</td>\n",
       "      <td>0</td>\n",
       "    </tr>\n",
       "    <tr>\n",
       "      <th>642</th>\n",
       "      <td>0.001105</td>\n",
       "      <td>0.865170</td>\n",
       "      <td>0.129840</td>\n",
       "      <td>1.15010</td>\n",
       "      <td>-593.3900</td>\n",
       "      <td>0.000000</td>\n",
       "      <td>0.001105</td>\n",
       "      <td>0.155220</td>\n",
       "      <td>0.45811</td>\n",
       "      <td>0.134290</td>\n",
       "      <td>...</td>\n",
       "      <td>0.008228</td>\n",
       "      <td>0.99740</td>\n",
       "      <td>0.000000</td>\n",
       "      <td>0.517930</td>\n",
       "      <td>4.2589</td>\n",
       "      <td>689.3200</td>\n",
       "      <td>0.529510</td>\n",
       "      <td>102.79000</td>\n",
       "      <td>1</td>\n",
       "      <td>0</td>\n",
       "    </tr>\n",
       "    <tr>\n",
       "      <th>4554</th>\n",
       "      <td>-0.224350</td>\n",
       "      <td>1.425600</td>\n",
       "      <td>-0.749700</td>\n",
       "      <td>0.47412</td>\n",
       "      <td>-209.9500</td>\n",
       "      <td>-2.222300</td>\n",
       "      <td>-0.224350</td>\n",
       "      <td>-0.298540</td>\n",
       "      <td>2.06050</td>\n",
       "      <td>-0.425590</td>\n",
       "      <td>...</td>\n",
       "      <td>0.527140</td>\n",
       "      <td>1.10890</td>\n",
       "      <td>0.000000</td>\n",
       "      <td>3.853700</td>\n",
       "      <td>15.2390</td>\n",
       "      <td>252.5300</td>\n",
       "      <td>1.445400</td>\n",
       "      <td>6.35760</td>\n",
       "      <td>0</td>\n",
       "      <td>1</td>\n",
       "    </tr>\n",
       "    <tr>\n",
       "      <th>2960</th>\n",
       "      <td>-0.011893</td>\n",
       "      <td>0.208050</td>\n",
       "      <td>0.705740</td>\n",
       "      <td>4.39220</td>\n",
       "      <td>85.1160</td>\n",
       "      <td>-0.011893</td>\n",
       "      <td>-0.012882</td>\n",
       "      <td>3.560000</td>\n",
       "      <td>1.02070</td>\n",
       "      <td>0.740650</td>\n",
       "      <td>...</td>\n",
       "      <td>-0.016058</td>\n",
       "      <td>0.97974</td>\n",
       "      <td>0.000000</td>\n",
       "      <td>7.795700</td>\n",
       "      <td>4.4666</td>\n",
       "      <td>39.2340</td>\n",
       "      <td>9.303200</td>\n",
       "      <td>22.45100</td>\n",
       "      <td>1</td>\n",
       "      <td>0</td>\n",
       "    </tr>\n",
       "    <tr>\n",
       "      <th>2705</th>\n",
       "      <td>0.097567</td>\n",
       "      <td>0.178560</td>\n",
       "      <td>0.465540</td>\n",
       "      <td>3.60720</td>\n",
       "      <td>49.3490</td>\n",
       "      <td>0.000000</td>\n",
       "      <td>0.097567</td>\n",
       "      <td>4.600200</td>\n",
       "      <td>2.67580</td>\n",
       "      <td>0.821410</td>\n",
       "      <td>...</td>\n",
       "      <td>0.118780</td>\n",
       "      <td>0.96327</td>\n",
       "      <td>0.000000</td>\n",
       "      <td>24.103000</td>\n",
       "      <td>8.1366</td>\n",
       "      <td>24.3570</td>\n",
       "      <td>14.986000</td>\n",
       "      <td>7.51850</td>\n",
       "      <td>1</td>\n",
       "      <td>0</td>\n",
       "    </tr>\n",
       "    <tr>\n",
       "      <th>1456</th>\n",
       "      <td>-0.382360</td>\n",
       "      <td>1.272300</td>\n",
       "      <td>-0.445760</td>\n",
       "      <td>0.29254</td>\n",
       "      <td>-118.5200</td>\n",
       "      <td>-0.221030</td>\n",
       "      <td>-0.382360</td>\n",
       "      <td>-0.214050</td>\n",
       "      <td>1.23640</td>\n",
       "      <td>-0.272330</td>\n",
       "      <td>...</td>\n",
       "      <td>1.404000</td>\n",
       "      <td>1.26400</td>\n",
       "      <td>0.000000</td>\n",
       "      <td>13.120000</td>\n",
       "      <td>13.9710</td>\n",
       "      <td>186.0100</td>\n",
       "      <td>1.962300</td>\n",
       "      <td>1.51580</td>\n",
       "      <td>1</td>\n",
       "      <td>0</td>\n",
       "    </tr>\n",
       "    <tr>\n",
       "      <th>151</th>\n",
       "      <td>-0.065217</td>\n",
       "      <td>0.747170</td>\n",
       "      <td>-0.029124</td>\n",
       "      <td>0.92549</td>\n",
       "      <td>-174.4700</td>\n",
       "      <td>0.052782</td>\n",
       "      <td>-0.065217</td>\n",
       "      <td>0.338380</td>\n",
       "      <td>0.59615</td>\n",
       "      <td>0.252830</td>\n",
       "      <td>...</td>\n",
       "      <td>-0.257950</td>\n",
       "      <td>1.10870</td>\n",
       "      <td>1.156700</td>\n",
       "      <td>2.685900</td>\n",
       "      <td>7.2746</td>\n",
       "      <td>239.3200</td>\n",
       "      <td>1.525200</td>\n",
       "      <td>0.93404</td>\n",
       "      <td>1</td>\n",
       "      <td>0</td>\n",
       "    </tr>\n",
       "  </tbody>\n",
       "</table>\n",
       "<p>19 rows × 65 columns</p>\n",
       "</div>"
      ],
      "text/plain": [
       "            X1        X2        X3       X4         X5        X6        X7  \\\n",
       "3081  0.028770  0.588240  0.218900  1.48030   -56.0740  0.000000  0.028770   \n",
       "465  -0.456220  0.961200 -0.571370  0.36061  -162.3500 -2.382200 -0.456220   \n",
       "3424 -0.092924  0.083884  0.434580  6.18070    32.9990  0.000000 -0.092924   \n",
       "1448  0.112960  0.611130  0.276980  1.47860    40.7220  0.000000  0.140200   \n",
       "1126  0.194540  0.558300  0.281430  1.58800     5.1795  0.194540  0.242840   \n",
       "2706  0.018991  0.486210  0.510350  2.13540    32.6130  0.000000  0.026944   \n",
       "1893  0.093260  0.131310  0.264650  3.01550    72.0980  0.093260  0.089028   \n",
       "4525 -0.240850  1.017600 -0.171260  0.82642  -123.4500 -0.508910 -0.240850   \n",
       "1729  0.059045  0.339000  0.180410  2.15560    16.0720  0.000000  0.073548   \n",
       "4155  0.118540  0.519460  0.376420  1.96150   -80.0580  0.000000  0.118540   \n",
       "2409  0.037645  2.646100 -2.564500  0.03086 -9832.4000 -1.765700  0.037645   \n",
       "2583  0.041379  0.816310 -0.082610  0.87465   -73.6710 -0.149920  0.053565   \n",
       "2309 -0.052367  0.813330  0.404560  1.73890    -7.5625 -0.467450 -0.052367   \n",
       "642   0.001105  0.865170  0.129840  1.15010  -593.3900  0.000000  0.001105   \n",
       "4554 -0.224350  1.425600 -0.749700  0.47412  -209.9500 -2.222300 -0.224350   \n",
       "2960 -0.011893  0.208050  0.705740  4.39220    85.1160 -0.011893 -0.012882   \n",
       "2705  0.097567  0.178560  0.465540  3.60720    49.3490  0.000000  0.097567   \n",
       "1456 -0.382360  1.272300 -0.445760  0.29254  -118.5200 -0.221030 -0.382360   \n",
       "151  -0.065217  0.747170 -0.029124  0.92549  -174.4700  0.052782 -0.065217   \n",
       "\n",
       "             X8       X9       X10  ...        X57      X58       X59  \\\n",
       "3081   0.699980  0.98627  0.411760  ...   0.069870  0.95147  0.000000   \n",
       "465    0.040371  1.26770  0.038805  ... -11.757000  1.35290  0.000000   \n",
       "3424  10.921000  3.82920  0.916120  ...  -0.101430  1.02960  0.000000   \n",
       "1448   0.636240  2.17740  0.388830  ...   0.290510  0.86339  0.000000   \n",
       "1126   0.767590  1.05600  0.428550  ...   0.453940  0.94694  0.185940   \n",
       "2706   1.056700  3.38240  0.513790  ...   0.036962  0.99214  0.027089   \n",
       "1893   6.223700  1.03480  0.817220  ...   0.114120  0.96637  0.000000   \n",
       "4525  -0.017269  1.15400 -0.017572  ...  13.706000  1.17720  0.000000   \n",
       "1729   1.949800  3.36750  0.661000  ...   0.089327  0.97725  0.010979   \n",
       "4155   0.925060  1.17810  0.480540  ...   0.246670  0.88039  0.259280   \n",
       "2409  -0.622090  0.18154 -1.646100  ...  -0.022869  0.32979  0.000000   \n",
       "2583   0.225030  1.54690  0.183690  ...   0.225270  0.96685  0.677110   \n",
       "2309   0.229520  6.96230  0.186670  ...  -0.280530  0.99729  1.424000   \n",
       "642    0.155220  0.45811  0.134290  ...   0.008228  0.99740  0.000000   \n",
       "4554  -0.298540  2.06050 -0.425590  ...   0.527140  1.10890  0.000000   \n",
       "2960   3.560000  1.02070  0.740650  ...  -0.016058  0.97974  0.000000   \n",
       "2705   4.600200  2.67580  0.821410  ...   0.118780  0.96327  0.000000   \n",
       "1456  -0.214050  1.23640 -0.272330  ...   1.404000  1.26400  0.000000   \n",
       "151    0.338380  0.59615  0.252830  ...  -0.257950  1.10870  1.156700   \n",
       "\n",
       "            X60      X61        X62        X63        X64  y_real  y_pred  \n",
       "3081   2.609000   3.4109   168.6600   2.164100    3.03130       1       0  \n",
       "465    7.840400   9.6676   257.2900   1.418600    1.87050       0       1  \n",
       "3424  51.735000   9.5004     7.9957  45.649000    7.95210       1       0  \n",
       "1448  50.177000   4.6912    97.0160   3.762300   15.09700       1       0  \n",
       "1126  20.295000  14.5280    39.3010   9.287300   18.52500       1       0  \n",
       "2706  19.852000  12.7320    48.5050   7.524900   84.24800       1       0  \n",
       "1893  83.616000   6.6616    36.1150  10.107000    2.19700       1       0  \n",
       "4525   9.898900   2.1967   312.0500   1.169700    6.24960       1       0  \n",
       "1729  96.038000  18.1500    16.9210  21.571000    5.07560       1       0  \n",
       "4155   1.962500   7.1645   121.3000   3.009000    5.08030       1       0  \n",
       "2409  63.037047  57.4500  5320.3000   0.068605    0.19768       1       0  \n",
       "2583  10.895000   7.3090   155.5100   2.347200    3.65220       1       0  \n",
       "2309  12.656000  17.9030    28.7030  12.716000  145.24000       1       0  \n",
       "642    0.517930   4.2589   689.3200   0.529510  102.79000       1       0  \n",
       "4554   3.853700  15.2390   252.5300   1.445400    6.35760       0       1  \n",
       "2960   7.795700   4.4666    39.2340   9.303200   22.45100       1       0  \n",
       "2705  24.103000   8.1366    24.3570  14.986000    7.51850       1       0  \n",
       "1456  13.120000  13.9710   186.0100   1.962300    1.51580       1       0  \n",
       "151    2.685900   7.2746   239.3200   1.525200    0.93404       1       0  \n",
       "\n",
       "[19 rows x 65 columns]"
      ]
     },
     "execution_count": 59,
     "metadata": {},
     "output_type": "execute_result"
    },
    {
     "name": "stdout",
     "output_type": "stream",
     "text": [
      "the data that are mispredicted\n"
     ]
    }
   ],
   "source": [
    "y_test_pred = voting_pipeline.predict(X_test)\n",
    "\n",
    "mistake_predict = y_test_pred != y_test\n",
    "result = X_test.copy()\n",
    "result['y_real'] = y_test\n",
    "result['y_pred'] = y_test_pred\n",
    "result.loc[mistake_predict]\n",
    "print(\"the data that are mispredicted\")"
   ]
  },
  {
   "cell_type": "markdown",
   "metadata": {},
   "source": [
    "### Grid Search"
   ]
  },
  {
   "cell_type": "markdown",
   "metadata": {},
   "source": [
    "Try to find out the optimal max_depth and max_iteration for the classification"
   ]
  },
  {
   "cell_type": "code",
   "execution_count": 60,
   "metadata": {},
   "outputs": [
    {
     "name": "stdout",
     "output_type": "stream",
     "text": [
      "Model: VotingClassifier in-sample Accuracy: 98.6%, Recall score: 77.5%, Precision score: 100.0%,F-beta: 81.1%\n",
      "Model: VotingClassifier out-of-sample Accuracy: 95.9%, Recall score: 45.5%, Precision score: 88.2%,F-beta: 50.3%          \n"
     ]
    }
   ],
   "source": [
    "from sklearn.model_selection import GridSearchCV\n",
    "from sklearn.metrics import fbeta_score, make_scorer\n",
    "\n",
    "ftwo_scorer = make_scorer(fbeta_score, beta=2)\n",
    "\n",
    "params = {\n",
    "    'clf1__max_depth': [3,5,7],\n",
    "    'clf3__max_iter': [1000,2000,3000]\n",
    "         }\n",
    "grid_clf_pipeline = Pipeline([ \n",
    "        (\"scaler\", scaler), \n",
    "        (\"model\", GridSearchCV(estimator=together, param_grid=params,cv = 5, scoring=ftwo_scorer))\n",
    "    ])\n",
    "grid_clf_pipeline = model_pipeline(X_train, X_test, y_train, y_test, grid_clf_pipeline, name)"
   ]
  },
  {
   "cell_type": "code",
   "execution_count": 61,
   "metadata": {},
   "outputs": [
    {
     "data": {
      "text/plain": [
       "Pipeline(steps=[('scaler', StandardScaler()),\n",
       "                ('model',\n",
       "                 VotingClassifier(estimators=[('clf1',\n",
       "                                               RandomForestClassifier(max_depth=5)),\n",
       "                                              ('clf2', AdaBoostClassifier()),\n",
       "                                              ('clf3',\n",
       "                                               MLPClassifier(alpha=1,\n",
       "                                                             max_iter=3000)),\n",
       "                                              ('clf4',\n",
       "                                               GradientBoostingClassifier())],\n",
       "                                  weights=[1, 1, 2, 5]))])"
      ]
     },
     "execution_count": 61,
     "metadata": {},
     "output_type": "execute_result"
    }
   ],
   "source": [
    "X_all = X\n",
    "\n",
    "final_imputer_uni = SimpleImputer(missing_values=np.nan, strategy='mean')\n",
    "X_all[X_all.columns] = final_imputer_uni.fit_transform(X_all[X_all.columns])\n",
    "\n",
    "final_imputer_multi = KNNImputer(n_neighbors=10, weights=\"uniform\")\n",
    "X_all[X_all.columns] = final_imputer_multi.fit_transform(X_all[X_all.columns])\n",
    "\n",
    "#X_all_over, y_over = sampling(X_all, y)\n",
    "\n",
    "\n",
    "## model\n",
    "clf1 = RandomForestClassifier(max_depth = list(grid_clf_pipeline['model'].best_params_.values())[0])\n",
    "clf2 = AdaBoostClassifier()\n",
    "clf3 = MLPClassifier(alpha=1, max_iter=list(grid_clf_pipeline['model'].best_params_.values())[1])\n",
    "clf4 = GradientBoostingClassifier(n_estimators=100)\n",
    "\n",
    "name = 'VotingClassifier'\n",
    "together = VotingClassifier(estimators=\n",
    "                        [\n",
    "                         ('clf1', clf1),\n",
    "                         ('clf2', clf2), \n",
    "                         ('clf3', clf3),\n",
    "                         ('clf4', clf4)],                        \n",
    "                        weights=[1,1,2,5],\n",
    "                        voting='hard') \n",
    "\n",
    "final_pipeline = Pipeline([ \n",
    "        (\"scaler\", scaler), \n",
    "        (\"model\", together)\n",
    "    ])\n",
    "\n",
    "final_pipeline.fit(X_all, y)"
   ]
  },
  {
   "cell_type": "code",
   "execution_count": 62,
   "metadata": {},
   "outputs": [
    {
     "name": "stdout",
     "output_type": "stream",
     "text": [
      "Data shape:  (1092, 65)\n"
     ]
    }
   ],
   "source": [
    "holdout_data = pd.read_csv( os.path.join(DATA_DIR, \"holdout\", '5th_yr.csv') )\n",
    "\n",
    "print(\"Data shape: \", holdout_data.shape)\n"
   ]
  },
  {
   "cell_type": "markdown",
   "metadata": {},
   "source": [
    "We will evaluate your model on the holdout examples using metrics\n",
    "- Accuracy\n",
    "- Recall\n",
    "- Precision\n",
    "\n",
    "From our lecture: we may have to make a trade-off between Recall and Precision.\n",
    "\n",
    "Our evaluation of your submission will be partially based on how you made (and described) the trade-off.\n",
    "\n",
    "You may assume that it is 5 times worse to *fail to identify a company that will go bankrupt*\n",
    "than it is to fail to identify a company that won't go bankrupt."
   ]
  },
  {
   "cell_type": "markdown",
   "metadata": {},
   "source": [
    "# Your model\n",
    "\n",
    "Time for you to continue the Recipe for Machine Learning on your own.\n",
    "\n"
   ]
  },
  {
   "cell_type": "markdown",
   "metadata": {},
   "source": [
    "## Submission guidelines\n",
    "\n",
    "Although your notebook may contain many models (e.g., due to your iterative development)\n",
    "we will only evaluate a single model.\n",
    "So choose one (explain why !) and do the following.\n",
    "\n",
    "- You will implement the body of a subroutine `MyModel`\n",
    "    - That takes as argument a Pandas DataFrame \n",
    "        - Each row is an example on which to predict\n",
    "        - The features of the example are elements of the row\n",
    "    - Performs predictions on each example\n",
    "    - Returns an array or predictions with a one-to-one correspondence with the examples in the test set\n",
    "    "
   ]
  },
  {
   "cell_type": "markdown",
   "metadata": {},
   "source": [
    "We will evaluate your model against the holdout data\n",
    "- By reading the holdout examples `X_hold` (as above)\n",
    "- Calling `y_hold_pred = MyModel(X_hold)` to get the predictions\n",
    "- Comparing the predicted values `y_hold_pred` against the true labels `y_hold` which are known only to the instructors\n",
    "\n",
    "See the following cell as an illustration"
   ]
  },
  {
   "cell_type": "raw",
   "metadata": {},
   "source": [
    "# Give the model a name (will appear in the print statement)\n",
    "name = \"CLF_class\"\n",
    "\n",
    "X_hold = pd.read_csv( os.path.join(DATA_DIR, \"holdout\", '5th_yr.csv') )\n",
    "\n",
    "# Predict using MyModel\n",
    "y_hold_pred = MyModel(X_hold)\n",
    "\n",
    "# Compute metrics\n",
    "# accuracy\n",
    "accuracy_hold = accuracy_score(y_hold, y_hold_pred)\n",
    "\n",
    "# recall_\n",
    "recall_hold = recall_score(y_hold, y_hold_pred, pos_label=1, average=\"binary\")\n",
    "\n",
    "# precision\n",
    "precision_hold = precision_score(y_hold,   y_hold_pred, pos_label=1, average=\"binary\")\n",
    "\n",
    "\n",
    "print(\"\\t{m:s} Accuracy: {a:3.1%}, Recall {r:3.1%}, Precision {p:3.1%}\".format(m=name,\n",
    "                                                                            a=accuracy_hold,\n",
    "                                                                            r=recall_hold,\n",
    "                                                                            p=precision_hold\n",
    "                                                                            )\n",
    "         )"
   ]
  },
  {
   "cell_type": "markdown",
   "metadata": {},
   "source": [
    "**Remember**\n",
    "\n",
    "The holdout data is in the same format as the one we used for training\n",
    "- Except that it has no attribute for the target\n",
    "- So you will need to perform all the transformations on the holdout data\n",
    "    - As you did on the training data\n",
    "    - Including turning the string representation of numbers into actual numeric data types\n",
    "\n",
    "All of this work *must* be performed within the body of the `MyModel` routine you will write\n",
    "\n",
    "We will grade you by comparing the predictions array you create to the answers known to us."
   ]
  },
  {
   "cell_type": "code",
   "execution_count": 63,
   "metadata": {},
   "outputs": [
    {
     "ename": "NameError",
     "evalue": "name 'y_hold' is not defined",
     "output_type": "error",
     "traceback": [
      "\u001b[0;31m---------------------------------------------------------------------------\u001b[0m",
      "\u001b[0;31mNameError\u001b[0m                                 Traceback (most recent call last)",
      "\u001b[0;32m<ipython-input-63-5a0551d27f83>\u001b[0m in \u001b[0;36m<module>\u001b[0;34m\u001b[0m\n\u001b[1;32m     19\u001b[0m \u001b[0my_hold_pred\u001b[0m \u001b[0;34m=\u001b[0m \u001b[0mMyModel\u001b[0m\u001b[0;34m(\u001b[0m\u001b[0mholdout_data\u001b[0m\u001b[0;34m)\u001b[0m\u001b[0;34m\u001b[0m\u001b[0;34m\u001b[0m\u001b[0m\n\u001b[1;32m     20\u001b[0m \u001b[0;34m\u001b[0m\u001b[0m\n\u001b[0;32m---> 21\u001b[0;31m \u001b[0maccuracy_hold\u001b[0m \u001b[0;34m=\u001b[0m \u001b[0maccuracy_score\u001b[0m\u001b[0;34m(\u001b[0m\u001b[0my_hold\u001b[0m\u001b[0;34m,\u001b[0m \u001b[0my_hold_pred\u001b[0m\u001b[0;34m)\u001b[0m\u001b[0;34m\u001b[0m\u001b[0;34m\u001b[0m\u001b[0m\n\u001b[0m\u001b[1;32m     22\u001b[0m \u001b[0mrecall_hold\u001b[0m \u001b[0;34m=\u001b[0m \u001b[0mrecall_score\u001b[0m\u001b[0;34m(\u001b[0m\u001b[0my_hold\u001b[0m\u001b[0;34m,\u001b[0m \u001b[0my_hold_pred\u001b[0m\u001b[0;34m,\u001b[0m \u001b[0mpos_label\u001b[0m\u001b[0;34m=\u001b[0m\u001b[0;36m1\u001b[0m\u001b[0;34m,\u001b[0m \u001b[0maverage\u001b[0m\u001b[0;34m=\u001b[0m\u001b[0;34m\"binary\"\u001b[0m\u001b[0;34m)\u001b[0m\u001b[0;34m\u001b[0m\u001b[0;34m\u001b[0m\u001b[0m\n\u001b[1;32m     23\u001b[0m \u001b[0mprecision_hold\u001b[0m \u001b[0;34m=\u001b[0m \u001b[0mprecision_score\u001b[0m\u001b[0;34m(\u001b[0m\u001b[0my_hold\u001b[0m\u001b[0;34m,\u001b[0m \u001b[0my_hold_pred\u001b[0m\u001b[0;34m,\u001b[0m \u001b[0mpos_label\u001b[0m\u001b[0;34m=\u001b[0m\u001b[0;36m1\u001b[0m\u001b[0;34m,\u001b[0m \u001b[0maverage\u001b[0m\u001b[0;34m=\u001b[0m\u001b[0;34m\"binary\"\u001b[0m\u001b[0;34m)\u001b[0m\u001b[0;34m\u001b[0m\u001b[0;34m\u001b[0m\u001b[0m\n",
      "\u001b[0;31mNameError\u001b[0m: name 'y_hold' is not defined"
     ]
    }
   ],
   "source": [
    "\n",
    "import pandas as pd\n",
    "import os\n",
    "name = \"CLF_class\"\n",
    "\n",
    "def MyModel(X):\n",
    "    # It should create an array of predictions; we initialize it to the empty array for convenience\n",
    "    predictions = []\n",
    "    X = X.drop(columns=['Id'])\n",
    "    X = X.drop(columns=['X37'])\n",
    "    for col in X:\n",
    "        X[col]=pd.to_numeric(X[col], errors='coerce')\n",
    "    #X[X.columns] = final_imputer_uni.transform(X[X.columns])\n",
    "    X[X.columns] = final_imputer_multi.transform(X[X.columns])\n",
    "    \n",
    "    \n",
    "    predictions = final_pipeline.predict(X)\n",
    "    return predictions\n",
    "\n",
    "y_hold_pred = MyModel(holdout_data)\n",
    "\n",
    "accuracy_hold = accuracy_score(y_hold, y_hold_pred)\n",
    "recall_hold = recall_score(y_hold, y_hold_pred, pos_label=1, average=\"binary\")\n",
    "precision_hold = precision_score(y_hold, y_hold_pred, pos_label=1, average=\"binary\")\n"
   ]
  },
  {
   "cell_type": "code",
   "execution_count": 74,
   "metadata": {},
   "outputs": [
    {
     "data": {
      "text/plain": [
       "array([0, 0, 0, ..., 0, 0, 0])"
      ]
     },
     "execution_count": 74,
     "metadata": {},
     "output_type": "execute_result"
    }
   ],
   "source": [
    "X_hold = pd.read_csv( os.path.join(DATA_DIR, \"holdout\", '5th_yr.csv') )\n",
    "y_hold_pred = MyModel(X_hold)\n",
    "y_hold_pred"
   ]
  },
  {
   "cell_type": "code",
   "execution_count": 75,
   "metadata": {},
   "outputs": [
    {
     "ename": "NameError",
     "evalue": "name 'y_hold' is not defined",
     "output_type": "error",
     "traceback": [
      "\u001b[0;31m---------------------------------------------------------------------------\u001b[0m",
      "\u001b[0;31mNameError\u001b[0m                                 Traceback (most recent call last)",
      "\u001b[0;32m<ipython-input-75-66b7c4a3029a>\u001b[0m in \u001b[0;36m<module>\u001b[0;34m\u001b[0m\n\u001b[0;32m----> 1\u001b[0;31m \u001b[0maccuracy_hold\u001b[0m \u001b[0;34m=\u001b[0m \u001b[0maccuracy_score\u001b[0m\u001b[0;34m(\u001b[0m\u001b[0my_hold\u001b[0m\u001b[0;34m,\u001b[0m \u001b[0my_hold_pred\u001b[0m\u001b[0;34m)\u001b[0m\u001b[0;34m\u001b[0m\u001b[0;34m\u001b[0m\u001b[0m\n\u001b[0m\u001b[1;32m      2\u001b[0m \u001b[0mrecall_hold\u001b[0m \u001b[0;34m=\u001b[0m \u001b[0mrecall_score\u001b[0m\u001b[0;34m(\u001b[0m\u001b[0my_hold\u001b[0m\u001b[0;34m,\u001b[0m \u001b[0my_hold_pred\u001b[0m\u001b[0;34m,\u001b[0m \u001b[0mpos_label\u001b[0m\u001b[0;34m=\u001b[0m\u001b[0;36m1\u001b[0m\u001b[0;34m,\u001b[0m \u001b[0maverage\u001b[0m\u001b[0;34m=\u001b[0m\u001b[0;34m\"binary\"\u001b[0m\u001b[0;34m)\u001b[0m\u001b[0;34m\u001b[0m\u001b[0;34m\u001b[0m\u001b[0m\n\u001b[1;32m      3\u001b[0m \u001b[0mprecision_hold\u001b[0m \u001b[0;34m=\u001b[0m \u001b[0mprecision_score\u001b[0m\u001b[0;34m(\u001b[0m\u001b[0my_hold\u001b[0m\u001b[0;34m,\u001b[0m \u001b[0my_hold_pred\u001b[0m\u001b[0;34m,\u001b[0m \u001b[0mpos_label\u001b[0m\u001b[0;34m=\u001b[0m\u001b[0;36m1\u001b[0m\u001b[0;34m,\u001b[0m \u001b[0maverage\u001b[0m\u001b[0;34m=\u001b[0m\u001b[0;34m\"binary\"\u001b[0m\u001b[0;34m)\u001b[0m\u001b[0;34m\u001b[0m\u001b[0;34m\u001b[0m\u001b[0m\n\u001b[1;32m      4\u001b[0m \u001b[0;34m\u001b[0m\u001b[0m\n\u001b[1;32m      5\u001b[0m print(\"\\t{m:s} Accuracy: {a:3.1%}, Recall {r:3.1%}, Precision {p:3.1%}\".format(m=name,\n",
      "\u001b[0;31mNameError\u001b[0m: name 'y_hold' is not defined"
     ]
    }
   ],
   "source": [
    "accuracy_hold = accuracy_score(y_hold, y_hold_pred)\n",
    "recall_hold = recall_score(y_hold, y_hold_pred, pos_label=1, average=\"binary\")\n",
    "precision_hold = precision_score(y_hold, y_hold_pred, pos_label=1, average=\"binary\")\n",
    "\n",
    "print(\"\\t{m:s} Accuracy: {a:3.1%}, Recall {r:3.1%}, Precision {p:3.1%}\".format(m=name,\n",
    "                                                                            a=accuracy_hold,\n",
    "                                                                            r=recall_hold,\n",
    "                                                                            p=precision_hold\n",
    "                                                                            )\n",
    "         )"
   ]
  },
  {
   "cell_type": "markdown",
   "metadata": {},
   "source": [
    "# Check your work: predict and evaluate metrics on *your* test examples\n",
    "\n",
    "Although only the instructors have the correct labels for the holdout dataset, you may want\n",
    "to create your own test dataset on which to evaluate your out of sample metrics.\n",
    "\n",
    "If you choose to do so, you can evaluate your models using the same metrics that the instructors will use.\n",
    "\n",
    "- Test whether your implementation of `MyModel` works\n",
    "- See the metrics  your model produces\n",
    "\n",
    "The following cell\n",
    "- Assumes that you have created `X_test, y_test` as your proxy for an out of sample dataset\n",
    "    - It serves the same function as `X_hold`, the holdout dataset, but you have the associated target (only the instructors have `y_hold`)"
   ]
  },
  {
   "cell_type": "code",
   "execution_count": 90,
   "metadata": {},
   "outputs": [],
   "source": [
    "from sklearn.utils import shuffle\n",
    "data = pd.read_csv( os.path.join(DATA_DIR, \"holdout\", \"5th_yr_with_target.csv\") )\n",
    "\n",
    "X = data.drop([\"Bankrupt\"], axis=1)\n",
    "y = data[\"Bankrupt\"]\n",
    "y, X = sklearn.utils.shuffle(y, X,random_state = 42)\n",
    "\n",
    "X_check_train, X_check_test, y_check_train, y_check_test = train_test_split(X, y, test_size=0.2,random_state=42)"
   ]
  },
  {
   "cell_type": "code",
   "execution_count": 91,
   "metadata": {},
   "outputs": [
    {
     "name": "stdout",
     "output_type": "stream",
     "text": [
      "\tself-created classification calss to predict bankruptcy Accuracy: 95.4%, Recall 40.0%, Precision 85.7%\n"
     ]
    }
   ],
   "source": [
    "name = \"self-created classification calss to predict bankruptcy\"\n",
    "y_test_pred = MyModel(X_check_test)\n",
    "y_test= y_check_test\n",
    "accuracy_test = accuracy_score(y_test, y_test_pred)\n",
    "recall_test = recall_score(y_test, y_test_pred, pos_label=1, average=\"binary\")\n",
    "precision_test = precision_score(y_test, y_test_pred, pos_label=1, average=\"binary\")\n",
    "print(\"\\t{m:s} Accuracy: {a:3.1%}, Recall {r:3.1%}, Precision {p:3.1%}\".format(m=name,\n",
    "                                                                            a=accuracy_test,\n",
    "                                                                            r=recall_test,\n",
    "                                                                            p=precision_test\n",
    "                                                                            )\n",
    "         )"
   ]
  },
  {
   "cell_type": "raw",
   "metadata": {},
   "source": [
    "# Give the model a name (will appear in the print statement)\n",
    "name = \"Choose a descriptive name for your model\"\n",
    "\n",
    "y_test_pred = MyModel(X_test)\n",
    "\n",
    "accuracy_test = accuracy_score(y_test, y_test_pred)\n",
    "recall_test = recall_score(y_test, y_test_pred, pos_label=1, average=\"binary\")\n",
    "precision_test = precision_score(y_test,   y_test_pred, pos_label=1, average=\"binary\")\n",
    "\n",
    "print(\"\\t{m:s} Accuracy: {a:3.1%}, Recall {r:3.1%}, Precision {p:3.1%}\".format(m=name,\n",
    "                                                                            a=accuracy_test,\n",
    "                                                                            r=recall_test,\n",
    "                                                                            p=precision_test\n",
    "                                                                            )\n",
    "         )"
   ]
  },
  {
   "cell_type": "code",
   "execution_count": null,
   "metadata": {},
   "outputs": [],
   "source": []
  }
 ],
 "metadata": {
  "kernelspec": {
   "display_name": "Python 3",
   "language": "python",
   "name": "python3"
  },
  "language_info": {
   "codemirror_mode": {
    "name": "ipython",
    "version": 3
   },
   "file_extension": ".py",
   "mimetype": "text/x-python",
   "name": "python",
   "nbconvert_exporter": "python",
   "pygments_lexer": "ipython3",
   "version": "3.7.7"
  },
  "toc": {
   "base_numbering": 1,
   "nav_menu": {},
   "number_sections": true,
   "sideBar": true,
   "skip_h1_title": false,
   "title_cell": "Table of Contents",
   "title_sidebar": "Contents",
   "toc_cell": false,
   "toc_position": {
    "height": "calc(100% - 180px)",
    "left": "10px",
    "top": "150px",
    "width": "165px"
   },
   "toc_section_display": true,
   "toc_window_display": true
  }
 },
 "nbformat": 4,
 "nbformat_minor": 2
}
